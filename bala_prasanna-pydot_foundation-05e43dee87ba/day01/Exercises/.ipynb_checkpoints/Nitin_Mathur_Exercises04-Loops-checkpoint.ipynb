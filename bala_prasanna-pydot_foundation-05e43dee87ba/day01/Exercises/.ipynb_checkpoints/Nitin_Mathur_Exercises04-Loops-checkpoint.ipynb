{
 "cells": [
  {
   "cell_type": "markdown",
   "metadata": {},
   "source": [
    "## Exercise 1 "
   ]
  },
  {
   "cell_type": "markdown",
   "metadata": {},
   "source": [
    "Feel free to look at the answer first. This exercise contains some new concepts. \n",
    "\n",
    "Write a program that generates a random number (0-10) and ask you to guess it. You have three asserts.\n",
    "\n",
    "Define a random_number with randit between 0-10.\n",
    "Initialize guesses_left to 3.\n",
    "Use a while loop to let the user keep guessing so long as guesses_left is greater than zero.\n",
    "Ask the user for their guess, just like the second example above.\n",
    "If they guess correctly, print 'You win!' and break. Decrement guesses_left by one.\n",
    "Use an else: case after your while loop to print:You lose."
   ]
  },
  {
   "cell_type": "code",
   "execution_count": 13,
   "metadata": {
    "collapsed": false
   },
   "outputs": [
    {
     "name": "stdout",
     "output_type": "stream",
     "text": [
      "7\n",
      "4\n",
      "7\n",
      "You Win\n"
     ]
    }
   ],
   "source": [
    "from random import randint\n",
    "random_number = randint(0,10)\n",
    "print random_number\n",
    "guesses = 3\n",
    "guesses_left = 0\n",
    "win = False\n",
    "while guesses_left < guesses:\n",
    "    user_guess = int(raw_input())\n",
    "    if user_guess == random_number:\n",
    "        win = True\n",
    "        break\n",
    "    else:\n",
    "        guesses_left+=1\n",
    "\n",
    "if win:\n",
    "    print (\"You Win\")\n",
    "else:\n",
    "    print (\"You Lose\")"
   ]
  },
  {
   "cell_type": "markdown",
   "metadata": {},
   "source": [
    "## Exercise 2"
   ]
  },
  {
   "cell_type": "markdown",
   "metadata": {},
   "source": [
    "Create a for loop that prompts the user for a hobby 3 times, then appends each one to hobbies. (A list)"
   ]
  },
  {
   "cell_type": "code",
   "execution_count": 1,
   "metadata": {
    "collapsed": false
   },
   "outputs": [
    {
     "name": "stdout",
     "output_type": "stream",
     "text": [
      "Enter Hobby : \n",
      "a\n",
      "Enter Hobby : \n",
      "a\n",
      "Enter Hobby : \n",
      "a\n",
      "['a', 'a', 'a']\n"
     ]
    }
   ],
   "source": [
    "list =[]\n",
    "for i in range (0,3):\n",
    "    print(\"Enter Hobby : \")\n",
    "    list.append(raw_input())\n",
    "print list"
   ]
  },
  {
   "cell_type": "markdown",
   "metadata": {},
   "source": [
    "## Exercise 3"
   ]
  },
  {
   "cell_type": "raw",
   "metadata": {},
   "source": [
    "Remember: The , character after our print statement means that our next print statement keeps printing on the same line. Let's filter out the letter 'A' from our string.\n",
    "\n",
    "phrase = \"A bird in the hand...\"\n",
    "Do the following for each character in the phrase.\n",
    "- If char is an 'A' or char is an 'a', print 'X', instead of the char. Make sure to include the trailing comma.\n",
    "- Otherwise (else:), please print char, with the trailing comma."
   ]
  },
  {
   "cell_type": "code",
   "execution_count": 2,
   "metadata": {
    "collapsed": false
   },
   "outputs": [
    {
     "name": "stdout",
     "output_type": "stream",
     "text": [
      "X   b i r d   i n   t h e   h X n d . . .\n"
     ]
    }
   ],
   "source": [
    "phrase = \"A bird in the hand...\"\n",
    "strlength = len(phrase)\n",
    "index = 0\n",
    "while index != strlength:\n",
    "    if phrase[index] == 'A' or  phrase[index] == 'a':\n",
    "        print \"X\",\n",
    "    else:\n",
    "        print phrase[index],\n",
    "    index+=1"
   ]
  },
  {
   "cell_type": "markdown",
   "metadata": {},
   "source": [
    "## Exercise 4"
   ]
  },
  {
   "cell_type": "raw",
   "metadata": {},
   "source": [
    "Let's try a factorial problem. To calculate the factorial of a non-negative integer x, just multiply all the integers from 1 through x. For example: 3! is equal to 123"
   ]
  },
  {
   "cell_type": "code",
   "execution_count": 6,
   "metadata": {
    "collapsed": false
   },
   "outputs": [
    {
     "data": {
      "text/plain": [
       "6"
      ]
     },
     "execution_count": 6,
     "metadata": {},
     "output_type": "execute_result"
    }
   ],
   "source": [
    "def factorial (number):\n",
    "    index, retVal = 1, 1\n",
    "    while (index <= number):\n",
    "        retVal *= index  \n",
    "        index+=1\n",
    "    return retVal\n",
    "\n",
    "factorial(3)"
   ]
  }
 ],
 "metadata": {
  "kernelspec": {
   "display_name": "Python 2",
   "language": "python",
   "name": "python2"
  },
  "language_info": {
   "codemirror_mode": {
    "name": "ipython",
    "version": 2
   },
   "file_extension": ".py",
   "mimetype": "text/x-python",
   "name": "python",
   "nbconvert_exporter": "python",
   "pygments_lexer": "ipython2",
   "version": "2.7.13"
  }
 },
 "nbformat": 4,
 "nbformat_minor": 2
}
