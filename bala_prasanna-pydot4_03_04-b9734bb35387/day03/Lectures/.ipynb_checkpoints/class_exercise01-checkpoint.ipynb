{
 "cells": [
  {
   "cell_type": "code",
   "execution_count": 27,
   "metadata": {
    "collapsed": false
   },
   "outputs": [
    {
     "name": "stdout",
     "output_type": "stream",
     "text": [
      "september\n",
      "october\n",
      "november\n",
      "december\n"
     ]
    }
   ],
   "source": [
    "#Read the file months.txt\n",
    "#Print only the strings with ends with \"er\"\n",
    "\n",
    "with open (\"months.txt\") as f:\n",
    "    for line in f:\n",
    "        if line.strip().endswith(\"er\"):\n",
    "            print line.strip().lower()"
   ]
  },
  {
   "cell_type": "code",
   "execution_count": 35,
   "metadata": {
    "collapsed": false,
    "scrolled": true
   },
   "outputs": [],
   "source": [
    "with open (\"months.txt\") as f:\n",
    "    for line in f:\n",
    "        line = line.strip()\n",
    "        expected_index = len(line) - 2\n",
    "        if line.endswith(\"er\") == expected_index:\n",
    "            print line.strip().lower()"
   ]
  },
  {
   "cell_type": "code",
   "execution_count": 36,
   "metadata": {
    "collapsed": false
   },
   "outputs": [
    {
     "data": {
      "text/plain": [
       "['d:\\\\anaconda2\\\\lib\\\\site-packages\\\\ipykernel\\\\__main__.py',\n",
       " '-f',\n",
       " 'C:\\\\Users\\\\NMath7167444\\\\AppData\\\\Roaming\\\\jupyter\\\\runtime\\\\kernel-f35e6284-2304-4d4b-8ac6-3b0b20097139.json']"
      ]
     },
     "execution_count": 36,
     "metadata": {},
     "output_type": "execute_result"
    }
   ],
   "source": [
    "import sys as s\n",
    "s.argv"
   ]
  },
  {
   "cell_type": "code",
   "execution_count": null,
   "metadata": {
    "collapsed": true
   },
   "outputs": [],
   "source": [
    "import math\n",
    "#attributes\n",
    "math.pi\n",
    "\n",
    "#methods/ class\n",
    "math.ceil(4.5)\n"
   ]
  },
  {
   "cell_type": "code",
   "execution_count": 40,
   "metadata": {
    "collapsed": false
   },
   "outputs": [],
   "source": [
    "import csv\n",
    "with open (\"quiz.csv\", 'wb') as csvfile:\n",
    "    csv_writer = csv.writer(csvfile)\n",
    "    header = [\"S.No\", \"Question Name\"]\n",
    "    ques   = [\"How are you?\",\n",
    "               \"How old are you?\"]\n",
    "    csv_writer.writerow(header)\n",
    "    #writing data rows\n",
    "    for index, qu in enumerate(ques):\n",
    "        csv_writer.writerow(ques)\n",
    "    "
   ]
  },
  {
   "cell_type": "code",
   "execution_count": null,
   "metadata": {
    "collapsed": true
   },
   "outputs": [],
   "source": [
    "#cpu and memory csv\n",
    "#unix time, \n",
    "\n",
    "#construct a csv file, capture cpu usage. memory usage and append a row every 5 seconds\n",
    "#you can use time.delay(); you can later on plot the machine performance at a given time; \n",
    "#you could run the program indefinitely to get perf-details about your laptop\n",
    "\n",
    "\n",
    "!conda install psutil\n",
    "import psutil\n"
   ]
  },
  {
   "cell_type": "code",
   "execution_count": 41,
   "metadata": {
    "collapsed": false
   },
   "outputs": [
    {
     "name": "stdout",
     "output_type": "stream",
     "text": [
      "Help on class DictReader in module csv:\n",
      "\n",
      "class DictReader\n",
      " |  Methods defined here:\n",
      " |  \n",
      " |  __init__(self, f, fieldnames=None, restkey=None, restval=None, dialect='excel', *args, **kwds)\n",
      " |  \n",
      " |  __iter__(self)\n",
      " |  \n",
      " |  next(self)\n",
      " |  \n",
      " |  ----------------------------------------------------------------------\n",
      " |  Data descriptors defined here:\n",
      " |  \n",
      " |  fieldnames\n",
      "\n"
     ]
    }
   ],
   "source": [
    "help (csv.DictReader)"
   ]
  },
  {
   "cell_type": "code",
   "execution_count": 42,
   "metadata": {
    "collapsed": false,
    "scrolled": true
   },
   "outputs": [
    {
     "name": "stdout",
     "output_type": "stream",
     "text": [
      "Help on class DictWriter in module csv:\n",
      "\n",
      "class DictWriter\n",
      " |  Methods defined here:\n",
      " |  \n",
      " |  __init__(self, f, fieldnames, restval='', extrasaction='raise', dialect='excel', *args, **kwds)\n",
      " |  \n",
      " |  writeheader(self)\n",
      " |  \n",
      " |  writerow(self, rowdict)\n",
      " |  \n",
      " |  writerows(self, rowdicts)\n",
      "\n"
     ]
    }
   ],
   "source": [
    "help(csv.DictWriter)"
   ]
  },
  {
   "cell_type": "code",
   "execution_count": null,
   "metadata": {
    "collapsed": true
   },
   "outputs": [],
   "source": []
  }
 ],
 "metadata": {
  "kernelspec": {
   "display_name": "Python 2",
   "language": "python",
   "name": "python2"
  },
  "language_info": {
   "codemirror_mode": {
    "name": "ipython",
    "version": 2
   },
   "file_extension": ".py",
   "mimetype": "text/x-python",
   "name": "python",
   "nbconvert_exporter": "python",
   "pygments_lexer": "ipython2",
   "version": "2.7.13"
  }
 },
 "nbformat": 4,
 "nbformat_minor": 0
}
