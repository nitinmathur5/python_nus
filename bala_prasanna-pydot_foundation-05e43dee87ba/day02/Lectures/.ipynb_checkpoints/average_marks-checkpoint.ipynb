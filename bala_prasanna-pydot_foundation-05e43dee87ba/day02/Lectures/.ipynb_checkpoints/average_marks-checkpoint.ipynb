{
 "cells": [
  {
   "cell_type": "code",
   "execution_count": 12,
   "metadata": {
    "collapsed": false
   },
   "outputs": [
    {
     "name": "stdout",
     "output_type": "stream",
     "text": [
      "Bala\tAvg Marks: 48\n",
      "Ken\tAvg Marks: 98\n",
      "Tom\tAvg Marks: 152\n"
     ]
    }
   ],
   "source": [
    "students = [\n",
    "   {  \n",
    "       'name': \"Bala\",\n",
    "       'marks': [45,45,50,50,50],\n",
    "       'total_score' : 0,\n",
    "       'avg'         : 0.0\n",
    "   },    \n",
    "   {\n",
    "       'name': \"Ken\",\n",
    "       'marks': [55,45,50,50,50],\n",
    "       'total_score' : 0,\n",
    "       'avg'         : 0.0\n",
    "   },\n",
    "   {\n",
    "       'name': \"Tom\",\n",
    "       'marks': [75,45,50,50,50],\n",
    "       'total_score' : 0,\n",
    "       'avg'         : 0.0\n",
    "   }\n",
    "]\n",
    "#compute the total score of each student, and update the total score with that value\n",
    "#compute the average marks of each student based on the marks list\n",
    "total_score =0\n",
    "for student in students:\n",
    "    for mark in student.get('marks'):\n",
    "        total_score += mark\n",
    "    student[\"total_score\"] = total_score\n",
    "    student[\"avg\"] = total_score/(len(student.get('marks')))\n",
    "    print (student[\"name\"] + \"\\tAvg Marks: \" + str(student[\"avg\"]))"
   ]
  },
  {
   "cell_type": "code",
   "execution_count": null,
   "metadata": {
    "collapsed": true
   },
   "outputs": [],
   "source": []
  }
 ],
 "metadata": {
  "kernelspec": {
   "display_name": "Python 2",
   "language": "python",
   "name": "python2"
  },
  "language_info": {
   "codemirror_mode": {
    "name": "ipython",
    "version": 2
   },
   "file_extension": ".py",
   "mimetype": "text/x-python",
   "name": "python",
   "nbconvert_exporter": "python",
   "pygments_lexer": "ipython2",
   "version": "2.7.13"
  }
 },
 "nbformat": 4,
 "nbformat_minor": 0
}
