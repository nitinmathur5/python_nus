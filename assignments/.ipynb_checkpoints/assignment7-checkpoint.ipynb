{
 "cells": [
  {
   "cell_type": "code",
   "execution_count": null,
   "metadata": {
    "collapsed": true
   },
   "outputs": [],
   "source": [
    "'''\n",
    "inputdata = \"\"\"\n",
    "In probability theory and statistics, Bayes’ theorem (alternatively Bayes’ law or Bayes' rule) describes the probability of an event, based on prior knowledge of conditions that might be related to the event. For example, if cancer is related to age, then, using Bayes’ theorem, a person’s age can be used to more accurately assess the probability that they have cancer, compared to the assessment of the probability of cancer made without knowledge of the person's age.\n",
    "One of the many applications of Bayes' theorem is Bayesian inference, a particular approach to statistical inference. When applied, the probabilities involved in Bayes' theorem may have different probability interpretations. With the Bayesian probability interpretation the theorem expresses how a subjective degree of belief should rationally change to account for availability of related evidence. Bayesian inference is fundamental to Bayesian statistics.\n",
    "Bayes’ theorem is named after Reverend Thomas Bayes (/beɪz/; 1701–1761), who first provided an equation that allows new evidence to update beliefs in his An Essay towards solving a Problem in the Doctrine of Chances (1763). It was further developed by Pierre-Simon Laplace, who first published the modern formulation in his 1812 \"Théorie analytique des probabilités\". Sir Harold Jeffreys put Bayes’ algorithm and Laplace's formulation on an axiomatic basis. Jeffreys wrote that Bayes' theorem \"is to the theory of probability what the Pythagorean theorem is to geometry\".[1]\n",
    "\"\"\"\n",
    "\n",
    "print(inputdata)\n",
    "\n",
    "count_occurances_of_this_word(\"theoem\")\n",
    "\n",
    "# \n",
    "# theorem = 8\n",
    "# USE dictornay to store this data,\n",
    "\n",
    "#OPTIONAL\n",
    "\n",
    "#You should print the words with its occurance\n",
    "# In = 20\n",
    "# probabality = \n",
    "\n",
    "# CASE INSENSITVE\n",
    "\n",
    "# also, write it into CSV\n",
    "# Word_name, count\n",
    "# In, 10\n",
    "# theorem, 8\n",
    "'''"
   ]
  }
 ],
 "metadata": {
  "kernelspec": {
   "display_name": "Python 2",
   "language": "python",
   "name": "python2"
  },
  "language_info": {
   "codemirror_mode": {
    "name": "ipython",
    "version": 2
   },
   "file_extension": ".py",
   "mimetype": "text/x-python",
   "name": "python",
   "nbconvert_exporter": "python",
   "pygments_lexer": "ipython2",
   "version": "2.7.13"
  }
 },
 "nbformat": 4,
 "nbformat_minor": 0
}
