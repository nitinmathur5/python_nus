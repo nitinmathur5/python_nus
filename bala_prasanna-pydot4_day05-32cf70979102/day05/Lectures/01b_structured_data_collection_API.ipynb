{
 "cells": [
  {
   "cell_type": "markdown",
   "metadata": {},
   "source": [
    "#  Structured Data Collection with APIs "
   ]
  },
  {
   "cell_type": "markdown",
   "metadata": {},
   "source": [
    "## URA Example"
   ]
  },
  {
   "cell_type": "raw",
   "metadata": {},
   "source": [
    "The Urban Redevelopment Authority (URA) releases its data in an API such as current construction jobs and how long past construction projects took. Below is a sample program using the URA API. \n",
    "\n",
    "API manual: \n",
    "https://www.ura.gov.sg/maps/ura/ura_dataservice/samples/URA%20Data%20Service%20API%20User%20Manual.pdf"
   ]
  },
  {
   "cell_type": "code",
   "execution_count": 5,
   "metadata": {
    "collapsed": true
   },
   "outputs": [],
   "source": [
    "import requests\n",
    "import json\n",
    "import pandas as pd\n",
    "import csv\n",
    "from pprint import pprint"
   ]
  },
  {
   "cell_type": "code",
   "execution_count": 9,
   "metadata": {
    "collapsed": true
   },
   "outputs": [],
   "source": [
    "Tokend = '<TOKEN>'\n",
    "dict_aut = {\"AccessKey\":\"<ACCESS-KEY>\", \"Token\": Tokend}\n",
    "response1 = requests.get(\"https://www.ura.gov.sg/uraDataService/invokeUraDS?service=PMI_Resi_Transaction&batch=1\",headers = dict_aut)\n",
    "j1 = response1.json()\n",
    "l1 = j1.get(\"Result\")\n"
   ]
  },
  {
   "cell_type": "code",
   "execution_count": null,
   "metadata": {
    "collapsed": true
   },
   "outputs": [],
   "source": [
    "pd_table = pd.DataFrame(l1)\n",
    "print(pd_table)"
   ]
  },
  {
   "cell_type": "code",
   "execution_count": null,
   "metadata": {
    "collapsed": true
   },
   "outputs": [],
   "source": [
    "#this line provides the names of the columns of the dataframe pd_table\n",
    "print(pd_table.columns)\n",
    "print(type(pd_table.columns))"
   ]
  },
  {
   "cell_type": "markdown",
   "metadata": {},
   "source": [
    "#'project', 'contractDate', 'area', 'price', 'propertyType','typeOfArea', 'tenure', 'floorRange','typeOfSale', 'district', 'noOfUnits'\n",
    "#the items are from the transaction  column of the data_frame"
   ]
  },
  {
   "cell_type": "code",
   "execution_count": null,
   "metadata": {
    "collapsed": true
   },
   "outputs": [],
   "source": [
    "pd_table.head()"
   ]
  },
  {
   "cell_type": "markdown",
   "metadata": {
    "collapsed": true
   },
   "source": [
    "## Data.gov.sg"
   ]
  },
  {
   "cell_type": "raw",
   "metadata": {},
   "source": [
    "The original data.gov.sg was launched in 2011 as a repository of public data for analysis, research and application development. Its massive sets of data can be extremely useful in your future applications. \n",
    "Link to website:\n",
    "https://data.gov.sg/\n",
    "Link to some documentation:\n",
    "https://data.gov.sg/api/1/util/snippet/api_info.html?resource_id=83b2fc37-ce8c-4df4-968b-370fd818138b&datastore_root_url=https%3A%2F%2Fdata.gov.sg%2Fapi%2Faction"
   ]
  },
  {
   "cell_type": "code",
   "execution_count": 2,
   "metadata": {
    "collapsed": false,
    "scrolled": true
   },
   "outputs": [
    {
     "name": "stdout",
     "output_type": "stream",
     "text": [
      "{u'help': u'https://data.gov.sg/api/3/action/help_show?name=datastore_search',\n",
      " u'result': {u'_links': {u'next': u'/api/action/datastore_search?q=title%3Ajones&offset=5&limit=5&resource_id=83b2fc37-ce8c-4df4-968b-370fd818138b',\n",
      "                         u'start': u'/api/action/datastore_search?q=title%3Ajones&limit=5&resource_id=83b2fc37-ce8c-4df4-968b-370fd818138b'},\n",
      "             u'fields': [{u'id': u'_id', u'type': u'int4'},\n",
      "                         {u'id': u'month', u'type': u'text'},\n",
      "                         {u'id': u'town', u'type': u'text'},\n",
      "                         {u'id': u'flat_type', u'type': u'text'},\n",
      "                         {u'id': u'block', u'type': u'text'},\n",
      "                         {u'id': u'street_name', u'type': u'text'},\n",
      "                         {u'id': u'storey_range', u'type': u'text'},\n",
      "                         {u'id': u'floor_area_sqm', u'type': u'numeric'},\n",
      "                         {u'id': u'flat_model', u'type': u'text'},\n",
      "                         {u'id': u'lease_commence_date',\n",
      "                          u'type': u'numeric'},\n",
      "                         {u'id': u'resale_price', u'type': u'numeric'},\n",
      "                         {u'id': u'_full_count', u'type': u'int8'},\n",
      "                         {u'id': u'rank', u'type': u'float4'}],\n",
      "             u'limit': 5,\n",
      "             u'q': u'title:jones',\n",
      "             u'records': [],\n",
      "             u'resource_id': u'83b2fc37-ce8c-4df4-968b-370fd818138b'},\n",
      " u'success': True}\n"
     ]
    }
   ],
   "source": [
    "import requests\n",
    "from pprint import pprint\n",
    "url = 'https://data.gov.sg/api/action/datastore_search?resource_id=83b2fc37-ce8c-4df4-968b-370fd818138b&limit=5&q=title:jones'\n",
    "fileobj = requests.get(url)\n",
    "content = fileobj.json()\n",
    "pprint(fileobj.json())"
   ]
  },
  {
   "cell_type": "code",
   "execution_count": 2,
   "metadata": {
    "collapsed": false
   },
   "outputs": [
    {
     "name": "stdout",
     "output_type": "stream",
     "text": [
      "{u'message': u'Unable to authenticate you.', u'id': u'unauthorized'}\n"
     ]
    }
   ],
   "source": [
    "#get structured data with a key (token) ---Nitin\n",
    "import requests\n",
    "token = \"3832940370e1335384381725d8f24f6e90c2cca4f088af620925a463e80de490\" #now deleted\n",
    "url = \"https://api.digitalocean.com/v2/account\"\n",
    "custom_headers = {\n",
    "    \"Content-Type\": \"application/json\",\n",
    "    \"Authorization\": \"Bearer \" + token\n",
    "}\n",
    "\n",
    "resp = requests.get(url, headers=custom_headers).json()\n",
    "\n",
    "print (resp)\n",
    "#curl -x GET\n"
   ]
  },
  {
   "cell_type": "code",
   "execution_count": 11,
   "metadata": {
    "collapsed": false,
    "scrolled": true
   },
   "outputs": [
    {
     "data": {
      "text/plain": [
       "u\"Bayes' theorem - Wikiwand\""
      ]
     },
     "execution_count": 11,
     "metadata": {},
     "output_type": "execute_result"
    }
   ],
   "source": [
    "import requests\n",
    "from bs4 import BeautifulSoup\n",
    "url = \"https://www.wikiwand.com/en/Bayes%27_theorem\"\n",
    "resp = requests.get(url).text\n",
    "soup = BeautifulSoup(resp, \"html.parser\")\n",
    "soup.find(\"title\").text"
   ]
  },
  {
   "cell_type": "code",
   "execution_count": 29,
   "metadata": {
    "collapsed": false
   },
   "outputs": [
    {
     "name": "stdout",
     "output_type": "stream",
     "text": [
      "https://www.lazada.sg/shop-laptops/lenovo-ideapad-520-2tb-hdd-black-53075731.html?ff=1&sc=ETc=\n",
      "https://www.lazada.sg/shop-laptops/business-model-with-on-site-warranty-brand-new-dell-vostro-3468i5-7thgen4gb1tbwin10pro-48455256.html?ff=1&sc=ETc=\n",
      "https://www.lazada.sg/shop-laptops/asus-vivobook-pro-15-n580vd-dm467t-15634i7-7700hq16gb-ddr4128gb-ssd1tb-hddnvidia-gtx1050tiw10-55376890.html?ff=1&sc=ETc=\n",
      "https://www.lazada.sg/shop-laptops/asus-rog-gaming-laptop-gl702vm-gc225t-17334i7-7700hq8gb-ddr41tb-hddnv-gtx1060win10-18155941.html?ff=1&sc=ETc=\n",
      "https://www.lazada.sg/shop-laptops/lenovo-ideapad-110-black-156-hd-28882111.html?ff=1&sc=ETc=\n",
      "https://www.lazada.sg/shop-laptops/acer-predator-helios-300-g3-572-7570-15634i7-7700hq16gb-ddr4256gb-ssd1tb-hddnvidia-gtx1060w10-59173531.html?ff=1&sc=ETc=\n",
      "https://www.lazada.sg/shop-laptops/predator-helios-300-g3-571-71xx-156-inch-full-hd-ips-gaming-laptop-with-nvidia-gtx-1060-graphics-free-predator-headset-backpack-28569769.html?ff=1&sc=ETc=\n",
      "https://www.lazada.sg/shop-laptops/asus-vivobook-pro-15-n580vd-dm484t-15634i7-7700hq8gb-ddr41tb-hddnvidia-gtx1050w10-55376885.html?ff=1&sc=ETc=\n",
      "https://www.lazada.sg/shop-laptops/hp-spectre-x360-conve-13-ac034tu-53479215.html?ff=1&sc=ETc=\n",
      "https://www.lazada.sg/shop-laptops/acer-aspire-es11-es1-132-c0tl-11634-ultrathin-4gb-ram64gb-emmcw10-laptop-black-15610875.html?ff=1&sc=ETc=\n",
      "https://www.lazada.sg/shop-laptops/asus-x-series-fx502vm-dm266t-15634-i7-7700hq-8gb-ddr4-1tb-hdd-nv-gtx1060-win10free-mcafee-amp-optical-mouse-18072279.html?ff=1&sc=ETc=\n",
      "https://www.lazada.sg/shop-laptops/dell-xps13-ultrabook-7th-gen-i7-7500u-256ssd-win10-11492530.html?ff=1&sc=ETc=\n",
      "https://www.lazada.sg/shop-laptops/msi-gt72vr-7re-gaming-laptop-i7-7700hq-16gb-gtx1070-8g-win10-12427330.html?ff=1&sc=ETc=\n",
      "https://www.lazada.sg/shop-laptops/new-arrival-hp-7th-gen15634-intel-core-i5-8gb-ram-graphic-card-2gb-windows-10-wifi-5g-bt42-model-july2017-51216754.html?ff=1&sc=ETc=\n",
      "https://www.lazada.sg/shop-laptops/msi-gl62m-7rd-gaming-laptop-i7-7700hq-8gb-1tb-gtx1050-2gb-ddr5black-45136864.html?ff=1&sc=ETc=\n",
      "https://www.lazada.sg/shop-laptops/asus-rog-gaming-laptop-gl502vm-fy219t-15634i7-7700hq16gb-ddr4128gb-ssd1tb-hddnv-gtx1060win10-21064196.html?ff=1&sc=ETc=\n",
      "https://www.lazada.sg/shop-laptops/razer-blade-stealth-uhd-4k-512gb-67278436.html?ff=1&sc=ETc=\n",
      "https://www.lazada.sg/shop-laptops/apple-macbook-pro-13-inch-29ghz-256gb-20976177.html?ff=1&sc=ETc=\n",
      "https://www.lazada.sg/shop-laptops/hp-stream-laptop-11-y022tu-39825918.html?ff=1&sc=ETc=\n",
      "https://www.lazada.sg/shop-laptops/lenovo-ideapad-320-platinum-grey-27765751.html?ff=1&sc=ETc=\n",
      "https://www.lazada.sg/shop-laptops/xiaomi-mi-notebookxiaomi-mi-laptop-air-133-export-8492274.html?ff=1&sc=ETc=\n",
      "https://www.lazada.sg/shop-laptops/new-arrival-hp-240-g5-n3060-4gb-500gb-ac3165-win-10-pro-34056236.html?ff=1&sc=ETc=\n",
      "https://www.lazada.sg/shop-laptops/limited-stock-asus-zenbook-ux330ca-fc045t-133-fhdm3-7y304gb128gb-ssdintel-graphicswin-10-26598138.html?ff=1&sc=ETc=\n",
      "https://www.lazada.sg/shop-laptops/used-microsoft-surface-pro-i5-3rd-gen-4gb-64gb-ssd-win10-61604489.html?ff=1&sc=ETc=\n",
      "https://www.lazada.sg/shop-laptops/xiaomi-mi-notebook-air-125-gold-export-11129771.html?ff=1&sc=ETc=\n",
      "https://www.lazada.sg/shop-laptops/refurbished-macbook-pro-13-intel-core-i5-24ghz-late-2011model-51239482.html?ff=1&sc=ETc=\n",
      "https://www.lazada.sg/shop-laptops/acer-one-10-s1003-15sl-2-in-1-laptop-52905717.html?ff=1&sc=ETc=\n",
      "https://www.lazada.sg/shop-laptops/refurbished-lenovo-thinkpad-x240-i5-4th-gen-500gb-hdd-4gb-ram-196771.html?ff=1&sc=ETc=\n",
      "https://www.lazada.sg/shop-laptops/apple-macbook-air-mqd32zpa-18ghz-128gb-ssd-31933775.html?ff=1&sc=ETc=\n",
      "https://www.lazada.sg/shop-laptops/gigabyte-p45g-7th-gen-gaming-laptop-gtx1050black-halloween-promo-16153695.html?ff=1&sc=ETc=\n",
      "https://www.lazada.sg/shop-laptops/dell-xps-15-uhd-4k-intel-core-i7-7700hq-16gb-512-ssd-gtx10504g-33923182.html?ff=1&sc=ETc=\n",
      "https://www.lazada.sg/shop-laptops/asus-vivobook-e203na-fd029ts-53334251.html?ff=1&sc=ETc=\n",
      "https://www.lazada.sg/shop-laptops/asus-zenbook-ux430ua-gv154t-metal-gold-24589197.html?ff=1&sc=ETc=\n",
      "https://www.lazada.sg/shop-laptops/xiaomi-air-notebook-125-inch-4gb-ram-128gb-export-10692444.html?ff=1&sc=ETc=\n",
      "https://www.lazada.sg/shop-laptops/chuwi-lapbook-pc-notebook-laptop-15634-fhd-4gb-ram-64gb-rom-white-intl-27177413.html?ff=1&sc=ETc=\n",
      "https://www.lazada.sg/shop-laptops/gigabyte-aero-15-gtx1060-256gb-ssd-7th-gen-gaming-laptop-black-64314918.html?ff=1&sc=ETc=\n"
     ]
    }
   ],
   "source": [
    "import requests\n",
    "from bs4 import BeautifulSoup\n",
    "url = \"https://www.lazada.sg/shop-laptops\"    #category is hard coded, change the category by changing shop-loptops\n",
    "\n",
    "def get_and_convert_to_soup(url):\n",
    "    content = requests.get(url).text\n",
    "    #print (content)\n",
    "    soup = BeautifulSoup(content, \"html.parser\")\n",
    "    return soup\n",
    "\n",
    "def go_to_a_page_and_collect_product_details(url):\n",
    "    soup = get_and_convert_to_soup(url)\n",
    "    product_details_list = soup.find_all(\"a\", {\"class\": \"c-product-card__img-placeholder-inner\"})\n",
    "    url_list = []\n",
    "    for p in product_details_list:\n",
    "        #print p.get(\"href\")\n",
    "        #print (p.attrs[\"href\"])   #can do either above way Or this way\n",
    "        product_url = p.get(\"href\")\n",
    "        full_url = url + product_url\n",
    "        url_list.append(full_url)\n",
    "        print full_url\n",
    "\n",
    "    return url_list\n",
    "\n",
    "go_to_a_page_and_collect_product_details(url)\n",
    "\n",
    "def get_product_details(url):\n",
    "    soup = get_and_convert_soup(url)\n",
    "    h1_tag = soup.find(\"h1\", {\"id\":\"prod_title\"})\n",
    "    print (h1_tag.text.strip())\n",
    "    \n",
    "    s_price_tag = soup.find(\"span\": \"id:special_price_box\")\n",
    "    print (s_price_tag.text.strip())\n",
    "    \n",
    "for page_number in range(2,3):\n",
    "    page_url= url + \"?page=%s\"%page_number\n",
    "    list_of_product_details_url = \n",
    "\n",
    "\n",
    "# items_found_div_tag = soup.find(\"div\", {\"class\": \"c-catalog-title__quantity\"}) # we see from the site, this is the unique tag in the page\n",
    "# items = int(items_found_div_tag.text.strip().split()[0])\n",
    "# print(items)\n",
    "\n",
    "\n"
   ]
  },
  {
   "cell_type": "code",
   "execution_count": null,
   "metadata": {
    "collapsed": true
   },
   "outputs": [],
   "source": []
  }
 ],
 "metadata": {
  "kernelspec": {
   "display_name": "Python 2",
   "language": "python",
   "name": "python2"
  },
  "language_info": {
   "codemirror_mode": {
    "name": "ipython",
    "version": 2
   },
   "file_extension": ".py",
   "mimetype": "text/x-python",
   "name": "python",
   "nbconvert_exporter": "python",
   "pygments_lexer": "ipython2",
   "version": "2.7.13"
  }
 },
 "nbformat": 4,
 "nbformat_minor": 2
}
