{
 "cells": [
  {
   "cell_type": "markdown",
   "metadata": {},
   "source": [
    "#  Structured Data Collection with APIs "
   ]
  },
  {
   "cell_type": "markdown",
   "metadata": {},
   "source": [
    "## URA Example"
   ]
  },
  {
   "cell_type": "raw",
   "metadata": {},
   "source": [
    "The Urban Redevelopment Authority (URA) releases its data in an API such as current construction jobs and how long past construction projects took. Below is a sample program using the URA API. \n",
    "\n",
    "API manual: \n",
    "https://www.ura.gov.sg/maps/ura/ura_dataservice/samples/URA%20Data%20Service%20API%20User%20Manual.pdf"
   ]
  },
  {
   "cell_type": "code",
   "execution_count": 5,
   "metadata": {
    "collapsed": true
   },
   "outputs": [],
   "source": [
    "import requests\n",
    "import json\n",
    "import pandas as pd\n",
    "import csv\n",
    "from pprint import pprint"
   ]
  },
  {
   "cell_type": "code",
   "execution_count": 9,
   "metadata": {
    "collapsed": true
   },
   "outputs": [],
   "source": [
    "Tokend = '<TOKEN>'\n",
    "dict_aut = {\"AccessKey\":\"<ACCESS-KEY>\", \"Token\": Tokend}\n",
    "response1 = requests.get(\"https://www.ura.gov.sg/uraDataService/invokeUraDS?service=PMI_Resi_Transaction&batch=1\",headers = dict_aut)\n",
    "j1 = response1.json()\n",
    "l1 = j1.get(\"Result\")\n"
   ]
  },
  {
   "cell_type": "code",
   "execution_count": null,
   "metadata": {
    "collapsed": true
   },
   "outputs": [],
   "source": [
    "pd_table = pd.DataFrame(l1)\n",
    "print(pd_table)"
   ]
  },
  {
   "cell_type": "code",
   "execution_count": null,
   "metadata": {
    "collapsed": true
   },
   "outputs": [],
   "source": [
    "#this line provides the names of the columns of the dataframe pd_table\n",
    "print(pd_table.columns)\n",
    "print(type(pd_table.columns))"
   ]
  },
  {
   "cell_type": "markdown",
   "metadata": {},
   "source": [
    "#'project', 'contractDate', 'area', 'price', 'propertyType','typeOfArea', 'tenure', 'floorRange','typeOfSale', 'district', 'noOfUnits'\n",
    "#the items are from the transaction  column of the data_frame"
   ]
  },
  {
   "cell_type": "code",
   "execution_count": null,
   "metadata": {
    "collapsed": true
   },
   "outputs": [],
   "source": [
    "pd_table.head()"
   ]
  },
  {
   "cell_type": "markdown",
   "metadata": {
    "collapsed": true
   },
   "source": [
    "## Data.gov.sg"
   ]
  },
  {
   "cell_type": "raw",
   "metadata": {},
   "source": [
    "The original data.gov.sg was launched in 2011 as a repository of public data for analysis, research and application development. Its massive sets of data can be extremely useful in your future applications. \n",
    "Link to website:\n",
    "https://data.gov.sg/\n",
    "Link to some documentation:\n",
    "https://data.gov.sg/api/1/util/snippet/api_info.html?resource_id=83b2fc37-ce8c-4df4-968b-370fd818138b&datastore_root_url=https%3A%2F%2Fdata.gov.sg%2Fapi%2Faction"
   ]
  },
  {
   "cell_type": "code",
   "execution_count": 2,
   "metadata": {
    "collapsed": false,
    "scrolled": true
   },
   "outputs": [
    {
     "name": "stdout",
     "output_type": "stream",
     "text": [
      "{u'help': u'https://data.gov.sg/api/3/action/help_show?name=datastore_search',\n",
      " u'result': {u'_links': {u'next': u'/api/action/datastore_search?q=title%3Ajones&offset=5&limit=5&resource_id=83b2fc37-ce8c-4df4-968b-370fd818138b',\n",
      "                         u'start': u'/api/action/datastore_search?q=title%3Ajones&limit=5&resource_id=83b2fc37-ce8c-4df4-968b-370fd818138b'},\n",
      "             u'fields': [{u'id': u'_id', u'type': u'int4'},\n",
      "                         {u'id': u'month', u'type': u'text'},\n",
      "                         {u'id': u'town', u'type': u'text'},\n",
      "                         {u'id': u'flat_type', u'type': u'text'},\n",
      "                         {u'id': u'block', u'type': u'text'},\n",
      "                         {u'id': u'street_name', u'type': u'text'},\n",
      "                         {u'id': u'storey_range', u'type': u'text'},\n",
      "                         {u'id': u'floor_area_sqm', u'type': u'numeric'},\n",
      "                         {u'id': u'flat_model', u'type': u'text'},\n",
      "                         {u'id': u'lease_commence_date',\n",
      "                          u'type': u'numeric'},\n",
      "                         {u'id': u'resale_price', u'type': u'numeric'},\n",
      "                         {u'id': u'_full_count', u'type': u'int8'},\n",
      "                         {u'id': u'rank', u'type': u'float4'}],\n",
      "             u'limit': 5,\n",
      "             u'q': u'title:jones',\n",
      "             u'records': [],\n",
      "             u'resource_id': u'83b2fc37-ce8c-4df4-968b-370fd818138b'},\n",
      " u'success': True}\n"
     ]
    }
   ],
   "source": [
    "import requests\n",
    "from pprint import pprint\n",
    "url = 'https://data.gov.sg/api/action/datastore_search?resource_id=83b2fc37-ce8c-4df4-968b-370fd818138b&limit=5&q=title:jones'\n",
    "fileobj = requests.get(url)\n",
    "content = fileobj.json()\n",
    "pprint(fileobj.json())"
   ]
  },
  {
   "cell_type": "code",
   "execution_count": null,
   "metadata": {
    "collapsed": true
   },
   "outputs": [],
   "source": []
  }
 ],
 "metadata": {
  "kernelspec": {
   "display_name": "Python 2",
   "language": "python",
   "name": "python2"
  },
  "language_info": {
   "codemirror_mode": {
    "name": "ipython",
    "version": 2
   },
   "file_extension": ".py",
   "mimetype": "text/x-python",
   "name": "python",
   "nbconvert_exporter": "python",
   "pygments_lexer": "ipython2",
   "version": "2.7.13"
  }
 },
 "nbformat": 4,
 "nbformat_minor": 2
}
