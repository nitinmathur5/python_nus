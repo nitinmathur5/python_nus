{
 "cells": [
  {
   "cell_type": "markdown",
   "metadata": {},
   "source": [
    "## <font color=grey>Lecture Notes: Day 1 - Python Basics</font>\n",
    "## Topics covered\n",
    "- Print  \n",
    "- Comment \n",
    "- Values, Variables and Data Types\n",
    "  - type conversion \n",
    "  - snake_casing\n",
    "- Operators\n",
    "- Conditionals - Logical Expressions\n",
    "- Indentation\n",
    "- Iterations (loop)\n",
    "- List\n",
    "- Strings \n",
    "\n",
    "- How programs are executed\n",
    "- How to write a simple python program (optional)\n",
    "- High level language properties \n",
    "    - source code -> interpreter -> output\n",
    "- Introduce python interpreter \n",
    "    - open cmd ."
   ]
  },
  {
   "cell_type": "markdown",
   "metadata": {},
   "source": [
    "## <font color=red>**What is a Program? **</font> \n",
    "A program is a sequence of instructions that specifies how to perform a computation such as solving equations, searching documents etc."
   ]
  },
  {
   "cell_type": "markdown",
   "metadata": {},
   "source": [
    "### Low level languages \n",
    "    source code -> compiler -> object code -> executor -> output\n",
    "\n",
    "### High level languages such as Python, C, C++, Java\n",
    "    source code -> interpreter -> output\n",
    "    An interpreter reads a high-level program and executes it, meaning that it does what the program says.     "
   ]
  },
  {
   "cell_type": "markdown",
   "metadata": {
    "collapsed": true
   },
   "source": [
    "# <font color=red>Print</font>"
   ]
  },
  {
   "cell_type": "markdown",
   "metadata": {},
   "source": [
    "* <b>What</b>: literally printing something - displays whatever is inbetween the ( ) on screen as text.\n",
    "* <b>How</b>: syntax is print( )"
   ]
  },
  {
   "cell_type": "code",
   "execution_count": 11,
   "metadata": {
    "collapsed": false
   },
   "outputs": [
    {
     "name": "stdout",
     "output_type": "stream",
     "text": [
      "Hello world!\n"
     ]
    }
   ],
   "source": [
    "print(\"Hello world!\")\n"
   ]
  },
  {
   "cell_type": "markdown",
   "metadata": {
    "collapsed": true
   },
   "source": [
    "# <font color=red>Comments</font>"
   ]
  },
  {
   "cell_type": "markdown",
   "metadata": {},
   "source": [
    "* <b>What</b>: What: comments are used in code to understand what the code is doing. \n",
    "    Comments do not affect the code. They are only used for us to read and understand. \n",
    "* <b>How</b>: for a single line comment, use the # (hash) before the comment. \n",
    "    For a multi-line comment, wrap the comment around three single (or double) quotations \n",
    "    like the following: ''' comment ''' or \"\"\" comment \"\"\"\n",
    "* <b>Note</b>: Comments are NOT sensitive to indentation "
   ]
  },
  {
   "cell_type": "code",
   "execution_count": 130,
   "metadata": {
    "collapsed": true
   },
   "outputs": [],
   "source": [
    "# This is a single-line comment."
   ]
  },
  {
   "cell_type": "code",
   "execution_count": null,
   "metadata": {
    "collapsed": true
   },
   "outputs": [],
   "source": [
    "'''\n",
    "This is multi-line comment\n",
    "This is multi-line comment\n",
    "'''"
   ]
  },
  {
   "cell_type": "code",
   "execution_count": null,
   "metadata": {
    "collapsed": true
   },
   "outputs": [],
   "source": [
    "\"\"\"\n",
    "This is another multi-line comment\n",
    "This is another multi-line comment\n",
    "\"\"\""
   ]
  },
  {
   "cell_type": "markdown",
   "metadata": {},
   "source": [
    "# <font color=red>Values, Variables and Data Types</font>"
   ]
  },
  {
   "cell_type": "markdown",
   "metadata": {
    "collapsed": true
   },
   "source": [
    "## Values"
   ]
  },
  {
   "cell_type": "markdown",
   "metadata": {},
   "source": [
    "* A **value** is one of the fundamental things (like a letter or a number) that a program manipulates. \n",
    "* These values belong to different data types like **integer**, **string** (string of letters), **boolean** (True/False), and **float** (numbers with decimal point). \n",
    "* Simply values are assigned into the variable."
   ]
  },
  {
   "cell_type": "markdown",
   "metadata": {
    "collapsed": true
   },
   "source": [
    "## Data Types"
   ]
  },
  {
   "cell_type": "markdown",
   "metadata": {},
   "source": [
    "* Examples of each data type: \n",
    "* <b>Integer</b> : 1, 54, -999 \n",
    "* <b> String </b> : \"Bob\", \"sponge\", \"oranges\" \n",
    "* <b> Boolean </b> : True, False (note these are case-sensitive) \n",
    "* <b> Float </b> : 23.4, 3.14, -5.6 "
   ]
  },
  {
   "cell_type": "markdown",
   "metadata": {
    "collapsed": true
   },
   "source": [
    "## Variables"
   ]
  },
  {
   "cell_type": "markdown",
   "metadata": {},
   "source": [
    "* Variables are reserved memory locations to store values that may change. In other words, simply a box where you can put stuff in. \n",
    "* Unlike other programming languages such as C and Java, **Python does not need declaration for variables**\n",
    "* Data types are automatically adjusted based on the input. "
   ]
  },
  {
   "cell_type": "code",
   "execution_count": 3,
   "metadata": {
    "collapsed": false
   },
   "outputs": [
    {
     "name": "stdout",
     "output_type": "stream",
     "text": [
      "current user name is: Jason\n",
      "current user id is: 2033\n",
      "current user is paid member: True\n",
      "('current user name is: ', 'Jason')\n",
      "('current user id is: ', 2033)\n",
      "('current user is paid member: ', True)\n"
     ]
    }
   ],
   "source": [
    "user_name = 'Jason' #user_name is a string variable with 'Jason' stored as the value \n",
    "user_id = 2033 #user_id is an integer variable with 2033 stored as the value \n",
    "paid_member = True #paid_member is boolean variable with True stored as the value \n",
    "\n",
    "print (\"current user name is: %s\" % user_name) \n",
    "print (\"current user id is: %s\" % user_id) \n",
    "print (\"current user is paid member: %s\" % paid_member) \n",
    "\n",
    "\n",
    "print (\"current user name is: \" , user_name) \n",
    "print (\"current user id is: \" , user_id) \n",
    "print (\"current user is paid member: \" , paid_member) \n",
    "\n",
    "# type conversion \"+ str()\" stuff"
   ]
  },
  {
   "cell_type": "markdown",
   "metadata": {},
   "source": [
    "**Assigning values to variables**"
   ]
  },
  {
   "cell_type": "code",
   "execution_count": 1,
   "metadata": {
    "collapsed": false
   },
   "outputs": [
    {
     "name": "stdout",
     "output_type": "stream",
     "text": [
      "3\n",
      "9\n",
      "12\n",
      "9\n",
      "bala\n",
      "10\n"
     ]
    }
   ],
   "source": [
    "c = 3\n",
    "print (c) # prints 3\n",
    "\n",
    "\n",
    "#change c from 3 into 9\n",
    "c = 9\n",
    "print (c) # prints 9, note: the latest/updated value of c is printed \n",
    "\n",
    "\n",
    "#making a variable d has no impact on c\n",
    "d = 12\n",
    "print (d) # prints 12\n",
    "print (c) # prints 9\n",
    "\n",
    "#variables can be replaced with any other type of value (an integer can change into a string)\n",
    "d = 'bala'\n",
    "print (d) # prints bala\n",
    "\n",
    "#variables can be used as values\n",
    "e = c + 1\n",
    "print (e) # prints 10"
   ]
  },
  {
   "cell_type": "markdown",
   "metadata": {},
   "source": [
    "**Improper way of writing variable names**"
   ]
  },
  {
   "cell_type": "code",
   "execution_count": null,
   "metadata": {
    "collapsed": true
   },
   "outputs": [],
   "source": [
    "#cannot use reserved words\n",
    "for = 'bala'\n",
    "\n",
    "#cannot start with a number\n",
    "21_street_postal = 210255\n",
    "\n",
    "#cannot use special characters like $\n",
    "first_$_prize = 10000000\n",
    "\n",
    "#cannot have spaces (see snake_casing)\n",
    "first prize = 10000000"
   ]
  },
  {
   "cell_type": "code",
   "execution_count": null,
   "metadata": {
    "collapsed": true
   },
   "outputs": [],
   "source": [
    "** RESERVED KEYWORDS IN PYTHON **\n",
    "\n",
    "and       def       exec      if        not       return \n",
    "assert    del       finally   import    or        try \n",
    "break     elif      for       in        pass      while \n",
    "class     else      from      is        print     yield \n",
    "continue  except    global    lambda    raise "
   ]
  },
  {
   "cell_type": "code",
   "execution_count": null,
   "metadata": {
    "collapsed": true
   },
   "outputs": [],
   "source": [
    "** NOT RECOMMENDED SINCE IT CONFLICTS WITH NAMES OF COMMONLY USED FUNCTIONS **\n",
    "\n",
    "Data   Float   Int    Numeric  Oxphys\n",
    "array  close   float  int      input \n",
    "open   range   type   write    zeros "
   ]
  },
  {
   "cell_type": "markdown",
   "metadata": {},
   "source": [
    "**Unrecommended naming method**"
   ]
  },
  {
   "cell_type": "code",
   "execution_count": 16,
   "metadata": {
    "collapsed": true
   },
   "outputs": [],
   "source": [
    "#camel casing should be for class names not variables\n",
    "MyVar = 10\n",
    "\n",
    "#names starting with underscore are for private members (advanced concept)\n",
    "__my_var = 20"
   ]
  },
  {
   "cell_type": "markdown",
   "metadata": {},
   "source": [
    "## Statement"
   ]
  },
  {
   "cell_type": "markdown",
   "metadata": {},
   "source": [
    "* A statement is an instruction that the Python interpreter can execute. We have seen two kinds of statements: print and assignment so far."
   ]
  },
  {
   "cell_type": "code",
   "execution_count": 2,
   "metadata": {
    "collapsed": false
   },
   "outputs": [
    {
     "name": "stdout",
     "output_type": "stream",
     "text": [
      "2000\n"
     ]
    }
   ],
   "source": [
    "a = 2000 #assigning the integer value 2000 to a variable called \"a\"\n",
    "print(a) #display the value of a. "
   ]
  },
  {
   "cell_type": "markdown",
   "metadata": {},
   "source": [
    "## Data Types"
   ]
  },
  {
   "cell_type": "markdown",
   "metadata": {},
   "source": [
    "* <b>What</b>: We can find out what is a variable's data type based on the variable name\n",
    "* <b>How</b>: Given the variable name, use type( ) syntax "
   ]
  },
  {
   "cell_type": "code",
   "execution_count": 3,
   "metadata": {
    "collapsed": false
   },
   "outputs": [
    {
     "name": "stdout",
     "output_type": "stream",
     "text": [
      "('a is: ', <type 'int'>)\n",
      "('b is: ', <type 'float'>)\n",
      "('c is: ', <type 'str'>)\n",
      "('d is: ', <type 'str'>)\n",
      "('e is: ', <type 'bool'>)\n"
     ]
    }
   ],
   "source": [
    "# Integer: <int> is for whole numbers\n",
    "# Floating number: <float>  is for decimal numbers\n",
    "# String: <str> is for text aka string of characters\n",
    "# Boolean: <bool> is either True or False.\n",
    "\n",
    "a = 10\n",
    "print( 'a is: ', type(a) )\n",
    "\n",
    "b = 2.1\n",
    "print( 'b is: ', type(b) )  \n",
    "\n",
    "c = '2.1'\n",
    "print( 'c is: ', type(c) ) # Note anything inside a quotation mark ('') will be regarded as string\n",
    "\n",
    "d = 'bala'\n",
    "print( 'd is: ', type(d) )\n",
    "\n",
    "e = True\n",
    "print('e is: ', type(e) )\n"
   ]
  },
  {
   "cell_type": "markdown",
   "metadata": {
    "collapsed": true
   },
   "source": [
    "## Type conversion"
   ]
  },
  {
   "cell_type": "markdown",
   "metadata": {
    "collapsed": true
   },
   "source": [
    "You can convert values from one data type to another using built-in functions that are introduced below:"
   ]
  },
  {
   "cell_type": "raw",
   "metadata": {},
   "source": [
    "Function:    \n",
    " int(x)   = Converts x to an integer\n",
    " float(x) = Converts x to a floating-point number\n",
    " str(x)   = Converts object x to a string representation\n",
    " chr(x)   = Converts an integer to a character"
   ]
  },
  {
   "cell_type": "code",
   "execution_count": 190,
   "metadata": {
    "collapsed": false,
    "scrolled": true
   },
   "outputs": [
    {
     "name": "stdout",
     "output_type": "stream",
     "text": [
      "<type 'int'>\n",
      "<type 'str'>\n",
      "<type 'float'>\n",
      "<type 'float'>\n"
     ]
    }
   ],
   "source": [
    "'''\n",
    "32 = integer\n",
    "3.14 = float\n",
    "'32' = string\n",
    "'''\n",
    "# str -> int \n",
    "print (type(int('32')) )\n",
    "\n",
    "# int -> str\n",
    "print (type(str(32)))\n",
    "\n",
    "# int / str -> float \n",
    "print (type(float(32)))\n",
    "print (type(float('32')))"
   ]
  },
  {
   "cell_type": "markdown",
   "metadata": {
    "collapsed": true
   },
   "source": [
    "## snake_casing"
   ]
  },
  {
   "cell_type": "markdown",
   "metadata": {},
   "source": [
    "* **What**: Since Python won't recognize words separated by spaces, we use snake casing \n",
    "* **How**: The spaces are replaced with underscore character (_), with each element's initial letter usually lowercased within the compound and the first letter either upper or lower case "
   ]
  },
  {
   "cell_type": "markdown",
   "metadata": {
    "collapsed": true
   },
   "source": [
    "# <font color=red>Operators</font>"
   ]
  },
  {
   "cell_type": "markdown",
   "metadata": {},
   "source": [
    "* Arithmetic operators: special symbols that represent computation\n",
    "* values the operator uses are called **operands**"
   ]
  },
  {
   "cell_type": "raw",
   "metadata": {},
   "source": [
    "+ (Addition) \n",
    "- (Subtraction)\n",
    "* (Multiplication)\n",
    "/ (Division)\n",
    "% (Modulus)- performs division and returns remainder\n",
    "** (Exponent) - a**b = a^b"
   ]
  },
  {
   "cell_type": "code",
   "execution_count": 39,
   "metadata": {
    "collapsed": false
   },
   "outputs": [
    {
     "name": "stdout",
     "output_type": "stream",
     "text": [
      "12\n",
      "8\n",
      "20\n",
      "5\n",
      "0\n",
      "100\n",
      "8\n"
     ]
    }
   ],
   "source": [
    "# Operands: a,b\n",
    "a = 10\n",
    "b = 2\n",
    "\n",
    "print(a+b) # 10+2\n",
    "print(a-b) # 10-2\n",
    "print(a*b) # 10*2\n",
    "print(a/b) # 10/2\n",
    "print(a%b) # remainder of 10/2\n",
    "print(a**b) # 10^2"
   ]
  },
  {
   "cell_type": "markdown",
   "metadata": {},
   "source": [
    "## - Integer Division"
   ]
  },
  {
   "cell_type": "markdown",
   "metadata": {},
   "source": [
    "* Note that there is a difference when dividing with integers and floats.\n",
    "        \n",
    "        Recall that integers are whole numbers and floats are numbers with decimals \n",
    "\n",
    "* When we divide **two integers**, we get an integer answer\n",
    "           \n",
    "        If the answer mathematically has a decimal, we would only see the whole number \n",
    "        It is **not** rounded; it is cut off (you only see the whole numbers)\n",
    " \n",
    "* When we divide **an integer and a float**, we get a float \n",
    "\n",
    "        There is the decimal \n"
   ]
  },
  {
   "cell_type": "code",
   "execution_count": null,
   "metadata": {
    "collapsed": true
   },
   "outputs": [],
   "source": [
    "print (5/2) # prints 2 \n",
    "print (5/2.0) # prints 2.5\n",
    "print (5.0/2) # prints 2.5 \n",
    "print (5.0/2.0) # prints 2.5\n"
   ]
  },
  {
   "cell_type": "markdown",
   "metadata": {},
   "source": [
    "## - Composition"
   ]
  },
  {
   "cell_type": "code",
   "execution_count": null,
   "metadata": {
    "collapsed": true
   },
   "outputs": [],
   "source": [
    "# We discussed about elements of a program in isolation so far. How about combining them?\n",
    "    percentage = (minute * 100) / 60 \n",
    "    print 'Number of minutes since midnight: ', hour*60+minute \n",
    "\n",
    "\n",
    "# Improper composition\n",
    "    # Be aware of the limits of certain expressions. \n",
    "    # For example, the left-hand side of an assignment statement has to be a variable name, not an expression.\n",
    "    month+1 = year "
   ]
  },
  {
   "cell_type": "markdown",
   "metadata": {
    "collapsed": true
   },
   "source": [
    "# <font color=red>Indentation</font>\n"
   ]
  },
  {
   "cell_type": "markdown",
   "metadata": {},
   "source": [
    "* In general, indentations make code easier to read\n",
    "* Python needs indentations to work. Indentation-sensitive \n",
    "* Commonly refers to 4 spaces (or tab) and is required for indicating what block of code a statement belongs to."
   ]
  },
  {
   "cell_type": "raw",
   "metadata": {
    "collapsed": true
   },
   "source": [
    "if(true)\n",
    "    I am part of if statement\n",
    "    I am part of if statement\n",
    "    I am part of if statement\n",
    "    \n",
    "    while(true)\n",
    "        I am part of while statement inside if statement\n",
    "        I am part of while statement inside if statement\n",
    "        I am part of while statement inside if statement        "
   ]
  },
  {
   "cell_type": "markdown",
   "metadata": {},
   "source": [
    "# <font color=red>Functions</font> "
   ]
  },
  {
   "cell_type": "markdown",
   "metadata": {},
   "source": [
    "Function **\"takes\"** an argument and **\"returns\"** a result. The result is called the **return value**.\n",
    "* Ex: Importing the module: **import math**\n",
    "* Ex: Calling the function from the module: **math.sin(x)**\n",
    "\n",
    "![modules.png](attachment:modules.png)"
   ]
  },
  {
   "cell_type": "markdown",
   "metadata": {},
   "source": [
    "** Why the parenthesis? ** \n",
    "\n",
    "Functions take **parameters** inside of the parenthesis. These parameters are inputs that are used to calculate the output return value. We'll explain more on this later. "
   ]
  },
  {
   "cell_type": "markdown",
   "metadata": {},
   "source": [
    "## - Commonly used built-in functions"
   ]
  },
  {
   "cell_type": "markdown",
   "metadata": {},
   "source": [
    "To call functions, we have to import corresponding module if needed, then specify the name of the module and the name of the function, separated by a dot."
   ]
  },
  {
   "cell_type": "code",
   "execution_count": null,
   "metadata": {
    "collapsed": true
   },
   "outputs": [],
   "source": [
    "*[] = ommitable\n",
    "\n",
    "abs(x) # return the absolute value of a number.\n",
    "\n",
    "type(x) # return the type of an object. The return value is a type object.\n",
    "\n",
    "len(x) # return the length (the number of items) of an object. \n",
    "       # The argument may be a sequence (such as a string, bytes, tuple, list, or range) \n",
    "       # or a collection (such as a dictionary, set, or frozen set).\n",
    "        \n",
    "range([start],stop,[step]) # versatile function to create lists containing arithmetic progressions. \n",
    "                           # It is most often used in for loops. The arguments must be plain integers. \n",
    "                           # If the step argument is omitted, it defaults to 1. \n",
    "                           # If the start argument is omitted, it defaults to 0. \n",
    "                           # The full form returns a list of plain integers [start, start + step, start + 2 * step, ...]. \n",
    "                           # If step is positive, the last element is the largest start + i * step less than stop.\n",
    "                \n",
    "sum(iterable, [start]) # sums start and the items of an iterable from left to right and returns the total. start defaults to 0. \n",
    "                       # the iterable‘s items are normally numbers, and the start value is not allowed to be a string.\n",
    "    \n",
    "max(arg1, arg2, ...) # return the largest item in an iterable or the largest of two or more arguments\n",
    "min(arg1, arg2, ...) # return the smallest item in an iterable or the smallest of two or more arguments "
   ]
  },
  {
   "cell_type": "markdown",
   "metadata": {},
   "source": [
    "## - Math functions"
   ]
  },
  {
   "cell_type": "code",
   "execution_count": 206,
   "metadata": {
    "collapsed": true
   },
   "outputs": [],
   "source": [
    "# Need to import math module for math functions\n",
    "import math"
   ]
  },
  {
   "cell_type": "markdown",
   "metadata": {},
   "source": [
    "* Constants"
   ]
  },
  {
   "cell_type": "code",
   "execution_count": null,
   "metadata": {
    "collapsed": true
   },
   "outputs": [],
   "source": [
    "math.pi # The mathematical constant π = 3.141592..., to available precision.\n",
    "math.e # The mathematical constant e = 2.718281..., to available precision."
   ]
  },
  {
   "cell_type": "markdown",
   "metadata": {},
   "source": [
    "* Trigonometric functions"
   ]
  },
  {
   "cell_type": "code",
   "execution_count": null,
   "metadata": {
    "collapsed": true
   },
   "outputs": [],
   "source": [
    "    # all values are returned in radians\n",
    "\n",
    "    math.sin(x) # sine x\n",
    "    math.cos(x) # cosine x\n",
    "    math.tan(x) # tangent x"
   ]
  },
  {
   "cell_type": "markdown",
   "metadata": {},
   "source": [
    "* Power and logarithm functions"
   ]
  },
  {
   "cell_type": "code",
   "execution_count": null,
   "metadata": {
    "collapsed": true
   },
   "outputs": [],
   "source": [
    "math.log(x) # returns the natural logarithm of x (to base e)\n",
    "math.log(x,base) # returns the logarithm of x to the given base\n",
    "\n",
    "math.pow(x,y) # returns x^y\n",
    "math.sqrt(x) # returns square root of x"
   ]
  },
  {
   "cell_type": "markdown",
   "metadata": {},
   "source": [
    "* Number-theoretic and representation functions"
   ]
  },
  {
   "cell_type": "code",
   "execution_count": null,
   "metadata": {
    "collapsed": true
   },
   "outputs": [],
   "source": [
    "math.ceil(x) # return the ceiling of x as a float, the smallest integer value greater than or equal to x\n",
    "math.floor(x) # return the floor of x as a float, the largest integer value less than or equal to x"
   ]
  },
  {
   "cell_type": "markdown",
   "metadata": {},
   "source": [
    "## - Composition"
   ]
  },
  {
   "cell_type": "code",
   "execution_count": 1,
   "metadata": {
    "collapsed": true
   },
   "outputs": [],
   "source": [
    "# Python functions can be composed, meaning that you use one expression as part of another\n",
    "import math\n",
    "angle = 60\n",
    "x = math.cos(angle + math.pi/2) \n",
    "y = math.exp(math.log(10.0)) "
   ]
  },
  {
   "cell_type": "markdown",
   "metadata": {},
   "source": [
    "# <font color=red> Adding new custom functions</font>"
   ]
  },
  {
   "cell_type": "markdown",
   "metadata": {},
   "source": [
    "* A function is a block of organized, reusable code that is used to perform a single, related action. \n",
    "* Functions provide better modularity for your application and a high degree of code reusing.\n",
    "* Start with defining function with **def** followed by the name and parentheses. Parameters go inside the parentheses if needed. "
   ]
  },
  {
   "cell_type": "code",
   "execution_count": null,
   "metadata": {
    "collapsed": true
   },
   "outputs": [],
   "source": [
    "# Syntax for a function definition\n",
    "\n",
    "def FUNCTION_NAME( LIST OF PARAMETERS ):\n",
    "    STATEMENTS\n",
    "    \n",
    "def FUNCTION_NAME( LIST OF PARAMETERS ):\n",
    "    STATEMENTS\n",
    "    return "
   ]
  },
  {
   "cell_type": "code",
   "execution_count": 3,
   "metadata": {
    "collapsed": false
   },
   "outputs": [
    {
     "name": "stdout",
     "output_type": "stream",
     "text": [
      "Name:  Jim\n",
      "Age:  35\n"
     ]
    }
   ],
   "source": [
    "def printInfo( name, age ):\n",
    "    print (\"Name: \", name)\n",
    "    print (\"Age: \", age)\n",
    "    return;\n",
    "\n",
    "# Now you can call printinfo function\n",
    "printInfo( age=35, name=\"Jim\" )"
   ]
  },
  {
   "cell_type": "code",
   "execution_count": 3,
   "metadata": {
    "collapsed": false
   },
   "outputs": [
    {
     "name": "stdout",
     "output_type": "stream",
     "text": [
      "1400\n"
     ]
    }
   ],
   "source": [
    "# Height constant given\n",
    "Height = 10\n",
    "\n",
    "def paint(rooms):\n",
    "    big = 8 * Height\n",
    "    small = 6 * Height\n",
    "    one = 2 * (small+big)\n",
    "    return rooms * one\n",
    "\n",
    "print(paint(5)) #paint 5 rooms"
   ]
  },
  {
   "cell_type": "code",
   "execution_count": 74,
   "metadata": {
    "collapsed": false
   },
   "outputs": [
    {
     "name": "stdout",
     "output_type": "stream",
     "text": [
      "60\n"
     ]
    }
   ],
   "source": [
    "#### parking\n",
    "\n",
    "WEEK_CHARGE = 100 # cost per week\n",
    "DAY_CHARGE = 20   # cost per day\n",
    "DAYS_IN_WEEK = 7  # days per week    \n",
    "\n",
    "def parking(total_days):\n",
    "    ## Determine number of weeks, days remaining\n",
    "    weeks = total_days // DAYS_IN_WEEK\n",
    "    days = total_days % DAYS_IN_WEEK\n",
    "\n",
    "    ## Calculate cost of weeks, days remaining\n",
    "    week_cost = weeks * WEEK_CHARGE\n",
    "    day_cost = days * DAY_CHARGE\n",
    "\n",
    "    ## Total two costs\n",
    "    return week_cost + day_cost\n",
    "\n",
    "print(parking(3)) # choosing parking for 3 days"
   ]
  },
  {
   "cell_type": "markdown",
   "metadata": {},
   "source": [
    "# <font color=red>Conditionals - Logical Expressions </font>"
   ]
  },
  {
   "cell_type": "markdown",
   "metadata": {},
   "source": [
    "* **What**: We use the following operators to make comparisons.\n",
    "* **How**: The comparisons are evaluated to Boolean expressions (either True or False)"
   ]
  },
  {
   "cell_type": "raw",
   "metadata": {},
   "source": [
    "== (equals to)\n",
    "!= (NOT equals to)\n",
    "> (greater than)\n",
    "< (less than)\n",
    ">= (equals or greater than)\n",
    "<= (equals or less than)"
   ]
  },
  {
   "cell_type": "markdown",
   "metadata": {},
   "source": [
    "* **Note**: we use '=' to assign values and '==' to check if equal"
   ]
  },
  {
   "cell_type": "code",
   "execution_count": 158,
   "metadata": {
    "collapsed": false
   },
   "outputs": [
    {
     "name": "stdout",
     "output_type": "stream",
     "text": [
      "True\n",
      "True\n",
      "False\n"
     ]
    }
   ],
   "source": [
    "print (10 == 10) # True <- 10 is equal to 10\n",
    "print (11 != 4) # True <- 11 is not equal to 4\n",
    "print (2 == 3) # False <- 2 is equal to 3"
   ]
  },
  {
   "cell_type": "markdown",
   "metadata": {
    "collapsed": true
   },
   "source": [
    "## -  Condition evaluation\n"
   ]
  },
  {
   "cell_type": "markdown",
   "metadata": {},
   "source": [
    "* Python uses boolean variables True and False to evaluate conditions."
   ]
  },
  {
   "cell_type": "raw",
   "metadata": {},
   "source": [
    "# Syntax of conditional statements\n",
    "    \n",
    "    HEADER:\n",
    "        FIRST STATEMENT\n",
    "        ...\n",
    "        LAST STATEMENT\n",
    "        \n",
    "At least one condition has to be inside the condition block as minimum.\n",
    "pass statement can be used for place keepers (does nothing)."
   ]
  },
  {
   "cell_type": "markdown",
   "metadata": {},
   "source": [
    "## Introducing if- elif- else- Statements"
   ]
  },
  {
   "cell_type": "markdown",
   "metadata": {},
   "source": [
    "* **What**: If-else-elif statements provide a series of instructions that will be executed **if** the requirements are True\n",
    "* **How**: The computer checks if the statement is True; if it's True, the block of code is executed. If the statement is False, the computer skips to the next statement and check if it's True/False.\n",
    "* **Note**: The \"else\" statement is optional; but there can only be ** at most one \"else\" statement**. Instead, you can code **as many \"elif\" statements.** \n",
    "\n",
    "![if-elif-else%20color.png](attachment:if-elif-else%20color.png)"
   ]
  },
  {
   "cell_type": "code",
   "execution_count": 27,
   "metadata": {
    "collapsed": false,
    "scrolled": true
   },
   "outputs": [
    {
     "name": "stdout",
     "output_type": "stream",
     "text": [
      "please log in\n"
     ]
    }
   ],
   "source": [
    "# if statements run based on True or False\n",
    "\n",
    "logged_in = False\n",
    "message = ''\n",
    "\n",
    "if logged_in:\n",
    "    #logged_in is True\n",
    "    message = 'welcome'\n",
    "else:\n",
    "    #logged_in is False\n",
    "    message = 'please log in'\n",
    "\n",
    "print(message)"
   ]
  },
  {
   "cell_type": "code",
   "execution_count": null,
   "metadata": {
    "collapsed": true
   },
   "outputs": [],
   "source": []
  },
  {
   "cell_type": "code",
   "execution_count": 28,
   "metadata": {
    "collapsed": false
   },
   "outputs": [
    {
     "name": "stdout",
     "output_type": "stream",
     "text": [
      "welcome bala\n"
     ]
    }
   ],
   "source": [
    "# evaluating true / false statements\n",
    "\n",
    "user = 'bala'\n",
    "message = ''\n",
    "if user == 'bala':\n",
    "    message = 'welcome bala'\n",
    "else:\n",
    "    message = 'welcome guest'\n",
    "\n",
    "print(message)"
   ]
  },
  {
   "cell_type": "markdown",
   "metadata": {},
   "source": [
    "## Three logical operators"
   ]
  },
  {
   "cell_type": "markdown",
   "metadata": {},
   "source": [
    "* **What**: The three logical operators are **and**, **or**, and **not** \n",
    "* **How**: If you have multiple statements, the logical operators return **one** boolean expression (True, False) "
   ]
  },
  {
   "cell_type": "markdown",
   "metadata": {},
   "source": [
    "* **and** returns \"True\" only if all the statemnts are true \n",
    "* **or** returns \"True\" if at least one statement is true \n",
    "* **not** returns \"True\" if the statement is false (it switches the statement: if true, returns False. if false, returns True) \n",
    "![and.png](attachment:and.png)\n",
    "![or.png](attachment:or.png)\n",
    "![not.png](attachment:not.png)"
   ]
  },
  {
   "cell_type": "code",
   "execution_count": 23,
   "metadata": {
    "collapsed": false
   },
   "outputs": [
    {
     "name": "stdout",
     "output_type": "stream",
     "text": [
      "login success\n"
     ]
    }
   ],
   "source": [
    "# AND - If we want to check that more than one statement is True, we can use the \"and\" operator to chain them together.\n",
    "\n",
    "user = 'bala'\n",
    "password = 'changeme'\n",
    "\n",
    "if user == 'bala' and password == 'changeme':\n",
    "    print('login success')\n",
    "else:\n",
    "    print('password does not match user name')"
   ]
  },
  {
   "cell_type": "code",
   "execution_count": 24,
   "metadata": {
    "collapsed": false
   },
   "outputs": [
    {
     "name": "stdout",
     "output_type": "stream",
     "text": [
      "score is invalid\n"
     ]
    }
   ],
   "source": [
    "# OR - Likewise, if we want to check that at least one statement is True, we can use the \"or\" operator to chain them together.\n",
    "\n",
    "score = -20\n",
    "if score < 0 or score > 100:\n",
    "    print('score is invalid')"
   ]
  },
  {
   "cell_type": "markdown",
   "metadata": {},
   "source": [
    "**Chaining statements with \"elif\": **\n",
    "\n",
    "*For scenarios where we want to have more than 2 possible outcomes, or want to check against more than 1 condition, we can use an \"elif\" statement, which means \"else if\". Consider the code below:*\n"
   ]
  },
  {
   "cell_type": "code",
   "execution_count": 34,
   "metadata": {
    "collapsed": false
   },
   "outputs": [
    {
     "name": "stdout",
     "output_type": "stream",
     "text": [
      "255\n"
     ]
    }
   ],
   "source": [
    "#map percentage to a number between 0 and 255\n",
    "\n",
    "percentage = 1.1\n",
    "if percentage <= 0:\n",
    "    result = 0\n",
    "elif percentage >= 1:\n",
    "    result = 255\n",
    "else:\n",
    "    result = percentage*255\n",
    "print(result)\n",
    "\n",
    "# Since percentage is not <= 0, it will continue on to the next elif statement.\n",
    "# Since percentage is >= 1, it will run the code and ignore the subsequent else statement."
   ]
  },
  {
   "cell_type": "code",
   "execution_count": 93,
   "metadata": {
    "collapsed": false
   },
   "outputs": [
    {
     "data": {
      "text/plain": [
       "'Seat belt'"
      ]
     },
     "execution_count": 93,
     "metadata": {},
     "output_type": "execute_result"
    }
   ],
   "source": [
    "#### car_safety\n",
    "\n",
    "def car_safety(weight, height, age):\n",
    "# kg, cm, years\n",
    "    if weight >= 36 or height >= 145 or age >= 8:\n",
    "        return(\"Seat belt\")\n",
    "    elif 18 <= weight:\n",
    "        return(\"Booster\")\n",
    "    elif 9 <= weight:\n",
    "        return(\"Forward-facing car seat\")\n",
    "    else:\n",
    "        return(\"Backward-facing car seat\")\n",
    "    \n",
    "car_safety(65, 170, 20)"
   ]
  },
  {
   "cell_type": "markdown",
   "metadata": {},
   "source": [
    "*Note that elif statement is optional. However, unlike else, for which there can be at most one statement, there can be an arbitrary number of elif statements following an if.*"
   ]
  },
  {
   "cell_type": "markdown",
   "metadata": {},
   "source": [
    "# ** Nesting **\n",
    "\n",
    "* **What**: You can have an if-elif-else statements inside another if-elif-else statement.\n",
    "* **How**: Indent to indicate nesting"
   ]
  },
  {
   "cell_type": "code",
   "execution_count": 36,
   "metadata": {
    "collapsed": false
   },
   "outputs": [
    {
     "name": "stdout",
     "output_type": "stream",
     "text": [
      "127.5\n"
     ]
    }
   ],
   "source": [
    "#map percentage deviation of v from 0 to a range from 0 to 255\n",
    "\n",
    "v = -0.5\n",
    "if v < 0:\n",
    "    if v <= -1:\n",
    "        result = 255\n",
    "    else:\n",
    "        result = v * -255\n",
    "elif v > 0:\n",
    "    if v >= 1:\n",
    "        result = 255\n",
    "    else:\n",
    "        result = v * 255\n",
    "else:\n",
    "    result = 0\n",
    "print(result)\n"
   ]
  },
  {
   "cell_type": "markdown",
   "metadata": {},
   "source": [
    "*The return statement allows you to terminate the execution of a function before you reach the end. One reason to use it is if you detect an error condition:*"
   ]
  },
  {
   "cell_type": "code",
   "execution_count": 218,
   "metadata": {
    "collapsed": true
   },
   "outputs": [],
   "source": [
    "def printLogarithm(x): \n",
    "  if x <= 0: \n",
    "    print (\"Positive numbers only, please.\") \n",
    "    return # terminate execution of function\n",
    "\n",
    "  result = math.log(x) \n",
    "  print (\"The log of x is\", result )"
   ]
  },
  {
   "cell_type": "markdown",
   "metadata": {},
   "source": [
    "# <font color=red>Keyboard input</font>"
   ]
  },
  {
   "cell_type": "markdown",
   "metadata": {},
   "source": [
    "Python provides built-in functions that get input from the keyboard. The simplest is called raw_input. When this function is called, the program stops and waits for the user to type something. When the user presses Return or the Enter key, the program resumes and raw_input returns what the user typed as a string:"
   ]
  },
  {
   "cell_type": "code",
   "execution_count": 1,
   "metadata": {
    "collapsed": false
   },
   "outputs": [
    {
     "name": "stdout",
     "output_type": "stream",
     "text": [
      "Hello!\n",
      "Hello!\n"
     ]
    }
   ],
   "source": [
    "textToShow = raw_input () \n",
    "\n",
    "print (textToShow)"
   ]
  },
  {
   "cell_type": "code",
   "execution_count": 6,
   "metadata": {
    "collapsed": false
   },
   "outputs": [
    {
     "name": "stdout",
     "output_type": "stream",
     "text": [
      "What is your name?Joon\n",
      "Hello Joon!\n"
     ]
    }
   ],
   "source": [
    "name = raw_input (\"What is your name?\") # print a message telling the user what to input. \n",
    "\n",
    "print (\"Hello \" + name +\"!\" )"
   ]
  },
  {
   "cell_type": "markdown",
   "metadata": {},
   "source": [
    "# <font color=red> Iteration (loops)</font>"
   ]
  },
  {
   "cell_type": "markdown",
   "metadata": {},
   "source": [
    "* There are different types of loops. We will cover **while loops** and **for loops**\n",
    "* **What**: loops iterate over items of any sequence, such as a list or a string.\n",
    "* **How**: you set a condition or a limit, and the code executes while the condition is true or until the limit is met.\n",
    "\n",
    "* **Note**: nesting can occur in loops as well! "
   ]
  },
  {
   "cell_type": "markdown",
   "metadata": {},
   "source": [
    "## While loop\n",
    "\n",
    "* The block of code runs until the defined condition is no longer met. The condition is constantly evaluated, and if the condition is True, the code within the block is executed. This repeats until the condition becomes False. \n",
    "\n",
    "![while%20syntax.png](attachment:while%20syntax.png)"
   ]
  },
  {
   "cell_type": "code",
   "execution_count": 115,
   "metadata": {
    "collapsed": false
   },
   "outputs": [
    {
     "name": "stdout",
     "output_type": "stream",
     "text": [
      "Let's count to 10\n",
      "0\n",
      "1\n",
      "2\n",
      "3\n",
      "4\n",
      "5\n",
      "6\n",
      "7\n",
      "8\n",
      "9\n",
      "10\n",
      "Count completed\n"
     ]
    }
   ],
   "source": [
    "count = 0\n",
    "print(\"Let's count to 10\")\n",
    "while (count <= 10):\n",
    "   print(count)\n",
    "   count = count + 1\n",
    "print (\"Count completed\")"
   ]
  },
  {
   "cell_type": "markdown",
   "metadata": {},
   "source": [
    "**Visual representation of the above while loop.** \n",
    "\n",
    "For each iteration, the system verifies that \"count\" is less than or equal (<=) to 10.\n",
    "If \"count\" is less than or equal (<=) to 10 (True), the system follows what is inside of the while loop. \n",
    "The system prints the value of \"count\" then adds 1 to the value.\n",
    "\n",
    "Then the system *loops* back to the beginning, and verifies that this new value of \"count\" is less than or equal to 10. \n",
    "\n",
    "And the same process follows until the value of \"count\" is **not** less than or equal to 10 (False). Then, the loop is finished. \n",
    "\n",
    "![while%20loop.png](attachment:while%20loop.png)"
   ]
  },
  {
   "cell_type": "code",
   "execution_count": 3,
   "metadata": {
    "collapsed": false
   },
   "outputs": [
    {
     "name": "stdout",
     "output_type": "stream",
     "text": [
      "0  is  less than 5\n",
      "1  is  less than 5\n",
      "2  is  less than 5\n",
      "3  is  less than 5\n",
      "4  is  less than 5\n",
      "5  is not less than 5\n"
     ]
    }
   ],
   "source": [
    "count = 0\n",
    "while count < 5:\n",
    "   print (count, \" is  less than 5\")\n",
    "   count = count + 1\n",
    "\n",
    "print (count, \" is not less than 5\")"
   ]
  },
  {
   "cell_type": "markdown",
   "metadata": {},
   "source": [
    "## For loop\n",
    "\n",
    "* The block of code is repeat a **fixed number of times** distinguished by an explicit loop counter or loop variable.\n",
    "\n",
    "* **Note**: When you use the **range( )** function to repeat a certain amount of times, remember that 0 is the first number. (Ex: if you do range(5) you get the code repeated 6 times!)\n",
    "\n",
    "![for%20loop%20syntax.png](attachment:for%20loop%20syntax.png)"
   ]
  },
  {
   "cell_type": "code",
   "execution_count": 72,
   "metadata": {
    "collapsed": false
   },
   "outputs": [
    {
     "name": "stdout",
     "output_type": "stream",
     "text": [
      "0\n",
      "1\n",
      "2\n",
      "3\n",
      "4\n"
     ]
    }
   ],
   "source": [
    "# iterating over integers from 0 to 4 (5 times)\n",
    "\n",
    "    for i in range(5):\n",
    "        print(i)"
   ]
  },
  {
   "cell_type": "markdown",
   "metadata": {},
   "source": [
    "** Iterate over a List** \n",
    "\n",
    "Maybe you don't know how many times you want to iterate a block of code. In this case, you won't use the range() function to define for how long to run the for loop. \n",
    "\n",
    "For example, you might want to iterate over a list (however long the list is). \n",
    "(Note: we'll go over lists later in this lecture.)\n",
    "\n",
    "The syntax for this is: \n",
    "![for%20loop%20syntax-list.png](attachment:for%20loop%20syntax-list.png)"
   ]
  },
  {
   "cell_type": "code",
   "execution_count": 3,
   "metadata": {
    "collapsed": false
   },
   "outputs": [
    {
     "name": "stdout",
     "output_type": "stream",
     "text": [
      "Help on built-in function range in module __builtin__:\n",
      "\n",
      "range(...)\n",
      "    range(stop) -> list of integers\n",
      "    range(start, stop[, step]) -> list of integers\n",
      "    \n",
      "    Return a list containing an arithmetic progression of integers.\n",
      "    range(i, j) returns [i, i+1, i+2, ..., j-1]; start (!) defaults to 0.\n",
      "    When step is given, it specifies the increment (or decrement).\n",
      "    For example, range(4) returns [0, 1, 2, 3].  The end point is omitted!\n",
      "    These are exactly the valid indices for a list of 4 elements.\n",
      "\n"
     ]
    }
   ],
   "source": [
    "help(range)"
   ]
  },
  {
   "cell_type": "code",
   "execution_count": 74,
   "metadata": {
    "collapsed": false
   },
   "outputs": [
    {
     "name": "stdout",
     "output_type": "stream",
     "text": [
      "banana\n",
      "honeydew\n",
      "strawberry\n"
     ]
    }
   ],
   "source": [
    "# iterating over elements inside the list\n",
    "\n",
    "fruits = ['banana', 'honeydew', 'strawberry']\n",
    "for fruit in fruits:\n",
    "    print(fruit)"
   ]
  },
  {
   "cell_type": "code",
   "execution_count": 122,
   "metadata": {
    "collapsed": false
   },
   "outputs": [
    {
     "name": "stdout",
     "output_type": "stream",
     "text": [
      "cat\n",
      "dog\n",
      "hamster\n",
      "4\n",
      "5\n",
      "6\n"
     ]
    }
   ],
   "source": [
    "# iterating lists of list\n",
    "\n",
    "list_of_lists = [ ['cat', 'dog', 'hamster'], [4, 5, 6]]\n",
    "for list in list_of_lists:\n",
    "    for x in list:\n",
    "        print (x)"
   ]
  },
  {
   "cell_type": "markdown",
   "metadata": {},
   "source": [
    "# <font color=red>Strings</font>"
   ]
  },
  {
   "cell_type": "markdown",
   "metadata": {},
   "source": [
    "* Remember earlier in Values, Variabes and Data Types, we discussed strings as one of the data type\n",
    "* Strings are qualitatively different from int, float, or bools since they're made up of smaller pieces of characters.\n",
    "* Strings have special functions and operations \n",
    "\n"
   ]
  },
  {
   "cell_type": "markdown",
   "metadata": {},
   "source": [
    "## Length of a String "
   ]
  },
  {
   "cell_type": "markdown",
   "metadata": {},
   "source": [
    "* len(  ) returns the number of characters in the string \n",
    "* You can either place the variable name (of the string) inside the parenthesis OR the string itself, but remember to put the string in (single or double) quotations \n",
    "* **Note**: whitespace is included! \n",
    "\n"
   ]
  },
  {
   "cell_type": "code",
   "execution_count": 1,
   "metadata": {
    "collapsed": false
   },
   "outputs": [
    {
     "name": "stdout",
     "output_type": "stream",
     "text": [
      "6\n"
     ]
    }
   ],
   "source": [
    "# len() returns the number of characters\n",
    "\n",
    "fruit = 'durian'\n",
    "print (len(fruit))"
   ]
  },
  {
   "cell_type": "code",
   "execution_count": 8,
   "metadata": {
    "collapsed": false
   },
   "outputs": [
    {
     "name": "stdout",
     "output_type": "stream",
     "text": [
      "enter item 3\n",
      "enter 3 item \n",
      "enter 3 item \n"
     ]
    }
   ],
   "source": [
    "i = 3\n",
    "print(\"enter item \" + str(i))\n",
    "print(\"enter %d item \" %i)\n",
    "print(\"enter {} item \".format(i))\n"
   ]
  },
  {
   "cell_type": "code",
   "execution_count": 13,
   "metadata": {
    "collapsed": false
   },
   "outputs": [
    {
     "name": "stdout",
     "output_type": "stream",
     "text": [
      "--> nitin\n",
      "--> s2\n"
     ]
    },
    {
     "ename": "NameError",
     "evalue": "name 's2' is not defined",
     "output_type": "error",
     "traceback": [
      "\u001b[1;31m---------------------------------------------------------------------------\u001b[0m",
      "\u001b[1;31mNameError\u001b[0m                                 Traceback (most recent call last)",
      "\u001b[1;32m<ipython-input-13-3d6723e2ca5a>\u001b[0m in \u001b[0;36m<module>\u001b[1;34m()\u001b[0m\n\u001b[0;32m      1\u001b[0m \u001b[0ms2\u001b[0m \u001b[1;33m=\u001b[0m \u001b[0mraw_input\u001b[0m\u001b[1;33m(\u001b[0m\u001b[1;34m'--> '\u001b[0m\u001b[1;33m)\u001b[0m\u001b[1;33m\u001b[0m\u001b[0m\n\u001b[1;32m----> 2\u001b[1;33m \u001b[0ms1\u001b[0m \u001b[1;33m=\u001b[0m \u001b[0minput\u001b[0m\u001b[1;33m(\u001b[0m\u001b[1;34m'--> '\u001b[0m\u001b[1;33m)\u001b[0m\u001b[1;33m\u001b[0m\u001b[0m\n\u001b[0m",
      "\u001b[1;32md:\\anaconda2\\lib\\site-packages\\ipykernel\\ipkernel.pyc\u001b[0m in \u001b[0;36m<lambda>\u001b[1;34m(prompt)\u001b[0m\n\u001b[0;32m    163\u001b[0m             \u001b[0mself\u001b[0m\u001b[1;33m.\u001b[0m\u001b[0m_sys_eval_input\u001b[0m \u001b[1;33m=\u001b[0m \u001b[0mbuiltin_mod\u001b[0m\u001b[1;33m.\u001b[0m\u001b[0minput\u001b[0m\u001b[1;33m\u001b[0m\u001b[0m\n\u001b[0;32m    164\u001b[0m             \u001b[0mbuiltin_mod\u001b[0m\u001b[1;33m.\u001b[0m\u001b[0mraw_input\u001b[0m \u001b[1;33m=\u001b[0m \u001b[0mself\u001b[0m\u001b[1;33m.\u001b[0m\u001b[0mraw_input\u001b[0m\u001b[1;33m\u001b[0m\u001b[0m\n\u001b[1;32m--> 165\u001b[1;33m             \u001b[0mbuiltin_mod\u001b[0m\u001b[1;33m.\u001b[0m\u001b[0minput\u001b[0m \u001b[1;33m=\u001b[0m \u001b[1;32mlambda\u001b[0m \u001b[0mprompt\u001b[0m\u001b[1;33m=\u001b[0m\u001b[1;34m''\u001b[0m\u001b[1;33m:\u001b[0m \u001b[0meval\u001b[0m\u001b[1;33m(\u001b[0m\u001b[0mself\u001b[0m\u001b[1;33m.\u001b[0m\u001b[0mraw_input\u001b[0m\u001b[1;33m(\u001b[0m\u001b[0mprompt\u001b[0m\u001b[1;33m)\u001b[0m\u001b[1;33m)\u001b[0m\u001b[1;33m\u001b[0m\u001b[0m\n\u001b[0m\u001b[0;32m    166\u001b[0m         \u001b[0mself\u001b[0m\u001b[1;33m.\u001b[0m\u001b[0m_save_getpass\u001b[0m \u001b[1;33m=\u001b[0m \u001b[0mgetpass\u001b[0m\u001b[1;33m.\u001b[0m\u001b[0mgetpass\u001b[0m\u001b[1;33m\u001b[0m\u001b[0m\n\u001b[0;32m    167\u001b[0m         \u001b[0mgetpass\u001b[0m\u001b[1;33m.\u001b[0m\u001b[0mgetpass\u001b[0m \u001b[1;33m=\u001b[0m \u001b[0mself\u001b[0m\u001b[1;33m.\u001b[0m\u001b[0mgetpass\u001b[0m\u001b[1;33m\u001b[0m\u001b[0m\n",
      "\u001b[1;32md:\\anaconda2\\lib\\site-packages\\ipykernel\\ipkernel.pyc\u001b[0m in \u001b[0;36m<module>\u001b[1;34m()\u001b[0m\n",
      "\u001b[1;31mNameError\u001b[0m: name 's2' is not defined"
     ]
    }
   ],
   "source": [
    "s2 = raw_input('--> ')\n",
    "s1 = input('--> ')"
   ]
  },
  {
   "cell_type": "markdown",
   "metadata": {},
   "source": [
    "## Concatenation of Strings "
   ]
  },
  {
   "cell_type": "markdown",
   "metadata": {},
   "source": [
    "* **What**: Concatenation is connecting different strings together. You can either place the variable name (of the string) inside the parenthesis OR the string itself, but remember to put the string in (single or double) quotations \n",
    "* **How**: Use different operations such as + and * \n",
    "\n",
    "* The **+** operation adds the strings together\n",
    "* The ***** operation repeats the string as many times as you dictate \n",
    "\n",
    "* **Note**: You **cannot** use mathematical operations with integers \n",
    "\n"
   ]
  },
  {
   "cell_type": "code",
   "execution_count": null,
   "metadata": {
    "collapsed": true
   },
   "outputs": [],
   "source": [
    "    fruit = 'coconut' \n",
    "    ingredient = 'oil' \n",
    "    print (fruit + ingredient )\n",
    "    # Output: coconut oil\n",
    "\n",
    "    print('sing'*3) \n",
    "    # Output: 'singsingsing'\n",
    "\n",
    "# Improper string operations (strings cannot operate mathematical operations with integers)\n",
    "\n",
    "    house-1   \n",
    "    'HelloWorld'/123   \n",
    "    message*'HelloWorld'   \n",
    "    '15'+24 "
   ]
  },
  {
   "cell_type": "markdown",
   "metadata": {},
   "source": [
    "## - Traversal and the for loop"
   ]
  },
  {
   "cell_type": "code",
   "execution_count": 11,
   "metadata": {
    "collapsed": false
   },
   "outputs": [
    {
     "name": "stdout",
     "output_type": "stream",
     "text": [
      "Jatman\n",
      "Katman\n",
      "Latman\n",
      "Matman\n",
      "Natman\n",
      "Oatman\n",
      "Patman\n",
      "Qatman\n"
     ]
    }
   ],
   "source": [
    "# iterating over characters in prefixes\n",
    "prefixes = \"JKLMNOPQ\" \n",
    "suffix = \"atman\" \n",
    "\n",
    "for letter in prefixes: \n",
    "  print (letter + suffix )"
   ]
  },
  {
   "cell_type": "code",
   "execution_count": 1,
   "metadata": {
    "collapsed": false
   },
   "outputs": [
    {
     "name": "stdout",
     "output_type": "stream",
     "text": [
      "g\n",
      "o\n",
      "o\n",
      "g\n",
      "l\n",
      "e\n"
     ]
    }
   ],
   "source": [
    "# iterating over characters in \"google\"\n",
    "\n",
    "for letter in 'google':\n",
    "    print(letter)"
   ]
  },
  {
   "cell_type": "markdown",
   "metadata": {},
   "source": [
    "## - String slices"
   ]
  },
  {
   "cell_type": "markdown",
   "metadata": {},
   "source": [
    "A segment of a string is called a slice. Selecting a slice is similar to selecting a character:"
   ]
  },
  {
   "cell_type": "markdown",
   "metadata": {},
   "source": [
    "*NOTE: [n,m] returns the part of the string from the \"n-th\" character to the \"m-th\" character, including the first but excluding the last.* "
   ]
  },
  {
   "cell_type": "code",
   "execution_count": 17,
   "metadata": {
    "collapsed": false
   },
   "outputs": [
    {
     "name": "stdout",
     "output_type": "stream",
     "text": [
      "cars\n",
      "don't\n",
      "fly\n"
     ]
    }
   ],
   "source": [
    "s = \"cars don't fly\" \n",
    "print (s[0:4] )\n",
    "# cars\n",
    "print (s[5:10]) \n",
    "# don't\n",
    "print (s[11:] )\n",
    "# fly"
   ]
  },
  {
   "cell_type": "markdown",
   "metadata": {},
   "source": [
    "## - String comparison"
   ]
  },
  {
   "cell_type": "markdown",
   "metadata": {},
   "source": [
    "    Comparison operations are useful for putting words in alphabetical order:"
   ]
  },
  {
   "cell_type": "code",
   "execution_count": null,
   "metadata": {
    "collapsed": true
   },
   "outputs": [],
   "source": [
    "word = raw_input(\"Guess a word! \")\n",
    "\n",
    "if word == \"banana\": \n",
    "  print  (\"We've been thinking the same word!\")\n",
    "\n",
    "if word < \"banana\": \n",
    "  print (\"Your word,\" + word + \", comes before banana.\") \n",
    "elif word > \"banana\": \n",
    "  print (\"Your word,\" + word + \", comes after banana.\") \n",
    "else: \n",
    "  print (\"Yes, we have no bananas!\") "
   ]
  },
  {
   "cell_type": "markdown",
   "metadata": {},
   "source": [
    "You should be aware, though, that Python does not handle upper- and lowercase letters the same way that people do. All the uppercase letters come before all the lowercase letters. If the word was \"Zebra\", the result will be:\n",
    "\n",
    "    Your word, Zebra, comes before banana. \n",
    "\n",
    "A common way to address this problem is to convert strings to a standard format, such as all lowercase, before performing the comparison. This will be covered in the next topic."
   ]
  },
  {
   "cell_type": "markdown",
   "metadata": {},
   "source": [
    "## - Character classification"
   ]
  },
  {
   "cell_type": "code",
   "execution_count": null,
   "metadata": {
    "collapsed": true
   },
   "outputs": [],
   "source": [
    "x = 'FirstExample'\n",
    "\n",
    "print (x.lower()) # returns a copy of the string in which all case-based characters have been lower cased\n",
    "print (x.upper()) # returns a copy of the string in which all case-based characters have been upper cased"
   ]
  },
  {
   "cell_type": "markdown",
   "metadata": {},
   "source": [
    "## - More String functions"
   ]
  },
  {
   "cell_type": "code",
   "execution_count": null,
   "metadata": {
    "collapsed": true
   },
   "outputs": [],
   "source": [
    "# .find() search for a specific character or characters in a string and returns the first index where the character matches\n",
    "\n",
    "s = \"On the other hand, you have different fingers.\"\n",
    "s.find(\"hand\")\n",
    "# Output: 13"
   ]
  },
  {
   "cell_type": "code",
   "execution_count": null,
   "metadata": {
    "collapsed": true
   },
   "outputs": [],
   "source": [
    "# .replace() takes two arguments and replace first arguments to second argument whenever it's found within the string.\n",
    "\n",
    "s = \"I intend to live forever, or die trying.\"\n",
    "s.replace(\"to\", \"three\")\n",
    "# Output: 'I intend three live forever, or die trying.'\n",
    "s.replace(\"fore\", \"five\")\n",
    "# Output: 'I intend to live fivever, or die trying.'"
   ]
  },
  {
   "cell_type": "markdown",
   "metadata": {
    "collapsed": true
   },
   "source": [
    "# <font color=red> List</font>"
   ]
  },
  {
   "cell_type": "markdown",
   "metadata": {},
   "source": [
    "* Datatype which can be written as a list of comma-separated values (items) between square brackets.\n",
    "* List is one of the most frequently used and very versatile datatype used in Python.\n",
    "* Elements can be accessed using index starting from 0. \n",
    "\n",
    "![initializing%20a%20list.png](attachment:initializing%20a%20list.png)"
   ]
  },
  {
   "cell_type": "code",
   "execution_count": 37,
   "metadata": {
    "collapsed": true
   },
   "outputs": [],
   "source": [
    "#empty list\n",
    "list0 = []\n",
    "#numbers list\n",
    "list1 = [1, 2, 3, 4, 5 ]\n",
    "#mixed list\n",
    "list2 = ['physics', 'chemistry', 1997, 2000]\n",
    "# nested list\n",
    "list3 = [\"mouse\", [8, 4, 6], ['a']]"
   ]
  },
  {
   "cell_type": "markdown",
   "metadata": {},
   "source": [
    "**Getting items from list**\n",
    "* To get specific items, use index \n",
    "* Syntax: list_name[index] \n",
    "* If the index is negative, it's counted from right to left\n"
   ]
  },
  {
   "cell_type": "code",
   "execution_count": 38,
   "metadata": {
    "collapsed": false
   },
   "outputs": [
    {
     "name": "stdout",
     "output_type": "stream",
     "text": [
      "p\n",
      "p\n",
      "o\n",
      "o\n",
      "e\n",
      "e\n"
     ]
    }
   ],
   "source": [
    "my_list = ['p','r','o','b','e']\n",
    "# Output: p\n",
    "print(my_list[0]) #counting from left\n",
    "print(my_list[-5]) #counting from right\n",
    "\n",
    "# Output: o\n",
    "print(my_list[2]) #counting from left\n",
    "print(my_list[-3]) #counting from right\n",
    "\n",
    "# Output: e\n",
    "print(my_list[4]) #counting from left\n",
    "print(my_list[-1]) #counting from right"
   ]
  },
  {
   "cell_type": "markdown",
   "metadata": {},
   "source": [
    "**Getting item from nested list**\n",
    "* Each sub-list has its own index starting from zero\n",
    "* The groups are included in the main list's index \n",
    "* Indicate the index on the main list and the index in the sub-list \n",
    "* **Syntax: list_name[index_main][index_sub]**\n",
    "* Ex: if you wanted item3, it would be: list_name[1][1]\n",
    "\n",
    "![initializing%20a%20nested%20list.png](attachment:initializing%20a%20nested%20list.png)"
   ]
  },
  {
   "cell_type": "code",
   "execution_count": 39,
   "metadata": {
    "collapsed": false
   },
   "outputs": [
    {
     "name": "stdout",
     "output_type": "stream",
     "text": [
      "2014\n"
     ]
    }
   ],
   "source": [
    "company = [['bala','manager',2011],['neerav','executive',2014]]\n",
    "#Output: 2014\n",
    "print(company[1][2])"
   ]
  },
  {
   "cell_type": "markdown",
   "metadata": {},
   "source": [
    "** List Slicing: getting a range from list ** \n",
    "\n",
    "* **What**: you get a subset of the list \n",
    "* **How**: you start at the index before the colon and go up to (**not including**) the index after the colon "
   ]
  },
  {
   "cell_type": "code",
   "execution_count": 46,
   "metadata": {
    "collapsed": false
   },
   "outputs": [
    {
     "name": "stdout",
     "output_type": "stream",
     "text": [
      "['c', 'd', 'e']\n",
      "['a', 'b', 'c', 'd']\n",
      "['f', 'g', 'h', 'i']\n",
      "['a', 'b', 'c', 'd', 'e', 'f', 'g', 'h', 'i']\n"
     ]
    }
   ],
   "source": [
    "my_list = ['a','b','c','d','e','f','g','h','i'] # my_list.count == 9\n",
    "\n",
    "# index 2 to (5-1)\n",
    "print(my_list[2:5])\n",
    "# Output: ['c', 'd', 'e']\n",
    "\n",
    "# index 0 to (count-5)\n",
    "print(my_list[:-5])\n",
    "# Output: ['a', 'b', 'c', 'd']\n",
    "\n",
    "# index 5 to last(count-1)\n",
    "print(my_list[5:])\n",
    "# Output: ['f', 'g', 'h', 'i']\n",
    "\n",
    "# index 0 to last(count-1)\n",
    "print(my_list[:])\n",
    "# Output: ['a', 'b', 'c', 'd', 'e', 'f', 'g', 'h', 'i']"
   ]
  },
  {
   "cell_type": "markdown",
   "metadata": {},
   "source": [
    "** Adding to list using \" .append\"** "
   ]
  },
  {
   "cell_type": "code",
   "execution_count": 61,
   "metadata": {
    "collapsed": false
   },
   "outputs": [
    {
     "name": "stdout",
     "output_type": "stream",
     "text": [
      "['a', 'b', 'c', 'd', 'e', 'f', 'g', 'h', 'i', 'jungle']\n",
      "['a', 'b', 'c', 'd', 'e', 'f', 'g', 'h', 'i', 'jungle', 'k']\n",
      "['a', 'b', 'c', 'd', 'e', 'f', 'g', 'h', 'i', 'jungle', 'k', 'longan']\n"
     ]
    }
   ],
   "source": [
    "my_list = ['a','b','c','d','e','f','g','h','i'] # my_list.count == 9\n",
    "\n",
    "my_list.append('jungle')\n",
    "print(my_list)\n",
    "# Output: ['a', 'b', 'c', 'd', 'e', 'f', 'g', 'h', 'i', 'j']\n",
    "\n",
    "my_list.append('k')\n",
    "print(my_list)\n",
    "# Output: ['a', 'b', 'c', 'd', 'e', 'f', 'g', 'h', 'i', 'j', 'k']\n",
    "\n",
    "my_list.append('longan')\n",
    "print(my_list)\n",
    "# Output: ['a', 'b', 'c', 'd', 'e', 'f', 'g', 'h', 'i', 'j', 'k', 'l']\n"
   ]
  },
  {
   "cell_type": "markdown",
   "metadata": {},
   "source": [
    "** Removing from list using \"del[ ]\"** "
   ]
  },
  {
   "cell_type": "code",
   "execution_count": 53,
   "metadata": {
    "collapsed": false
   },
   "outputs": [
    {
     "name": "stdout",
     "output_type": "stream",
     "text": [
      "['a', 'b', 'f', 'g', 'h', 'i']\n",
      "['a', 'b', 'f', 'g', 'h']\n",
      "[]\n"
     ]
    }
   ],
   "source": [
    "my_list = ['a','b','c','d','e','f','g','h','i'] # my_list.count == 9\n",
    "\n",
    "# index 2 to (5-1)\n",
    "del my_list[2:5]\n",
    "print(my_list)\n",
    "# Output: ['a', 'b', 'f', 'g', 'h', 'i']\n",
    "\n",
    "# index 5 to last(count-1)\n",
    "del my_list[5:]\n",
    "print(my_list)\n",
    "# Output: ['b', 'f', 'g', 'h', 'i']\n",
    "\n",
    "# index 0 to last(count-1)\n",
    "del my_list[:]\n",
    "print(my_list)\n",
    "# Output: []"
   ]
  },
  {
   "cell_type": "markdown",
   "metadata": {},
   "source": [
    "## - Common built-in methods for list"
   ]
  },
  {
   "cell_type": "code",
   "execution_count": null,
   "metadata": {
    "collapsed": true
   },
   "outputs": [],
   "source": [
    "# returns the length (the number of items) of an object. Arguments are commonly sequence or collections. \n",
    "len()\n",
    "\n",
    "# inserts object into a list at a given position. First argument is the index, second argument is the value to be inserted.\n",
    "list.insert(i,x)\n",
    "\n",
    "# remove the item at the given position in the list, and return it. If no index specified, removes and returns the last element. \n",
    "list.pop(i)"
   ]
  },
  {
   "cell_type": "code",
   "execution_count": 41,
   "metadata": {
    "collapsed": false
   },
   "outputs": [
    {
     "name": "stdout",
     "output_type": "stream",
     "text": [
      "4\n",
      "[123, 'clementi', 'x', 'y', 45]\n",
      "['clementi', 'x', 'y', 45]\n"
     ]
    }
   ],
   "source": [
    "# example\n",
    "\n",
    "my_list = [123, 'clementi', 'x', 45]\n",
    "\n",
    "# length of my_list\n",
    "print len(my_list)\n",
    "# Output: 4\n",
    "\n",
    "# Insert 'y' at index 3\n",
    "my_list.insert(3,'y')\n",
    "print (my_list)\n",
    "# Output: [123, 'clementi', 'x', 'y', 45]\n",
    "\n",
    "# Remove and return the first element in the list\n",
    "my_list.pop(0)\n",
    "print (my_list)\n",
    "# Output: ['clementi', 'x', 'y', 45]"
   ]
  },
  {
   "cell_type": "code",
   "execution_count": 6,
   "metadata": {
    "collapsed": false
   },
   "outputs": [
    {
     "name": "stdout",
     "output_type": "stream",
     "text": [
      "0\n",
      "1\n",
      "2\n",
      "3\n",
      "4\n",
      "5\n",
      "6\n",
      "7\n",
      "8\n",
      "9\n"
     ]
    }
   ],
   "source": [
    "numbers = range(10)\n",
    "for i in numbers:\n",
    "    print (i)"
   ]
  }
 ],
 "metadata": {
  "kernelspec": {
   "display_name": "Python 2",
   "language": "python",
   "name": "python2"
  },
  "language_info": {
   "codemirror_mode": {
    "name": "ipython",
    "version": 2
   },
   "file_extension": ".py",
   "mimetype": "text/x-python",
   "name": "python",
   "nbconvert_exporter": "python",
   "pygments_lexer": "ipython2",
   "version": "2.7.13"
  }
 },
 "nbformat": 4,
 "nbformat_minor": 2
}
