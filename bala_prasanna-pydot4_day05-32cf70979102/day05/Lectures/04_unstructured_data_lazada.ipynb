{
 "cells": [
  {
   "cell_type": "markdown",
   "metadata": {},
   "source": [
    "# Real world (kickass) data scraping\n",
    "---\n",
    "### Goal\n",
    "To save the products from the given website\n",
    "### Evaluation\n",
    "We should be able to retrieve lazada products and their details\n",
    "### Methods\n",
    "Use request library to fetch website contents and beautiful soup to parse it and retrieve the specific tag contents to display\n",
    "### Tools\n",
    "* Python 2.7\n",
    "* Beautiful soup\n",
    "* Request\n"
   ]
  },
  {
   "cell_type": "code",
   "execution_count": 2,
   "metadata": {
    "collapsed": true
   },
   "outputs": [],
   "source": [
    "import requests\n",
    "from bs4 import BeautifulSoup\n",
    "from IPython.display import Image\n",
    "import csv"
   ]
  },
  {
   "cell_type": "markdown",
   "metadata": {},
   "source": [
    "#### Creating the category page URL"
   ]
  },
  {
   "cell_type": "code",
   "execution_count": 3,
   "metadata": {
    "collapsed": false
   },
   "outputs": [
    {
     "name": "stdout",
     "output_type": "stream",
     "text": [
      "Got the category page!  http://www.lazada.sg/shop-computers-laptops/?page=1\n"
     ]
    }
   ],
   "source": [
    "main_url = 'http://www.lazada.sg'\n",
    "category = 'computers-laptops'\n",
    "page_number = 1\n",
    "\n",
    "category_scrape_url = main_url + '/shop-' + category + '/?page='+str(page_number)\n",
    "\n",
    "category_webpage = requests.get(category_scrape_url).text\n",
    "print \"Got the category page! \",category_scrape_url"
   ]
  },
  {
   "cell_type": "markdown",
   "metadata": {},
   "source": [
    "#### Fetching the products on that category page (according to the specified page number)"
   ]
  },
  {
   "cell_type": "code",
   "execution_count": 4,
   "metadata": {
    "collapsed": false
   },
   "outputs": [
    {
     "name": "stdout",
     "output_type": "stream",
     "text": [
      "1 )  LZX EVOLVE S3 i7 Gaming Desktop (i7-8G-1T-N1060-W10H)\n",
      "2 )  Lenovo Ideapad 520 2tb Hdd (Black)\n",
      "3 )  PS3/X360/PC Astro A30 Wired Inc Mix Amp\n",
      "4 )  D-Link DIR-882 | AC2600 MU-MIMO Gigabit Router\n",
      "5 )  Samsung 32\" LS32F351FUEXXS FHD White Monitor With Super Slim Design (Lazada Exclusive)\n",
      "6 )  Business Model with On-Site Warranty [BRAND NEW] DELL VOSTRO 3468\n",
      "i5-7thGen/4GB/1TB/Win10Pro\n",
      "7 )  Samsung LC27F397FHEXXV 27\" Curved Monitor\n",
      "8 )  Asus VivoBook Pro 15 (N580VD-DM467T) - 15.6\"/i7-7700HQ/16GB DDR4/128GB SSD+1TB HDD/Nvidia GTX1050Ti/W10\n",
      "9 )  Asus ROG Gaming Laptop (GL702VM-GC225T) - 17.3\"/i7-7700HQ/8GB DDR4/1TB HDD/NV GTX1060/Win10\n",
      "10 )  Microsoft Office 2016 Professional Plus 1 user for Windows (lifetime)\n",
      "11 )  D-Link DIR-859 AC1750 High Power Wi-Fi Gigabit Dual Band Wireless\n",
      "Router\n",
      "12 )  Lenovo ideapad 110 (BLACK) 15.6 HD\n",
      "13 )  Acer Predator Helios 300 (G3-572-7570) - 15.6\"/i7-7700HQ/16GB DDR4/256GB SSD+1TB HDD/Nvidia GTX1060/W10\n",
      "14 )  Acer Predator X34A Curved 34\" G-Sync Quad HD Gaming Monitor\n",
      "15 )  Predator Helios 300 (G3-571-71XX) 15.6 Inch Full HD IPS Gaming Laptop with NVIDIA GTX 1060 Graphics - Free Predator Headset + Backpack\n",
      "16 )  D-Link DIR-878 | AC1900 MU-MIMO Dual Band Gigabit Router - with\n",
      "SmartBeam WIFI\n",
      "17 )  Asus VivoBook Pro 15 (N580VD-DM484T) - 15.6\"/i7-7700HQ/8GB DDR4/1TB HDD/Nvidia GTX1050/W10\n",
      "18 )  D-Link DCH-M225 | N300 Wireless Audio Extender\n",
      "19 )  HP Spectre x360 Conve 13-ac034TU\n",
      "20 )  Acer Aspire ES11 (ES1-132-C0TL) 11.6\" Ultrathin 4GB Ram/64GB eMMC/W10 Laptop (Black)\n",
      "21 )  2TB USB Flash Drive Memory USB Stick U Disk Pen Drive Pendrive\n",
      "(Silver) - intl\n",
      "22 )  Asus X-Series (FX502VM-DM266T) - 15.6\" / i7-7700HQ / 8GB DDR4 / 1TB HDD / NV GTX1060 / Win10+FREE McAfee & Optical Mouse\n",
      "23 )  Dell XPS13 Ultrabook 7th Gen i7-7500U, 256SSD, WIN10\n",
      "24 )  Samsung 850 Evo 1tb 2.5-Inch SSD\n",
      "25 )  MSI GT72VR 7RE Gaming Laptop - I7-7700HQ, 16GB, GTX1070 8G, WIN10\n",
      "26 )  [New Arrival] HP 7th Gen15.6\" Intel Core i5 8GB RAM Graphic Card 2GB windows 10 wifi 5G BT4.2 Model July2017\n",
      "27 )  MSI GL62M 7RD Gaming Laptop -i7-7700HQ, 8GB, 1TB, GTX1050 2GB DDR5)\n",
      "(Black)\n",
      "28 )  Asus ROG Gaming Laptop (GL502VM-FY219T) - 15.6\"/i7-7700HQ/16GB DDR4/128GB SSD+1TB HDD/NV GTX1060/Win10\n",
      "29 )  HP DeskJet 2130 All-in-One Printer\n",
      "30 )  Dell SE2417HG 24\" Gaming Monitor\n",
      "31 )  RAZER BLADE STEALTH - UHD 4K (512GB)\n",
      "32 )  Apple Macbook Pro 13 inch 2.9GHz 256GB\n",
      "33 )  Samsung 850 EVO SATA III 2.5\" SSD 500GB (MZ-75E500BW)\n",
      "34 )  HP Stream Laptop 11-y022TU\n",
      "35 )  Lenovo ideapad 320 Platinum Grey\n",
      "36 )  Seagate Backup Plus Ultra Slim 2TB - Gold\n"
     ]
    }
   ],
   "source": [
    "soup = BeautifulSoup(category_webpage, \"html.parser\")\n",
    "links = soup.findAll('a', {'class': 'c-product-card__name'})\n",
    "link_number = 1\n",
    "for link in links:\n",
    "    print link_number,\") \",link.text.strip()\n",
    "    link_number = link_number + 1 #Output too long, not shown. "
   ]
  },
  {
   "cell_type": "markdown",
   "metadata": {},
   "source": [
    "#### Let's get a product from the page!"
   ]
  },
  {
   "cell_type": "code",
   "execution_count": 5,
   "metadata": {
    "collapsed": false
   },
   "outputs": [
    {
     "name": "stdout",
     "output_type": "stream",
     "text": [
      "Got product!  http://www.lazada.sg/lzx-evolve-s3-i7-gaming-desktop-i7-8g-1t-n1060-w10h-43928957.html?ff=1&sc=ETY=\n"
     ]
    }
   ],
   "source": [
    "product_number = 1\n",
    "product_url = main_url + links[product_number-1].get('href')\n",
    "product_webpage = requests.get(product_url).text\n",
    "soup = BeautifulSoup(product_webpage, \"html.parser\")\n",
    "print \"Got product! \",product_url"
   ]
  },
  {
   "cell_type": "markdown",
   "metadata": {},
   "source": [
    "#### Display the product details!"
   ]
  },
  {
   "cell_type": "code",
   "execution_count": 12,
   "metadata": {
    "collapsed": false,
    "scrolled": true
   },
   "outputs": [
    {
     "name": "stdout",
     "output_type": "stream",
     "text": [
      "\n",
      "\n",
      "Name:  SanDisk SSD PLUS 120GB 2.5\" SATA\n",
      "Price:  82.0 SGD\n"
     ]
    },
    {
     "data": {
      "text/html": [
       "<img src=\"http://sg-live-02.slatic.net/p/2/sandisk-ssd-plus-120gb-25-sata-0247-4946008-1632be595c9c7c8a5e5df21498f233c4-product.jpg\"/>"
      ],
      "text/plain": [
       "<IPython.core.display.Image object>"
      ]
     },
     "execution_count": 12,
     "metadata": {},
     "output_type": "execute_result"
    }
   ],
   "source": [
    "product_name = soup.find('h1', {'id': 'prod_title'}).string.strip()\n",
    "product_cost = float(soup.find('span', {'id':'product_price'}).string)\n",
    "product_img_url = soup.findAll('img', {'class' : 'itm-img'})[-1].get('src')\n",
    "\n",
    "Image(url=product_img_url)\n",
    "print \"\\n\\nName: \",product_name\n",
    "print \"Price: \",product_cost,\"SGD\"\n",
    "Image(url=product_img_url)\n"
   ]
  },
  {
   "cell_type": "code",
   "execution_count": 17,
   "metadata": {
    "collapsed": false
   },
   "outputs": [
    {
     "name": "stdout",
     "output_type": "stream",
     "text": [
      "\n"
     ]
    }
   ],
   "source": [
    "rating = soup.find('span', {'class': 'ratingNumber'})\n",
    "ratings = ''\n",
    "if rating:\n",
    "    ratings = rating.find('em').string\n",
    "print ratings"
   ]
  },
  {
   "cell_type": "code",
   "execution_count": 14,
   "metadata": {
    "collapsed": false
   },
   "outputs": [
    {
     "name": "stdout",
     "output_type": "stream",
     "text": [
      "<h1 id=\"prod_title\">\n",
      "                SanDisk SSD PLUS 120GB 2.5\" SATA                 \n",
      "            </h1>\n"
     ]
    }
   ],
   "source": [
    "print soup.find('h1', {'id': 'prod_title'})"
   ]
  },
  {
   "cell_type": "code",
   "execution_count": null,
   "metadata": {
    "collapsed": true
   },
   "outputs": [],
   "source": [
    "# making things loop ...\n",
    "soup = BeautifulSoup(category_webpage, \"html.parser\")\n",
    "links = soup.findAll('a', {'class': 'c-product-card__name'})\n",
    "for index,link in enumerate(links):\n",
    "    product_url = main_url + links[index].get('href')\n",
    "    product_webpage = requests.get(product_url).text\n",
    "    soup = BeautifulSoup(product_webpage, \"html.parser\")\n",
    "    product_name = soup.find('h1').string.strip()\n",
    "    product_cost = float(soup.find('span', {'id':'product_price'}).string)\n",
    "    print (product_name,product_cost) #output too long, not shown. \n",
    " "
   ]
  }
 ],
 "metadata": {
  "kernelspec": {
   "display_name": "Python 2",
   "language": "python",
   "name": "python2"
  },
  "language_info": {
   "codemirror_mode": {
    "name": "ipython",
    "version": 2
   },
   "file_extension": ".py",
   "mimetype": "text/x-python",
   "name": "python",
   "nbconvert_exporter": "python",
   "pygments_lexer": "ipython2",
   "version": "2.7.13"
  }
 },
 "nbformat": 4,
 "nbformat_minor": 2
}
