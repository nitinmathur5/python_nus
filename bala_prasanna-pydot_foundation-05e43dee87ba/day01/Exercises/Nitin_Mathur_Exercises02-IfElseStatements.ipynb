{
 "cells": [
  {
   "cell_type": "markdown",
   "metadata": {},
   "source": [
    "## Exercise 1"
   ]
  },
  {
   "cell_type": "markdown",
   "metadata": {},
   "source": [
    "Write a program to prompt the user for hours and rate per hour to compute gross pay.Take into account that the factory gives the employee 1.5 times the hourly rate for hours worked above 40 hours.\n",
    "\n",
    "Enter Hours: 45\n",
    "Rate: 10\n",
    "Pay: 475.0"
   ]
  },
  {
   "cell_type": "code",
   "execution_count": 3,
   "metadata": {
    "collapsed": false
   },
   "outputs": [
    {
     "name": "stdout",
     "output_type": "stream",
     "text": [
      "Enter hours\n",
      "45\n",
      "rate per hour\n",
      "10\n",
      "475.0\n"
     ]
    }
   ],
   "source": [
    "print(\"Enter hours\")\n",
    "hours = int(raw_input())\n",
    "print(\"Rate per hour\")\n",
    "rate_p_hour = int(raw_input())\n",
    "gross_pay = 40 * rate_p_hour\n",
    "if (hours-40) > 0:\n",
    "    gross_pay += (1.5*rate_p_hour*(hours-40))\n",
    "\n",
    "print gross_pay"
   ]
  },
  {
   "cell_type": "markdown",
   "metadata": {},
   "source": [
    "Exercise 2"
   ]
  },
  {
   "cell_type": "raw",
   "metadata": {
    "collapsed": true
   },
   "source": [
    "Write a program to prompt for a score between 0.0 and 1.0. If the score is out of range print an error. If the score is between 0.0 and 1.0, print a grade using the following table:\n",
    "\n",
    "Score Grade\n",
    ">= 0.9 A\n",
    ">= 0.8 B\n",
    ">= 0.7 C\n",
    ">= 0.6 D\n",
    "< 0.6 F"
   ]
  },
  {
   "cell_type": "code",
   "execution_count": 7,
   "metadata": {
    "collapsed": false
   },
   "outputs": [
    {
     "name": "stdout",
     "output_type": "stream",
     "text": [
      "Enter score between 0.0 and 1.0\n",
      "0.7\n",
      "C\n"
     ]
    }
   ],
   "source": [
    "print(\"Enter score between 0.0 and 1.0\")\n",
    "score = float(raw_input())\n",
    "if(score > 1.0 or score <0.0):\n",
    "    print(\"Out of range score\")\n",
    "else:\n",
    "    if(score < 0.6):\n",
    "        print \"F\"\n",
    "    elif (score <0.7):\n",
    "        print \"D\"\n",
    "    elif (score <0.8):\n",
    "        print \"C\"\n",
    "    elif (score <0.9):\n",
    "        print \"B\"\n",
    "    else:\n",
    "        print A"
   ]
  },
  {
   "cell_type": "markdown",
   "metadata": {},
   "source": [
    "## Exercise 3"
   ]
  },
  {
   "cell_type": "raw",
   "metadata": {
    "collapsed": true
   },
   "source": [
    "Write a program that ask for a number to the user and clasifies it:\n",
    "\n",
    "number <2 SMALL\n",
    "number <10 MEDIUM\n",
    "number rest LARGE"
   ]
  },
  {
   "cell_type": "code",
   "execution_count": 12,
   "metadata": {
    "collapsed": false
   },
   "outputs": [
    {
     "name": "stdout",
     "output_type": "stream",
     "text": [
      "Enter number\n",
      "4\n",
      "MEDIUM\n"
     ]
    }
   ],
   "source": [
    "print(\"Enter number\")\n",
    "num = int(raw_input())\n",
    "if(num < 2):\n",
    "    print \"SMALL\"\n",
    "elif (num < 10):\n",
    "    print \"MEDIUM\"\n",
    "else:\n",
    "    print \"LARGE\""
   ]
  }
 ],
 "metadata": {
  "kernelspec": {
   "display_name": "Python 2",
   "language": "python",
   "name": "python2"
  },
  "language_info": {
   "codemirror_mode": {
    "name": "ipython",
    "version": 2
   },
   "file_extension": ".py",
   "mimetype": "text/x-python",
   "name": "python",
   "nbconvert_exporter": "python",
   "pygments_lexer": "ipython2",
   "version": "2.7.13"
  }
 },
 "nbformat": 4,
 "nbformat_minor": 2
}
