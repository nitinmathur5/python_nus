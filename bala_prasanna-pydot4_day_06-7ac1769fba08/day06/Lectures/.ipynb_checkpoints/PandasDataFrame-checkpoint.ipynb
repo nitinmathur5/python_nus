{
 "cells": [
  {
   "cell_type": "code",
   "execution_count": 26,
   "metadata": {
    "collapsed": false
   },
   "outputs": [
    {
     "name": "stdout",
     "output_type": "stream",
     "text": [
      "year                  2016\n",
      "level_1    Total Residents\n",
      "value              3933559\n",
      "dtype: object\n"
     ]
    }
   ],
   "source": [
    "import pandas as pd\n",
    "import numpy as np\n",
    "\n",
    "Location = r'Singapore_Residents_June.csv'      #filename = Singapore_Residents_June.csv\n",
    "df = pd.read_csv(Location, names=[\"_id\", \"year\", \"level_1\", \"value\"])         #load csv file onto pandas data frame\n",
    "del df[\"_id\"]          #delete the first column\n",
    "#print (df[df[\"level_1\"] == \"Total Residents\"])\n",
    "\n",
    "filtered_data_df = df[df[\"level_1\"] == \"Total Residents\"]\n",
    "#print (filtered_data_df.max())\n",
    "next_filter_data_df = df( [df[\"level_1\"] == \"Total Male Residents\"] or [df[\"level_1\"] == \"Total Female Residents\"])\n",
    "print next_filter_data_df"
   ]
  },
  {
   "cell_type": "code",
   "execution_count": null,
   "metadata": {
    "collapsed": true
   },
   "outputs": [],
   "source": []
  }
 ],
 "metadata": {
  "kernelspec": {
   "display_name": "Python 2",
   "language": "python",
   "name": "python2"
  },
  "language_info": {
   "codemirror_mode": {
    "name": "ipython",
    "version": 2
   },
   "file_extension": ".py",
   "mimetype": "text/x-python",
   "name": "python",
   "nbconvert_exporter": "python",
   "pygments_lexer": "ipython2",
   "version": "2.7.13"
  }
 },
 "nbformat": 4,
 "nbformat_minor": 0
}
