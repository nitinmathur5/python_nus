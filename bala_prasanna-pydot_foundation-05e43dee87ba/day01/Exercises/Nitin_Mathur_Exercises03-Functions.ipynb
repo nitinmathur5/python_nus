{
 "cells": [
  {
   "cell_type": "markdown",
   "metadata": {},
   "source": [
    "## Exercise 1"
   ]
  },
  {
   "cell_type": "markdown",
   "metadata": {},
   "source": [
    "Write a shutting down program:\n",
    "\n",
    "First, def a function, shut_down, that takes one argument s. Then, if the shut_down function receives an s equal to \"yes\", it should return \"Shutting down\" Alternatively, elif s is equal to \"no\", then the function should return \"Shutdown aborted\". Finally, if shut_down gets anything other than those inputs, the function should return \"Sorry\"."
   ]
  },
  {
   "cell_type": "code",
   "execution_count": 12,
   "metadata": {
    "collapsed": false
   },
   "outputs": [
    {
     "name": "stdout",
     "output_type": "stream",
     "text": [
      "Shutting down\n",
      "Shutdown aborted\n",
      "Sorry\n"
     ]
    }
   ],
   "source": [
    "def shut_down(argu):\n",
    "    if \"yes\" is argu:\n",
    "        print \"Shutting down\"\n",
    "    elif argu is \"no\":\n",
    "        print \"Shutdown aborted\"\n",
    "    else:\n",
    "        print \"Sorry\"\n",
    "        \n",
    "shut_down(\"yes\")\n",
    "shut_down(\"no\")\n",
    "shut_down(\"bala\")"
   ]
  },
  {
   "cell_type": "markdown",
   "metadata": {},
   "source": [
    "## Exercise 2"
   ]
  },
  {
   "cell_type": "markdown",
   "metadata": {},
   "source": [
    "Import the math module in whatever way you prefer. Call its sqrt function on the number 13689 and print that value to the console. Using a function is not required. "
   ]
  },
  {
   "cell_type": "code",
   "execution_count": 16,
   "metadata": {
    "collapsed": false
   },
   "outputs": [
    {
     "data": {
      "text/plain": [
       "117"
      ]
     },
     "execution_count": 16,
     "metadata": {},
     "output_type": "execute_result"
    }
   ],
   "source": [
    "import math\n",
    "#print(math.sqrt(13689))\n",
    "math.sqrt(13689)"
   ]
  },
  {
   "cell_type": "markdown",
   "metadata": {},
   "source": [
    "## Exercise 3"
   ]
  },
  {
   "cell_type": "markdown",
   "metadata": {},
   "source": [
    "First, def a function called distance_from_zero, with one argument (choose any argument name you like). If the type of the argument is either int or float, the function should return the absolute value of the function input. Otherwise, the function should return \"Nope\". Check if it works calling the function with -5.6 and \"what?\"."
   ]
  },
  {
   "cell_type": "code",
   "execution_count": 28,
   "metadata": {
    "collapsed": false
   },
   "outputs": [
    {
     "name": "stdout",
     "output_type": "stream",
     "text": [
      "1\n",
      "5.5\n",
      "Nope\n"
     ]
    }
   ],
   "source": [
    "def distance_from_zero(arg_type):\n",
    "    if (type(arg_type) == int) or (type(arg_type) == float):\n",
    "        return abs(arg_type)\n",
    "    else:\n",
    "        return \"Nope\"\n",
    "    \n",
    "print(distance_from_zero(1))\n",
    "print(distance_from_zero(5.5))\n",
    "print(distance_from_zero(\"Pass\"))"
   ]
  },
  {
   "cell_type": "markdown",
   "metadata": {},
   "source": [
    "## Exercise 4"
   ]
  },
  {
   "cell_type": "markdown",
   "metadata": {},
   "source": [
    "Follow the stpes:\n",
    "\n",
    "1. First, def a function called cube that takes an argument called number.\n",
    "2. Make that function return the cube of that number (i.e. that number multiplied by itself and multiplied by itself once again).\n",
    "3. Define a second function called by_three that takes an argument called number. if that number is divisible by 3,by_threeshould call cube(number) and return its result. Otherwise, by_three should return False. -Check if it works."
   ]
  },
  {
   "cell_type": "code",
   "execution_count": 34,
   "metadata": {
    "collapsed": false
   },
   "outputs": [
    {
     "name": "stdout",
     "output_type": "stream",
     "text": [
      "27\n",
      "False\n"
     ]
    }
   ],
   "source": [
    "def cube(number):\n",
    "    return number**3\n",
    "\n",
    "def by_three(number):\n",
    "    if (number%3 == False):\n",
    "        return cube(number)\n",
    "    else:\n",
    "        return False\n",
    "\n",
    "print(by_three(3))\n",
    "print(by_three(14))"
   ]
  },
  {
   "cell_type": "code",
   "execution_count": null,
   "metadata": {
    "collapsed": true
   },
   "outputs": [],
   "source": []
  }
 ],
 "metadata": {
  "kernelspec": {
   "display_name": "Python 2",
   "language": "python",
   "name": "python2"
  },
  "language_info": {
   "codemirror_mode": {
    "name": "ipython",
    "version": 2
   },
   "file_extension": ".py",
   "mimetype": "text/x-python",
   "name": "python",
   "nbconvert_exporter": "python",
   "pygments_lexer": "ipython2",
   "version": "2.7.13"
  }
 },
 "nbformat": 4,
 "nbformat_minor": 2
}
