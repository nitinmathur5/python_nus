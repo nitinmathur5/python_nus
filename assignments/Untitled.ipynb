{
 "cells": [
  {
   "cell_type": "code",
   "execution_count": 5,
   "metadata": {
    "collapsed": false
   },
   "outputs": [
    {
     "name": "stdout",
     "output_type": "stream",
     "text": [
      "Requirement already satisfied: twitter in d:\\anaconda2\\lib\\site-packages\n",
      "Help on class Twitter in module twitter.api:\n",
      "\n",
      "class Twitter(TwitterCall)\n",
      " |  The minimalist yet fully featured Twitter API class.\n",
      " |  \n",
      " |  Get RESTful data by accessing members of this class. The result\n",
      " |  is decoded python objects (lists and dicts).\n",
      " |  \n",
      " |  The Twitter API is documented at:\n",
      " |  \n",
      " |    https://dev.twitter.com/overview/documentation\n",
      " |  \n",
      " |  The list of most accessible functions is listed at:\n",
      " |  \n",
      " |    https://dev.twitter.com/rest/public\n",
      " |  \n",
      " |  \n",
      " |  Examples::\n",
      " |  \n",
      " |      from twitter import *\n",
      " |  \n",
      " |      t = Twitter(\n",
      " |          auth=OAuth(token, token_secret, consumer_key, consumer_secret))\n",
      " |  \n",
      " |      # Get your \"home\" timeline\n",
      " |      t.statuses.home_timeline()\n",
      " |  \n",
      " |      # Get a particular friend's timeline\n",
      " |      t.statuses.user_timeline(screen_name=\"billybob\")\n",
      " |  \n",
      " |      # to pass in GET/POST parameters, such as `count`\n",
      " |      t.statuses.home_timeline(count=5)\n",
      " |  \n",
      " |      # to pass in the GET/POST parameter `id` you need to use `_id`\n",
      " |      t.statuses.oembed(_id=1234567890)\n",
      " |  \n",
      " |      # Update your status\n",
      " |      t.statuses.update(\n",
      " |          status=\"Using @sixohsix's sweet Python Twitter Tools.\")\n",
      " |  \n",
      " |      # Send a direct message\n",
      " |      t.direct_messages.new(\n",
      " |          user=\"billybob\",\n",
      " |          text=\"I think yer swell!\")\n",
      " |  \n",
      " |      # Get the members of tamtar's list \"Things That Are Rad\"\n",
      " |      t.lists.members(owner_screen_name=\"tamtar\", slug=\"things-that-are-rad\")\n",
      " |  \n",
      " |      # An *optional* `_timeout` parameter can also be used for API\n",
      " |      # calls which take much more time than normal or twitter stops\n",
      " |      # responding for some reason:\n",
      " |      t.users.lookup(\n",
      " |          screen_name=','.join(A_LIST_OF_100_SCREEN_NAMES),             _timeout=1)\n",
      " |  \n",
      " |      # Overriding Method: GET/POST\n",
      " |      # you should not need to use this method as this library properly\n",
      " |      # detects whether GET or POST should be used, Nevertheless\n",
      " |      # to force a particular method, use `_method`\n",
      " |      t.statuses.oembed(_id=1234567890, _method='GET')\n",
      " |  \n",
      " |      # Send images along with your tweets:\n",
      " |      # - first just read images from the web or from files the regular way:\n",
      " |      with open(\"example.png\", \"rb\") as imagefile:\n",
      " |          imagedata = imagefile.read()\n",
      " |      # - then upload medias one by one on Twitter's dedicated server\n",
      " |      #   and collect each one's id:\n",
      " |      t_upload = Twitter(domain='upload.twitter.com',\n",
      " |          auth=OAuth(token, token_secret, consumer_key, consumer_secret))\n",
      " |      id_img1 = t_upload.media.upload(media=imagedata)[\"media_id_string\"]\n",
      " |      id_img2 = t_upload.media.upload(media=imagedata)[\"media_id_string\"]\n",
      " |  \n",
      " |      # - finally send your tweet with the list of media ids:\n",
      " |      t.statuses.update(status=\"PTT &#9733;\", media_ids=\",\".join([id_img1, id_img2]))\n",
      " |  \n",
      " |      # Or send a tweet with an image (or set a logo/banner similarily)\n",
      " |      # using the old deprecated method that will probably disappear some day\n",
      " |      params = {\"media[]\": imagedata, \"status\": \"PTT &#9733;\"}\n",
      " |      # Or for an image encoded as base64:\n",
      " |      params = {\"media[]\": base64_image, \"status\": \"PTT &#9733;\", \"_base64\": True}\n",
      " |      t.statuses.update_with_media(**params)\n",
      " |  \n",
      " |      # Attach text metadata to medias sent, using the upload.twitter.com route\n",
      " |      # using the _json workaround to send json arguments as POST body\n",
      " |      # (warning: to be done before attaching the media to a tweet)\n",
      " |      t_upload.media.metadata.create(_json={\n",
      " |        \"media_id\": id_img1,\n",
      " |        \"alt_text\": { \"text\": \"metadata generated via PTT!\" }\n",
      " |      })\n",
      " |      # or with the shortcut arguments (\"alt_text\" and \"text\" work):\n",
      " |      t_upload.media.metadata.create(media_id=id_img1, text=\"metadata generated via PTT!\")\n",
      " |  \n",
      " |  Searching Twitter::\n",
      " |  \n",
      " |      # Search for the latest tweets about #pycon\n",
      " |      t.search.tweets(q=\"#pycon\")\n",
      " |  \n",
      " |  \n",
      " |  Using the data returned\n",
      " |  -----------------------\n",
      " |  \n",
      " |  Twitter API calls return decoded JSON. This is converted into\n",
      " |  a bunch of Python lists, dicts, ints, and strings. For example::\n",
      " |  \n",
      " |      x = twitter.statuses.home_timeline()\n",
      " |  \n",
      " |      # The first 'tweet' in the timeline\n",
      " |      x[0]\n",
      " |  \n",
      " |      # The screen name of the user who wrote the first 'tweet'\n",
      " |      x[0]['user']['screen_name']\n",
      " |  \n",
      " |  \n",
      " |  Getting raw XML data\n",
      " |  --------------------\n",
      " |  \n",
      " |  If you prefer to get your Twitter data in XML format, pass\n",
      " |  format=\"xml\" to the Twitter object when you instantiate it::\n",
      " |  \n",
      " |      twitter = Twitter(format=\"xml\")\n",
      " |  \n",
      " |  The output will not be parsed in any way. It will be a raw string\n",
      " |  of XML.\n",
      " |  \n",
      " |  Method resolution order:\n",
      " |      Twitter\n",
      " |      TwitterCall\n",
      " |      __builtin__.object\n",
      " |  \n",
      " |  Methods defined here:\n",
      " |  \n",
      " |  __init__(self, format=u'json', domain=u'api.twitter.com', secure=True, auth=None, api_version=<class 'twitter.api._DEFAULT'>, retry=False)\n",
      " |      Create a new twitter API connector.\n",
      " |      \n",
      " |      Pass an `auth` parameter to use the credentials of a specific\n",
      " |      user. Generally you'll want to pass an `OAuth`\n",
      " |      instance::\n",
      " |      \n",
      " |          twitter = Twitter(auth=OAuth(\n",
      " |                  token, token_secret, consumer_key, consumer_secret))\n",
      " |      \n",
      " |      \n",
      " |      `domain` lets you change the domain you are connecting. By\n",
      " |      default it's `api.twitter.com`.\n",
      " |      \n",
      " |      If `secure` is False you will connect with HTTP instead of\n",
      " |      HTTPS.\n",
      " |      \n",
      " |      `api_version` is used to set the base uri. By default it's\n",
      " |      '1.1'.\n",
      " |      \n",
      " |      If `retry` is True, API rate limits will automatically be\n",
      " |      handled by waiting until the next reset, as indicated by\n",
      " |      the X-Rate-Limit-Reset HTTP header. If retry is an integer,\n",
      " |      it defines the number of retries attempted.\n",
      " |  \n",
      " |  ----------------------------------------------------------------------\n",
      " |  Methods inherited from TwitterCall:\n",
      " |  \n",
      " |  __call__(self, **kwargs)\n",
      " |  \n",
      " |  __getattr__(self, k)\n",
      " |  \n",
      " |  ----------------------------------------------------------------------\n",
      " |  Data descriptors inherited from TwitterCall:\n",
      " |  \n",
      " |  __dict__\n",
      " |      dictionary for instance variables (if defined)\n",
      " |  \n",
      " |  __weakref__\n",
      " |      list of weak references to the object (if defined)\n",
      " |  \n",
      " |  ----------------------------------------------------------------------\n",
      " |  Data and other attributes inherited from TwitterCall:\n",
      " |  \n",
      " |  TWITTER_UNAVAILABLE_WAIT = 30\n",
      "\n"
     ]
    }
   ],
   "source": [
    "from twitter import *\n",
    "help (Twitter)"
   ]
  },
  {
   "cell_type": "code",
   "execution_count": 8,
   "metadata": {
    "collapsed": false
   },
   "outputs": [
    {
     "ename": "NameError",
     "evalue": "name 'h' is not defined",
     "output_type": "error",
     "traceback": [
      "\u001b[1;31m---------------------------------------------------------------------------\u001b[0m",
      "\u001b[1;31mNameError\u001b[0m                                 Traceback (most recent call last)",
      "\u001b[1;32m<ipython-input-8-c00efeea994a>\u001b[0m in \u001b[0;36m<module>\u001b[1;34m()\u001b[0m\n\u001b[1;32m----> 1\u001b[1;33m \u001b[0mTwitter\u001b[0m \u001b[1;33m-\u001b[0m\u001b[1;33m-\u001b[0m\u001b[0mh\u001b[0m\u001b[1;33m\u001b[0m\u001b[0m\n\u001b[0m",
      "\u001b[1;31mNameError\u001b[0m: name 'h' is not defined"
     ]
    }
   ],
   "source": [
    "Twitter --h"
   ]
  },
  {
   "cell_type": "code",
   "execution_count": 12,
   "metadata": {
    "collapsed": false
   },
   "outputs": [
    {
     "name": "stdout",
     "output_type": "stream",
     "text": [
      "Collecting aylien-apiclient\n",
      "  Downloading aylien-apiclient-0.6.0.tar.gz\n",
      "Collecting httplib2>=0.9 (from aylien-apiclient)\n",
      "  Downloading httplib2-0.10.3.tar.gz (204kB)\n",
      "Building wheels for collected packages: aylien-apiclient, httplib2\n",
      "  Running setup.py bdist_wheel for aylien-apiclient: started\n",
      "  Running setup.py bdist_wheel for aylien-apiclient: finished with status 'done'\n",
      "  Stored in directory: C:\\Users\\NMath7167444\\AppData\\Local\\pip\\Cache\\wheels\\fb\\a9\\e8\\afb6f1924e90a8c2694facb86a3ac58e8a891c2e91bf416512\n",
      "  Running setup.py bdist_wheel for httplib2: started\n",
      "  Running setup.py bdist_wheel for httplib2: finished with status 'done'\n",
      "  Stored in directory: C:\\Users\\NMath7167444\\AppData\\Local\\pip\\Cache\\wheels\\ca\\ac\\5f\\749651f7925b231103f5316cacca82a487810c22d30f011c0c\n",
      "Successfully built aylien-apiclient httplib2\n",
      "Installing collected packages: httplib2, aylien-apiclient\n",
      "Successfully installed aylien-apiclient-0.6.0 httplib2-0.10.3\n"
     ]
    }
   ],
   "source": [
    "!pip install aylien-apiclient"
   ]
  },
  {
   "cell_type": "code",
   "execution_count": 14,
   "metadata": {
    "collapsed": false
   },
   "outputs": [
    {
     "name": "stdout",
     "output_type": "stream",
     "text": [
      "Collecting matplotlib.pyplot\n"
     ]
    },
    {
     "name": "stderr",
     "output_type": "stream",
     "text": [
      "  Could not find a version that satisfies the requirement matplotlib.pyplot (from versions: )\n",
      "No matching distribution found for matplotlib.pyplot\n"
     ]
    }
   ],
   "source": [
    "!pip install matplotlib.pyplot"
   ]
  },
  {
   "cell_type": "code",
   "execution_count": 17,
   "metadata": {
    "collapsed": false
   },
   "outputs": [
    {
     "name": "stdout",
     "output_type": "stream",
     "text": [
      "Collecting PyQt4\n"
     ]
    },
    {
     "name": "stderr",
     "output_type": "stream",
     "text": [
      "  Could not find a version that satisfies the requirement PyQt4 (from versions: )\n",
      "No matching distribution found for PyQt4\n"
     ]
    }
   ],
   "source": [
    "!pip install PyQt4"
   ]
  },
  {
   "cell_type": "code",
   "execution_count": 18,
   "metadata": {
    "collapsed": false
   },
   "outputs": [
    {
     "ename": "ImportError",
     "evalue": "No module named PyQt4",
     "output_type": "error",
     "traceback": [
      "\u001b[1;31m---------------------------------------------------------------------------\u001b[0m",
      "\u001b[1;31mImportError\u001b[0m                               Traceback (most recent call last)",
      "\u001b[1;32m<ipython-input-18-0fcce2ee4677>\u001b[0m in \u001b[0;36m<module>\u001b[1;34m()\u001b[0m\n\u001b[0;32m      5\u001b[0m \u001b[1;32mfrom\u001b[0m \u001b[0mpprint\u001b[0m \u001b[1;32mimport\u001b[0m \u001b[0mpprint\u001b[0m\u001b[1;33m\u001b[0m\u001b[0m\n\u001b[0;32m      6\u001b[0m \u001b[1;32mfrom\u001b[0m \u001b[0maylienapiclient\u001b[0m \u001b[1;32mimport\u001b[0m \u001b[0mtextapi\u001b[0m\u001b[1;33m\u001b[0m\u001b[0m\n\u001b[1;32m----> 7\u001b[1;33m \u001b[1;32mimport\u001b[0m \u001b[0mmatplotlib\u001b[0m\u001b[1;33m.\u001b[0m\u001b[0mpyplot\u001b[0m \u001b[1;32mas\u001b[0m \u001b[0mplt\u001b[0m\u001b[1;33m\u001b[0m\u001b[0m\n\u001b[0m\u001b[0;32m      8\u001b[0m \u001b[1;31m#-----------------------------------------------------------------------\u001b[0m\u001b[1;33m\u001b[0m\u001b[1;33m\u001b[0m\u001b[0m\n\u001b[0;32m      9\u001b[0m \u001b[1;31m# filename for saving the twitter data\u001b[0m\u001b[1;33m\u001b[0m\u001b[1;33m\u001b[0m\u001b[0m\n",
      "\u001b[1;32md:\\anaconda2\\lib\\site-packages\\matplotlib\\pyplot.py\u001b[0m in \u001b[0;36m<module>\u001b[1;34m()\u001b[0m\n\u001b[0;32m    112\u001b[0m \u001b[1;33m\u001b[0m\u001b[0m\n\u001b[0;32m    113\u001b[0m \u001b[1;32mfrom\u001b[0m \u001b[0mmatplotlib\u001b[0m\u001b[1;33m.\u001b[0m\u001b[0mbackends\u001b[0m \u001b[1;32mimport\u001b[0m \u001b[0mpylab_setup\u001b[0m\u001b[1;33m\u001b[0m\u001b[0m\n\u001b[1;32m--> 114\u001b[1;33m \u001b[0m_backend_mod\u001b[0m\u001b[1;33m,\u001b[0m \u001b[0mnew_figure_manager\u001b[0m\u001b[1;33m,\u001b[0m \u001b[0mdraw_if_interactive\u001b[0m\u001b[1;33m,\u001b[0m \u001b[0m_show\u001b[0m \u001b[1;33m=\u001b[0m \u001b[0mpylab_setup\u001b[0m\u001b[1;33m(\u001b[0m\u001b[1;33m)\u001b[0m\u001b[1;33m\u001b[0m\u001b[0m\n\u001b[0m\u001b[0;32m    115\u001b[0m \u001b[1;33m\u001b[0m\u001b[0m\n\u001b[0;32m    116\u001b[0m \u001b[0m_IP_REGISTERED\u001b[0m \u001b[1;33m=\u001b[0m \u001b[0mNone\u001b[0m\u001b[1;33m\u001b[0m\u001b[0m\n",
      "\u001b[1;32md:\\anaconda2\\lib\\site-packages\\matplotlib\\backends\\__init__.pyc\u001b[0m in \u001b[0;36mpylab_setup\u001b[1;34m()\u001b[0m\n\u001b[0;32m     30\u001b[0m     \u001b[1;31m# imports. 0 means only perform absolute imports.\u001b[0m\u001b[1;33m\u001b[0m\u001b[1;33m\u001b[0m\u001b[0m\n\u001b[0;32m     31\u001b[0m     backend_mod = __import__(backend_name,\n\u001b[1;32m---> 32\u001b[1;33m                              globals(),locals(),[backend_name],0)\n\u001b[0m\u001b[0;32m     33\u001b[0m \u001b[1;33m\u001b[0m\u001b[0m\n\u001b[0;32m     34\u001b[0m     \u001b[1;31m# Things we pull in from all backends\u001b[0m\u001b[1;33m\u001b[0m\u001b[1;33m\u001b[0m\u001b[0m\n",
      "\u001b[1;32md:\\anaconda2\\lib\\site-packages\\matplotlib\\backends\\backend_qt4agg.py\u001b[0m in \u001b[0;36m<module>\u001b[1;34m()\u001b[0m\n\u001b[0;32m     16\u001b[0m \u001b[1;33m\u001b[0m\u001b[0m\n\u001b[0;32m     17\u001b[0m \u001b[1;33m\u001b[0m\u001b[0m\n\u001b[1;32m---> 18\u001b[1;33m \u001b[1;32mfrom\u001b[0m \u001b[1;33m.\u001b[0m\u001b[0mbackend_qt5agg\u001b[0m \u001b[1;32mimport\u001b[0m \u001b[0mFigureCanvasQTAggBase\u001b[0m \u001b[1;32mas\u001b[0m \u001b[0m_FigureCanvasQTAggBase\u001b[0m\u001b[1;33m\u001b[0m\u001b[0m\n\u001b[0m\u001b[0;32m     19\u001b[0m \u001b[1;33m\u001b[0m\u001b[0m\n\u001b[0;32m     20\u001b[0m \u001b[1;32mfrom\u001b[0m \u001b[1;33m.\u001b[0m\u001b[0mbackend_agg\u001b[0m \u001b[1;32mimport\u001b[0m \u001b[0mFigureCanvasAgg\u001b[0m\u001b[1;33m\u001b[0m\u001b[0m\n",
      "\u001b[1;32md:\\anaconda2\\lib\\site-packages\\matplotlib\\backends\\backend_qt5agg.py\u001b[0m in \u001b[0;36m<module>\u001b[1;34m()\u001b[0m\n\u001b[0;32m     13\u001b[0m \u001b[1;33m\u001b[0m\u001b[0m\n\u001b[0;32m     14\u001b[0m \u001b[1;32mfrom\u001b[0m \u001b[1;33m.\u001b[0m\u001b[0mbackend_agg\u001b[0m \u001b[1;32mimport\u001b[0m \u001b[0mFigureCanvasAgg\u001b[0m\u001b[1;33m\u001b[0m\u001b[0m\n\u001b[1;32m---> 15\u001b[1;33m \u001b[1;32mfrom\u001b[0m \u001b[1;33m.\u001b[0m\u001b[0mbackend_qt5\u001b[0m \u001b[1;32mimport\u001b[0m \u001b[0mQtCore\u001b[0m\u001b[1;33m\u001b[0m\u001b[0m\n\u001b[0m\u001b[0;32m     16\u001b[0m \u001b[1;32mfrom\u001b[0m \u001b[1;33m.\u001b[0m\u001b[0mbackend_qt5\u001b[0m \u001b[1;32mimport\u001b[0m \u001b[0mQtGui\u001b[0m\u001b[1;33m\u001b[0m\u001b[0m\n\u001b[0;32m     17\u001b[0m \u001b[1;32mfrom\u001b[0m \u001b[1;33m.\u001b[0m\u001b[0mbackend_qt5\u001b[0m \u001b[1;32mimport\u001b[0m \u001b[0mFigureManagerQT\u001b[0m\u001b[1;33m\u001b[0m\u001b[0m\n",
      "\u001b[1;32md:\\anaconda2\\lib\\site-packages\\matplotlib\\backends\\backend_qt5.py\u001b[0m in \u001b[0;36m<module>\u001b[1;34m()\u001b[0m\n\u001b[0;32m     29\u001b[0m     \u001b[0mfigureoptions\u001b[0m \u001b[1;33m=\u001b[0m \u001b[0mNone\u001b[0m\u001b[1;33m\u001b[0m\u001b[0m\n\u001b[0;32m     30\u001b[0m \u001b[1;33m\u001b[0m\u001b[0m\n\u001b[1;32m---> 31\u001b[1;33m \u001b[1;32mfrom\u001b[0m \u001b[1;33m.\u001b[0m\u001b[0mqt_compat\u001b[0m \u001b[1;32mimport\u001b[0m \u001b[0mQtCore\u001b[0m\u001b[1;33m,\u001b[0m \u001b[0mQtGui\u001b[0m\u001b[1;33m,\u001b[0m \u001b[0mQtWidgets\u001b[0m\u001b[1;33m,\u001b[0m \u001b[0m_getSaveFileName\u001b[0m\u001b[1;33m,\u001b[0m \u001b[0m__version__\u001b[0m\u001b[1;33m\u001b[0m\u001b[0m\n\u001b[0m\u001b[0;32m     32\u001b[0m \u001b[1;32mfrom\u001b[0m \u001b[0mmatplotlib\u001b[0m\u001b[1;33m.\u001b[0m\u001b[0mbackends\u001b[0m\u001b[1;33m.\u001b[0m\u001b[0mqt_editor\u001b[0m\u001b[1;33m.\u001b[0m\u001b[0mformsubplottool\u001b[0m \u001b[1;32mimport\u001b[0m \u001b[0mUiSubplotTool\u001b[0m\u001b[1;33m\u001b[0m\u001b[0m\n\u001b[0;32m     33\u001b[0m \u001b[1;33m\u001b[0m\u001b[0m\n",
      "\u001b[1;32md:\\anaconda2\\lib\\site-packages\\matplotlib\\backends\\qt_compat.py\u001b[0m in \u001b[0;36m<module>\u001b[1;34m()\u001b[0m\n\u001b[0;32m    122\u001b[0m     \u001b[1;31m# have been changed in the above if block\u001b[0m\u001b[1;33m\u001b[0m\u001b[1;33m\u001b[0m\u001b[0m\n\u001b[0;32m    123\u001b[0m     \u001b[1;32mif\u001b[0m \u001b[0mQT_API\u001b[0m \u001b[1;32min\u001b[0m \u001b[1;33m[\u001b[0m\u001b[0mQT_API_PYQT\u001b[0m\u001b[1;33m,\u001b[0m \u001b[0mQT_API_PYQTv2\u001b[0m\u001b[1;33m]\u001b[0m\u001b[1;33m:\u001b[0m  \u001b[1;31m# PyQt4 API\u001b[0m\u001b[1;33m\u001b[0m\u001b[0m\n\u001b[1;32m--> 124\u001b[1;33m         \u001b[1;32mfrom\u001b[0m \u001b[0mPyQt4\u001b[0m \u001b[1;32mimport\u001b[0m \u001b[0mQtCore\u001b[0m\u001b[1;33m,\u001b[0m \u001b[0mQtGui\u001b[0m\u001b[1;33m\u001b[0m\u001b[0m\n\u001b[0m\u001b[0;32m    125\u001b[0m \u001b[1;33m\u001b[0m\u001b[0m\n\u001b[0;32m    126\u001b[0m         \u001b[1;32mtry\u001b[0m\u001b[1;33m:\u001b[0m\u001b[1;33m\u001b[0m\u001b[0m\n",
      "\u001b[1;31mImportError\u001b[0m: No module named PyQt4"
     ]
    }
   ],
   "source": [
    "from twitter import *\n",
    "import requests\n",
    "import json\n",
    "import csv\n",
    "from pprint import pprint\n",
    "from aylienapiclient import textapi\n",
    "import matplotlib.pyplot as plt\n",
    "#-----------------------------------------------------------------------\n",
    "# filename for saving the twitter data\n",
    "#-----------------------------------------------------------------------\n",
    "\n",
    "filename = \"twitter_project.csv\"\n",
    "\n",
    "#-----------------------------------------------------------------------\n",
    "# Create Twitter API credentials \n",
    "#-----------------------------------------------------------------------\n",
    "\n",
    "config = {\"consumer_key\" : \"91Cdp6KsR8GT0trmDRvnYPjQb\",\n",
    "          \"consumer_secret\" : \"RUH5eyyOFnTEEjtdC90pZabesGzl5KcG3BdoBnz82Cgl5KHR0f\",\n",
    "          \"access_key\" : \"137959957-nChVNGjRC8aSzYOVS4myNgWsx3nTMlasejNSBWpT\",\n",
    "          \"access_secret\" : \"wwmbZehdA6TUiJ4QxhkPaVhlXwAsCbS4Qh0Wl89NqT1Ox\"}\n",
    "\n",
    "#-----------------------------------------------------------------------\n",
    "# Create AYLIEN credentials\n",
    "#-----------------------------------------------------------------------\n",
    "allient_client = textapi.Client(\"0e2d34c9\", \"d684b183362da22f89b510a2a71178d3\")\n",
    "\n",
    "#-----------------------------------------------------------------------\n",
    "# create twitter API object\n",
    "#-----------------------------------------------------------------------\n",
    "twitter = Twitter(auth = OAuth(config[\"access_key\"], config[\"access_secret\"], \n",
    "                               config[\"consumer_key\"], config[\"consumer_secret\"]))\n",
    "\n",
    "\n",
    "def write_header_to_a_csv_file():\n",
    "    with open(filename, \"ab\") as csvfile:\n",
    "        csv_writer = csv.writer(csvfile)\n",
    "        csv_writer.writerow([\"sno\",\"created_at\",\"screen_name\",\"Sentiment\", \"sentiment confidence\", \"tweet\"])\n",
    "\n",
    "def write_to_csv(sno,created_at, screen_name, sentiment_polarity, sentiment_confidence, tweet):\n",
    "    with open(filename, \"ab\") as csvfile:\n",
    "        csv_writer = csv.writer(csvfile)\n",
    "        csv_writer.writerow([sno,created_at,screen_name,sentiment_polarity,sentiment_confidence, tweet]) \n",
    "\n",
    "def get_sentiment(sentiment_string):\n",
    "    response = allient_client.Sentiment({'text': sentiment_string})\n",
    "    return (response['polarity'], str(response['polarity_confidence']))\n",
    "\n",
    "def draw_plot():\n",
    "    with open (filename, 'r') as data:\n",
    "        counter = Counter()\n",
    "        for row in csv.DictReader(data):\n",
    "            counter[row['Sentiment']] +=1\n",
    "        \n",
    "        positive = counter['positive']\n",
    "        negative = counter['negative']\n",
    "        neutral = counter['neutral']\n",
    "        colors = ['green', 'red', 'grey']\n",
    "        sizes = [positive, negative, neutral]\n",
    "        labels = 'Positive', 'Negative', 'Neutral'\n",
    "\n",
    "        plt.pie(x=sizes,\n",
    "        shadow=True,\n",
    "        colors=colors,\n",
    "        labels=labels,\n",
    "        startangle=90)\n",
    "        plt.title(\"Sentiment of {} Tweets about {}\".format(tweetCount, searchQuery))\n",
    "        plt.show()\n",
    "\n",
    "#-----------------------------------------------------------------------\n",
    "# perform a basic search \n",
    "# Twitter API docs:\n",
    "# https://developer.twitter.com/en/docs/tweets/search/api-reference/get-search-tweets.html\n",
    "#-----------------------------------------------------------------------\n",
    "maxTweets = 10000   # Some arbitrary large number\n",
    "tweetsPerQry = 100  # this is the max the API permits\n",
    "#searchQuery = 'ONGC'  # this is what we're searching for\n",
    "searchQuery = raw_input(\"What stock do you want to analyze?\\n\")\n",
    "tweetCount = 0\n",
    "data = []\n",
    "\n",
    "write_header_to_a_csv_file()\n",
    "\n",
    "while (tweetCount < maxTweets) :\n",
    "    if (tweetCount == 0) :\n",
    "        query  = twitter.search.tweets(q = searchQuery,lang=\"en\",count=tweetsPerQry)\n",
    "    else :\n",
    "        query  = twitter.search.tweets(q = searchQuery,lang=\"en\",count=tweetsPerQry,max_id=max_id_str)\n",
    "\n",
    "    #pprint (query)      \n",
    "    for result in query[\"statuses\"]:\n",
    "        #print \"(%s) @%s %s\" % (result[\"created_at\"], result[\"user\"][\"screen_name\"], result[\"text\"])\n",
    "        data = [result[\"created_at\"], result[\"user\"][\"screen_name\"], result[\"text\"]]\n",
    "        data = map(lambda x: x.encode('unicode-escape').decode('utf-8'),data) \n",
    "        #print(data)\n",
    "        print \"Analyzing Tweet \" + str(tweetCount)\n",
    "        sentiment_polarity, sentiment_confidence = get_sentiment(data[2])\n",
    "        write_to_csv(tweetCount,data[0], data[1], sentiment_polarity, str(sentiment_confidence), data[2])\n",
    "        tweetCount += 1\n",
    "    pprint(tweetCount)         \n",
    "    try : \n",
    "        new_url = query[\"search_metadata\"][\"next_results\"] \n",
    "        max_id_str =new_url.split(\"&\")[0].split(\"=\")[-1]\n",
    "        pprint ((max_id_str))\n",
    "        #pprint (data)       \n",
    "    except KeyError: \n",
    "        print(\"No more tweets found\")\n",
    "        break\n",
    "    draw_plot()\n"
   ]
  },
  {
   "cell_type": "code",
   "execution_count": 20,
   "metadata": {
    "collapsed": false
   },
   "outputs": [
    {
     "name": "stdout",
     "output_type": "stream",
     "text": [
      "Requirement already satisfied: matplotlib in d:\\anaconda2\\lib\\site-packages\n",
      "Requirement already satisfied: numpy>=1.6 in d:\\anaconda2\\lib\\site-packages (from matplotlib)\n",
      "Requirement already satisfied: python-dateutil in d:\\anaconda2\\lib\\site-packages (from matplotlib)\n",
      "Requirement already satisfied: pytz in d:\\anaconda2\\lib\\site-packages (from matplotlib)\n",
      "Requirement already satisfied: cycler in d:\\anaconda2\\lib\\site-packages (from matplotlib)\n",
      "Requirement already satisfied: pyparsing!=2.0.4,>=1.5.6 in d:\\anaconda2\\lib\\site-packages (from matplotlib)\n",
      "Requirement already satisfied: six>=1.5 in d:\\anaconda2\\lib\\site-packages (from python-dateutil->matplotlib)\n"
     ]
    }
   ],
   "source": [
    "!pip install matplotlib"
   ]
  },
  {
   "cell_type": "code",
   "execution_count": 21,
   "metadata": {
    "collapsed": false
   },
   "outputs": [
    {
     "ename": "ImportError",
     "evalue": "No module named PyQt4",
     "output_type": "error",
     "traceback": [
      "\u001b[1;31m---------------------------------------------------------------------------\u001b[0m",
      "\u001b[1;31mImportError\u001b[0m                               Traceback (most recent call last)",
      "\u001b[1;32m<ipython-input-21-b3c6d9b91ff7>\u001b[0m in \u001b[0;36m<module>\u001b[1;34m()\u001b[0m\n\u001b[1;32m----> 1\u001b[1;33m \u001b[1;32mimport\u001b[0m \u001b[0mmatplotlib\u001b[0m\u001b[1;33m.\u001b[0m\u001b[0mpyplot\u001b[0m \u001b[1;32mas\u001b[0m \u001b[0mplt\u001b[0m\u001b[1;33m\u001b[0m\u001b[0m\n\u001b[0m\u001b[0;32m      2\u001b[0m \u001b[0mplt\u001b[0m\u001b[1;33m.\u001b[0m\u001b[0mshow\u001b[0m\u001b[1;33m(\u001b[0m\u001b[1;33m)\u001b[0m\u001b[1;33m\u001b[0m\u001b[0m\n",
      "\u001b[1;32md:\\anaconda2\\lib\\site-packages\\matplotlib\\pyplot.py\u001b[0m in \u001b[0;36m<module>\u001b[1;34m()\u001b[0m\n\u001b[0;32m    112\u001b[0m \u001b[1;33m\u001b[0m\u001b[0m\n\u001b[0;32m    113\u001b[0m \u001b[1;32mfrom\u001b[0m \u001b[0mmatplotlib\u001b[0m\u001b[1;33m.\u001b[0m\u001b[0mbackends\u001b[0m \u001b[1;32mimport\u001b[0m \u001b[0mpylab_setup\u001b[0m\u001b[1;33m\u001b[0m\u001b[0m\n\u001b[1;32m--> 114\u001b[1;33m \u001b[0m_backend_mod\u001b[0m\u001b[1;33m,\u001b[0m \u001b[0mnew_figure_manager\u001b[0m\u001b[1;33m,\u001b[0m \u001b[0mdraw_if_interactive\u001b[0m\u001b[1;33m,\u001b[0m \u001b[0m_show\u001b[0m \u001b[1;33m=\u001b[0m \u001b[0mpylab_setup\u001b[0m\u001b[1;33m(\u001b[0m\u001b[1;33m)\u001b[0m\u001b[1;33m\u001b[0m\u001b[0m\n\u001b[0m\u001b[0;32m    115\u001b[0m \u001b[1;33m\u001b[0m\u001b[0m\n\u001b[0;32m    116\u001b[0m \u001b[0m_IP_REGISTERED\u001b[0m \u001b[1;33m=\u001b[0m \u001b[0mNone\u001b[0m\u001b[1;33m\u001b[0m\u001b[0m\n",
      "\u001b[1;32md:\\anaconda2\\lib\\site-packages\\matplotlib\\backends\\__init__.pyc\u001b[0m in \u001b[0;36mpylab_setup\u001b[1;34m()\u001b[0m\n\u001b[0;32m     30\u001b[0m     \u001b[1;31m# imports. 0 means only perform absolute imports.\u001b[0m\u001b[1;33m\u001b[0m\u001b[1;33m\u001b[0m\u001b[0m\n\u001b[0;32m     31\u001b[0m     backend_mod = __import__(backend_name,\n\u001b[1;32m---> 32\u001b[1;33m                              globals(),locals(),[backend_name],0)\n\u001b[0m\u001b[0;32m     33\u001b[0m \u001b[1;33m\u001b[0m\u001b[0m\n\u001b[0;32m     34\u001b[0m     \u001b[1;31m# Things we pull in from all backends\u001b[0m\u001b[1;33m\u001b[0m\u001b[1;33m\u001b[0m\u001b[0m\n",
      "\u001b[1;32md:\\anaconda2\\lib\\site-packages\\matplotlib\\backends\\backend_qt4agg.py\u001b[0m in \u001b[0;36m<module>\u001b[1;34m()\u001b[0m\n\u001b[0;32m     16\u001b[0m \u001b[1;33m\u001b[0m\u001b[0m\n\u001b[0;32m     17\u001b[0m \u001b[1;33m\u001b[0m\u001b[0m\n\u001b[1;32m---> 18\u001b[1;33m \u001b[1;32mfrom\u001b[0m \u001b[1;33m.\u001b[0m\u001b[0mbackend_qt5agg\u001b[0m \u001b[1;32mimport\u001b[0m \u001b[0mFigureCanvasQTAggBase\u001b[0m \u001b[1;32mas\u001b[0m \u001b[0m_FigureCanvasQTAggBase\u001b[0m\u001b[1;33m\u001b[0m\u001b[0m\n\u001b[0m\u001b[0;32m     19\u001b[0m \u001b[1;33m\u001b[0m\u001b[0m\n\u001b[0;32m     20\u001b[0m \u001b[1;32mfrom\u001b[0m \u001b[1;33m.\u001b[0m\u001b[0mbackend_agg\u001b[0m \u001b[1;32mimport\u001b[0m \u001b[0mFigureCanvasAgg\u001b[0m\u001b[1;33m\u001b[0m\u001b[0m\n",
      "\u001b[1;32md:\\anaconda2\\lib\\site-packages\\matplotlib\\backends\\backend_qt5agg.py\u001b[0m in \u001b[0;36m<module>\u001b[1;34m()\u001b[0m\n\u001b[0;32m     13\u001b[0m \u001b[1;33m\u001b[0m\u001b[0m\n\u001b[0;32m     14\u001b[0m \u001b[1;32mfrom\u001b[0m \u001b[1;33m.\u001b[0m\u001b[0mbackend_agg\u001b[0m \u001b[1;32mimport\u001b[0m \u001b[0mFigureCanvasAgg\u001b[0m\u001b[1;33m\u001b[0m\u001b[0m\n\u001b[1;32m---> 15\u001b[1;33m \u001b[1;32mfrom\u001b[0m \u001b[1;33m.\u001b[0m\u001b[0mbackend_qt5\u001b[0m \u001b[1;32mimport\u001b[0m \u001b[0mQtCore\u001b[0m\u001b[1;33m\u001b[0m\u001b[0m\n\u001b[0m\u001b[0;32m     16\u001b[0m \u001b[1;32mfrom\u001b[0m \u001b[1;33m.\u001b[0m\u001b[0mbackend_qt5\u001b[0m \u001b[1;32mimport\u001b[0m \u001b[0mQtGui\u001b[0m\u001b[1;33m\u001b[0m\u001b[0m\n\u001b[0;32m     17\u001b[0m \u001b[1;32mfrom\u001b[0m \u001b[1;33m.\u001b[0m\u001b[0mbackend_qt5\u001b[0m \u001b[1;32mimport\u001b[0m \u001b[0mFigureManagerQT\u001b[0m\u001b[1;33m\u001b[0m\u001b[0m\n",
      "\u001b[1;32md:\\anaconda2\\lib\\site-packages\\matplotlib\\backends\\backend_qt5.py\u001b[0m in \u001b[0;36m<module>\u001b[1;34m()\u001b[0m\n\u001b[0;32m     29\u001b[0m     \u001b[0mfigureoptions\u001b[0m \u001b[1;33m=\u001b[0m \u001b[0mNone\u001b[0m\u001b[1;33m\u001b[0m\u001b[0m\n\u001b[0;32m     30\u001b[0m \u001b[1;33m\u001b[0m\u001b[0m\n\u001b[1;32m---> 31\u001b[1;33m \u001b[1;32mfrom\u001b[0m \u001b[1;33m.\u001b[0m\u001b[0mqt_compat\u001b[0m \u001b[1;32mimport\u001b[0m \u001b[0mQtCore\u001b[0m\u001b[1;33m,\u001b[0m \u001b[0mQtGui\u001b[0m\u001b[1;33m,\u001b[0m \u001b[0mQtWidgets\u001b[0m\u001b[1;33m,\u001b[0m \u001b[0m_getSaveFileName\u001b[0m\u001b[1;33m,\u001b[0m \u001b[0m__version__\u001b[0m\u001b[1;33m\u001b[0m\u001b[0m\n\u001b[0m\u001b[0;32m     32\u001b[0m \u001b[1;32mfrom\u001b[0m \u001b[0mmatplotlib\u001b[0m\u001b[1;33m.\u001b[0m\u001b[0mbackends\u001b[0m\u001b[1;33m.\u001b[0m\u001b[0mqt_editor\u001b[0m\u001b[1;33m.\u001b[0m\u001b[0mformsubplottool\u001b[0m \u001b[1;32mimport\u001b[0m \u001b[0mUiSubplotTool\u001b[0m\u001b[1;33m\u001b[0m\u001b[0m\n\u001b[0;32m     33\u001b[0m \u001b[1;33m\u001b[0m\u001b[0m\n",
      "\u001b[1;32md:\\anaconda2\\lib\\site-packages\\matplotlib\\backends\\qt_compat.py\u001b[0m in \u001b[0;36m<module>\u001b[1;34m()\u001b[0m\n\u001b[0;32m    122\u001b[0m     \u001b[1;31m# have been changed in the above if block\u001b[0m\u001b[1;33m\u001b[0m\u001b[1;33m\u001b[0m\u001b[0m\n\u001b[0;32m    123\u001b[0m     \u001b[1;32mif\u001b[0m \u001b[0mQT_API\u001b[0m \u001b[1;32min\u001b[0m \u001b[1;33m[\u001b[0m\u001b[0mQT_API_PYQT\u001b[0m\u001b[1;33m,\u001b[0m \u001b[0mQT_API_PYQTv2\u001b[0m\u001b[1;33m]\u001b[0m\u001b[1;33m:\u001b[0m  \u001b[1;31m# PyQt4 API\u001b[0m\u001b[1;33m\u001b[0m\u001b[0m\n\u001b[1;32m--> 124\u001b[1;33m         \u001b[1;32mfrom\u001b[0m \u001b[0mPyQt4\u001b[0m \u001b[1;32mimport\u001b[0m \u001b[0mQtCore\u001b[0m\u001b[1;33m,\u001b[0m \u001b[0mQtGui\u001b[0m\u001b[1;33m\u001b[0m\u001b[0m\n\u001b[0m\u001b[0;32m    125\u001b[0m \u001b[1;33m\u001b[0m\u001b[0m\n\u001b[0;32m    126\u001b[0m         \u001b[1;32mtry\u001b[0m\u001b[1;33m:\u001b[0m\u001b[1;33m\u001b[0m\u001b[0m\n",
      "\u001b[1;31mImportError\u001b[0m: No module named PyQt4"
     ]
    }
   ],
   "source": [
    "import matplotlib.pyplot as plt\n",
    "plt.show()"
   ]
  },
  {
   "cell_type": "code",
   "execution_count": null,
   "metadata": {
    "collapsed": true
   },
   "outputs": [],
   "source": []
  }
 ],
 "metadata": {
  "kernelspec": {
   "display_name": "Python 2",
   "language": "python",
   "name": "python2"
  },
  "language_info": {
   "codemirror_mode": {
    "name": "ipython",
    "version": 2
   },
   "file_extension": ".py",
   "mimetype": "text/x-python",
   "name": "python",
   "nbconvert_exporter": "python",
   "pygments_lexer": "ipython2",
   "version": "2.7.13"
  }
 },
 "nbformat": 4,
 "nbformat_minor": 0
}
