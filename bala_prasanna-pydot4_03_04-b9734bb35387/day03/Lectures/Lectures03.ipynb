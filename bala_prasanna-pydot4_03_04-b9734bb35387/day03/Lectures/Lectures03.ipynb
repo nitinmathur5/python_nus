{
 "cells": [
  {
   "cell_type": "markdown",
   "metadata": {},
   "source": [
    "## <font color=grey>Lecture Notes: Day 03 - File System & Process </font>\n",
    "\n",
    "## Topics covered\n",
    "- Files\n",
    "- Read Inputs\n",
    "- CSV Files \n",
    "- Excel Spreadsheet\n",
    "- Time "
   ]
  },
  {
   "cell_type": "markdown",
   "metadata": {},
   "source": [
    "## <font color=red>** Files **</font> "
   ]
  },
  {
   "cell_type": "markdown",
   "metadata": {},
   "source": [
    "**What**: To store data permanently, you have to put it in a **file**. When there are a large number of files, they are often organized into **directories** (also called \"folders\"). "
   ]
  },
  {
   "cell_type": "markdown",
   "metadata": {},
   "source": [
    "The following are different **modes** for files: \n",
    "\n",
    "* **w**: opening the file for writing \n",
    "* **r**: reading\n",
    "* **a**: appending\n",
    "* **+**: creates a new file if doesn't exist"
   ]
  },
  {
   "cell_type": "code",
   "execution_count": 1,
   "metadata": {
    "collapsed": false,
    "scrolled": true
   },
   "outputs": [
    {
     "name": "stdout",
     "output_type": "stream",
     "text": [
      "Help on built-in function open in module __builtin__:\n",
      "\n",
      "open(...)\n",
      "    open(name[, mode[, buffering]]) -> file object\n",
      "    \n",
      "    Open a file using the file() type, returns a file object.  This is the\n",
      "    preferred way to open a file.  See file.__doc__ for further information.\n",
      "\n"
     ]
    }
   ],
   "source": [
    "help (open)\n"
   ]
  },
  {
   "cell_type": "code",
   "execution_count": 6,
   "metadata": {
    "collapsed": false,
    "scrolled": false
   },
   "outputs": [
    {
     "data": {
      "text/plain": [
       "file"
      ]
     },
     "execution_count": 6,
     "metadata": {},
     "output_type": "execute_result"
    }
   ],
   "source": [
    "f = open(\"months.txt\", \"r\")\n",
    "type (f)   #this means, its a file object\n",
    "#help(f)    ## this means the f, file object, is a class; now look at the member functions of this class"
   ]
  },
  {
   "cell_type": "code",
   "execution_count": 8,
   "metadata": {
    "collapsed": false
   },
   "outputs": [
    {
     "data": {
      "text/plain": [
       "'months.txt'"
      ]
     },
     "execution_count": 8,
     "metadata": {},
     "output_type": "execute_result"
    }
   ],
   "source": [
    "f.name\n"
   ]
  },
  {
   "cell_type": "code",
   "execution_count": 13,
   "metadata": {
    "collapsed": false
   },
   "outputs": [
    {
     "name": "stdout",
     "output_type": "stream",
     "text": [
      "<type 'list'>\n",
      "['January\\n', 'February\\n', 'March\\n', 'April\\n', 'May\\n', 'June\\n', 'July\\n', 'August\\n', 'September\\n', 'October\\n', 'November\\n', 'December']\n"
     ]
    }
   ],
   "source": [
    "f = open (\"months.txt\", \"r\")\n",
    "#file_contents = f.read()       #this creates a buffered string\n",
    "file_contents = f.readlines()   #this creates list of strings\n",
    "print (type(file_contents))\n",
    "print (file_contents)\n",
    "f.close()"
   ]
  },
  {
   "cell_type": "markdown",
   "metadata": {},
   "source": [
    "### Opening a file - Writing in it - Closing the file "
   ]
  },
  {
   "cell_type": "markdown",
   "metadata": {},
   "source": [
    "** Opening the file ** \n",
    "\n",
    "* To open a file and write in it, the syntax is: \n",
    "* **Note**: if there is no file with that name, it will be created automatically \n",
    "* **Note**: in code, we refer to the file with the **variable name** NOT the file name \n",
    "\n",
    "![Opening%20a%20file.png](attachment:Opening%20a%20file.png)"
   ]
  },
  {
   "cell_type": "code",
   "execution_count": 16,
   "metadata": {
    "collapsed": true
   },
   "outputs": [],
   "source": [
    "# Opening a file - write in the file - close the file\n",
    "# SYNTAX: open(\"file_name\", \"mode\")\n",
    "\n",
    "f = open(\"test.txt\",\"w\")\n",
    "# if no file name \"test.txt\" exists, it will be created."
   ]
  },
  {
   "cell_type": "markdown",
   "metadata": {},
   "source": [
    "** Writing in the file ** \n",
    "\n",
    "* To write in the file, the syntax is: \n",
    "![write%20in%20file.png](attachment:write%20in%20file.png)"
   ]
  },
  {
   "cell_type": "code",
   "execution_count": null,
   "metadata": {
    "collapsed": true
   },
   "outputs": [],
   "source": [
    "# Putting data in the file with write method on the file object\n",
    "\n",
    "f.write(\"This is first sentence\\nwelcome\\n\")\n",
    "f.write(\"This is second sentence\\ngood bye\\n\") "
   ]
  },
  {
   "cell_type": "markdown",
   "metadata": {},
   "source": [
    "** Closing the file ** \n",
    "\n",
    "* Remember we refer to files with the variable name (assigned when opening the file) **NOT** the file name (what is stored in the computer) \n",
    "* To close the file, the syntax is: \n",
    "![close%20file.png](attachment:close%20file.png)"
   ]
  },
  {
   "cell_type": "code",
   "execution_count": null,
   "metadata": {
    "collapsed": true
   },
   "outputs": [],
   "source": [
    "# Closing the file\n",
    "\n",
    "f.close() "
   ]
  },
  {
   "cell_type": "markdown",
   "metadata": {},
   "source": [
    "### Reading a file "
   ]
  },
  {
   "cell_type": "markdown",
   "metadata": {},
   "source": [
    "** Using file_name.read() syntax ** "
   ]
  },
  {
   "cell_type": "code",
   "execution_count": 5,
   "metadata": {
    "collapsed": false
   },
   "outputs": [
    {
     "name": "stdout",
     "output_type": "stream",
     "text": [
      "This is first sentence\n",
      "welcome\n",
      "This is second sentence\n",
      "good bye\n",
      "\n"
     ]
    }
   ],
   "source": [
    "# Read method reads the entire contents of the file\n",
    "\n",
    "f = open(\"test.txt\",\"r\")\n",
    "text = f.read() \n",
    "print (text) \n",
    "\n",
    "f.close()"
   ]
  },
  {
   "cell_type": "markdown",
   "metadata": {},
   "source": [
    "** Using file_name.readlines() syntax ** \n",
    "* This syntax returns all of the lines as a list of strings\n",
    "* The output is in list format\n",
    "* The strings appear with quotations (\"\") "
   ]
  },
  {
   "cell_type": "code",
   "execution_count": null,
   "metadata": {
    "collapsed": true
   },
   "outputs": [],
   "source": [
    "f = open(\"test.txt\",\"r\")\n",
    "text = f.readlines()\n",
    "\n",
    "print text\n",
    "f.close()"
   ]
  },
  {
   "cell_type": "markdown",
   "metadata": {},
   "source": [
    "** Using a for loop to process the file line by line ** \n",
    "* This means we do not load the whole file in the memory "
   ]
  },
  {
   "cell_type": "code",
   "execution_count": 8,
   "metadata": {
    "collapsed": false
   },
   "outputs": [
    {
     "name": "stdout",
     "output_type": "stream",
     "text": [
      "<type 'file'>\n",
      "This is first sentence\n",
      "\n",
      "welcome\n",
      "\n",
      "This is second sentence\n",
      "\n",
      "good bye\n",
      "\n"
     ]
    }
   ],
   "source": [
    "f = open(\"test.txt\",\"r\")\n",
    "print type(f)\n",
    "for line in f:    \n",
    "    print line"
   ]
  },
  {
   "cell_type": "markdown",
   "metadata": {},
   "source": [
    "** Separating lines into different variables ** \n",
    "\n",
    "* The readline method reads all the characters up to and including the next newline character (one entire line from the file) "
   ]
  },
  {
   "cell_type": "code",
   "execution_count": 9,
   "metadata": {
    "collapsed": false
   },
   "outputs": [
    {
     "name": "stdout",
     "output_type": "stream",
     "text": [
      "First line: This is first sentence\n",
      "\n",
      "Second line: welcome\n",
      "\n",
      "Third line: This is second sentence\n",
      "\n"
     ]
    }
   ],
   "source": [
    "f = open(\"test.txt\",\"r\")\n",
    "\n",
    "text1 = f.readline()\n",
    "text2 = f.readline()\n",
    "text3 = f.readline()\n",
    "\n",
    "print (\"First line: \" + text1)\n",
    "print (\"Second line: \" + text2)\n",
    "print (\"Third line: \" + text3)"
   ]
  },
  {
   "cell_type": "markdown",
   "metadata": {},
   "source": [
    "# <font color = red> Read Inputs </font>"
   ]
  },
  {
   "cell_type": "markdown",
   "metadata": {},
   "source": [
    "## - Accessing Command Line Arguments Inside Script"
   ]
  },
  {
   "cell_type": "code",
   "execution_count": 2,
   "metadata": {
    "collapsed": false
   },
   "outputs": [
    {
     "name": "stdout",
     "output_type": "stream",
     "text": [
      "This is the name of the script:  /usr/local/lib/python2.7/dist-packages/ipykernel_launcher.py\n",
      "Number of arguments:  3\n",
      "The arguments are:  ['/usr/local/lib/python2.7/dist-packages/ipykernel_launcher.py', '-f', '/home/bala/.local/share/jupyter/runtime/kernel-c6e1da60-c0cd-4266-a337-2be0a8ae6dd1.json']\n"
     ]
    }
   ],
   "source": [
    "import sys\n",
    "\n",
    "print \"This is the name of the script: \", sys.argv[0]\n",
    "print \"Number of arguments: \", len(sys.argv)\n",
    "print \"The arguments are: \" , str(sys.argv)"
   ]
  },
  {
   "cell_type": "markdown",
   "metadata": {},
   "source": [
    "## - Create File Using Python"
   ]
  },
  {
   "cell_type": "code",
   "execution_count": 16,
   "metadata": {
    "collapsed": true
   },
   "outputs": [],
   "source": [
    "# The available option beside \"w\" are \"r\" for read and \"a\" for append  \n",
    "f = open(\"newFile.txt\", \"w\") "
   ]
  },
  {
   "cell_type": "markdown",
   "metadata": {},
   "source": [
    "## - Append to File\n",
    "Use the write() method to append something to the end of the file."
   ]
  },
  {
   "cell_type": "code",
   "execution_count": 17,
   "metadata": {
    "collapsed": true
   },
   "outputs": [],
   "source": [
    "f = open(\"newFile.txt\", \"a\") # remember: a stands for append\n",
    "for i in range(5):\n",
    "    f.write(\"Appended line %d\\r\\n\" %(i+1))\n",
    "        \n",
    "f.close() # close file"
   ]
  },
  {
   "cell_type": "markdown",
   "metadata": {},
   "source": [
    "## - Copy Contents From File & Append to Another File "
   ]
  },
  {
   "cell_type": "code",
   "execution_count": 18,
   "metadata": {
    "collapsed": true
   },
   "outputs": [],
   "source": [
    "f_old = open(\"newFile.txt\",\"r\")\n",
    "f_new = open(\"finalFile.txt\", \"w+\")\n",
    "\n",
    "for line in f_old.readlines():\n",
    "    f_new.write(line)\n",
    "\n",
    "f_new.close()\n",
    "f_old.close()"
   ]
  },
  {
   "cell_type": "markdown",
   "metadata": {},
   "source": [
    "## <font color=red>** CSV (Comma Separated Values) File **</font> "
   ]
  },
  {
   "cell_type": "markdown",
   "metadata": {},
   "source": [
    "CSV is a simple file format used to store tabular data, such as a spreadsheet or database. Files in the CSV format can be imported to and exported from programs that store data in tables, such as Microsoft Excel or OpenOffice Calc. \n",
    "\n",
    "**Easy way: **"
   ]
  },
  {
   "cell_type": "code",
   "execution_count": 39,
   "metadata": {
    "collapsed": true
   },
   "outputs": [],
   "source": [
    "#write to csv \n",
    "import csv\n",
    "with open('eggs.csv', 'wb') as csvfile:\n",
    "    spamwriter = csv.writer(csvfile, delimiter=' ') #elements of the csv file will be separated by spaces \n",
    "    spamwriter.writerow(['Spam'] * 5 + ['Baked Beans'])\n",
    "    spamwriter.writerow(['Spam', 'Lovely Spam', 'Wonderful Spam'])"
   ]
  },
  {
   "cell_type": "code",
   "execution_count": 40,
   "metadata": {
    "collapsed": false
   },
   "outputs": [
    {
     "name": "stdout",
     "output_type": "stream",
     "text": [
      "['Spam', 'Spam', 'Spam', 'Spam', 'Spam', 'Baked Beans']\n",
      "['Spam', 'Lovely Spam', 'Wonderful Spam']\n"
     ]
    }
   ],
   "source": [
    "#csv reader:\n",
    "import csv\n",
    "with open('eggs.csv', 'rb') as csvfile:\n",
    "    spamreader = csv.reader(csvfile, delimiter=' ')\n",
    "    for row in spamreader:\n",
    "        print(row)"
   ]
  },
  {
   "cell_type": "markdown",
   "metadata": {},
   "source": [
    "**Harder way:** Treat the CSV files as dictionaries. This way is **prefered** because it allows you to easily access each separate column. "
   ]
  },
  {
   "cell_type": "code",
   "execution_count": 28,
   "metadata": {
    "collapsed": false
   },
   "outputs": [
    {
     "name": "stdout",
     "output_type": "stream",
     "text": [
      "header written\n",
      "row written\n"
     ]
    }
   ],
   "source": [
    "#Writer:\n",
    "import csv\n",
    "\n",
    "#name of csv file\n",
    "name_of_file = \"class.csv\"\n",
    "#open in write mode\n",
    "csvfile = open(name_of_file, 'w') \n",
    "\n",
    "#set column headers in a list\n",
    "fieldnames = ['student_name', 'attendance']\n",
    "#configuration to write to csv\n",
    "writer = csv.DictWriter(csvfile, fieldnames=fieldnames)\n",
    "#invoke method to read header\n",
    "writer.writeheader()\n",
    "#visual cue for header written\n",
    "print(\"header written\")\n",
    "#set data to be written in a dictionary\n",
    "writer.writerow({'student_name': 'Bala', 'attendance': 'present'})\n",
    "writer.writerow({'student_name': 'Bala1', 'attendance': 'absent'})\n",
    "#visual cue for row written\n",
    "print(\"row written\")"
   ]
  },
  {
   "cell_type": "code",
   "execution_count": 2,
   "metadata": {
    "collapsed": false
   },
   "outputs": [
    {
     "name": "stdout",
     "output_type": "stream",
     "text": [
      "{'student_name': 'Bala', 'attendance': 'present'}\n",
      "Bala\n",
      "{'student_name': 'Bala1', 'attendance': 'absent'}\n",
      "Bala1\n"
     ]
    }
   ],
   "source": [
    "#Reader: \n",
    "import csv\n",
    "\n",
    "#name of csv file\n",
    "name = \"class.csv\"\n",
    "#open in write mode\n",
    "csvfile = open(name, 'r') \n",
    "\n",
    "#configuration to write to csv\n",
    "reader = csv.DictReader(csvfile)\n",
    "#invoke method to read header\n",
    "\n",
    "for row in reader:\n",
    "    print row\n",
    "    print row[\"student_name\"] #just to show you that you can choose to only print the data of only one column!  \n",
    "\n",
    "\n"
   ]
  },
  {
   "cell_type": "markdown",
   "metadata": {},
   "source": [
    "## <font color=red>** Excel Spreadsheet **</font> \n",
    "\n",
    "** Read and Write to Excel Spreadsheet ** "
   ]
  },
  {
   "cell_type": "markdown",
   "metadata": {},
   "source": [
    "Note: You will first have to do the following commands to install a third party module: \n",
    "        pip install pyexcel\n",
    "        pip install pyexcel-xls\n",
    "        \n",
    "Full documentation: http://pyexcel-io.readthedocs.io/en/latest/"
   ]
  },
  {
   "cell_type": "markdown",
   "metadata": {},
   "source": [
    "** Write excel file **"
   ]
  },
  {
   "cell_type": "code",
   "execution_count": 3,
   "metadata": {
    "collapsed": true
   },
   "outputs": [],
   "source": [
    "#Write\n",
    "import pyexcel\n",
    "import pyexcel_xls #Convention: The name is pyexcel-xls but you must import pyexcel_xls. Hyphens get turned to underscores!!\n",
    "\n",
    "#Standard, one-sheet method: \n",
    "array = [[\"col 1\", \"col 2\", \"col 3\"], [1, 2, 3], [4, 5, 6], [7, 8, 9]]\n",
    "# \"output.csv\" \"output.xlsx\" \"output.ods\" \"output.xlsm\" show the different file types you can save as. \n",
    "sheet = pyexcel.Sheet(array)\n",
    "sheet.save_as(\"output.xls\")"
   ]
  },
  {
   "cell_type": "markdown",
   "metadata": {},
   "source": [
    "** Read excel file as json **"
   ]
  },
  {
   "cell_type": "code",
   "execution_count": 58,
   "metadata": {
    "collapsed": false
   },
   "outputs": [
    {
     "name": "stdout",
     "output_type": "stream",
     "text": [
      "[[1, 2, 3], [4, 5, 6], [7, 8, 9]]\n"
     ]
    }
   ],
   "source": [
    "#Read \n",
    "import json\n",
    "# \"example.csv\",\"example.xlsx\",\"example.xlsm\"\n",
    "sheet = pyexcel.get_sheet(file_name=\"output.xls\")\n",
    "print(json.dumps(sheet.to_array()))"
   ]
  },
  {
   "cell_type": "markdown",
   "metadata": {},
   "source": [
    "** Read excel file as a dictionary **"
   ]
  },
  {
   "cell_type": "code",
   "execution_count": 4,
   "metadata": {
    "collapsed": false
   },
   "outputs": [
    {
     "name": "stdout",
     "output_type": "stream",
     "text": [
      "pyexcel sheet:\n",
      "+-------+-------+-------+\n",
      "| col 1 | col 2 | col 3 |\n",
      "+=======+=======+=======+\n",
      "| 1     | 2     | 3     |\n",
      "+-------+-------+-------+\n",
      "| 4     | 5     | 6     |\n",
      "+-------+-------+-------+\n",
      "| 7     | 8     | 9     |\n",
      "+-------+-------+-------+\n",
      "[1, 4, 7]\n",
      "2\n",
      "5\n",
      "8\n"
     ]
    }
   ],
   "source": [
    "#Read as a dictionary \n",
    "sheet = pyexcel.get_sheet(file_name=\"output.xls\", name_columns_by_row=0)\n",
    "print (sheet)\n",
    "\n",
    "first_column=sheet.to_dict()\n",
    "print (first_column[\"col 1\"])"
   ]
  },
  {
   "cell_type": "markdown",
   "metadata": {},
   "source": [
    "** Write multi-sheet excel file **"
   ]
  },
  {
   "cell_type": "code",
   "execution_count": 75,
   "metadata": {
    "collapsed": true
   },
   "outputs": [],
   "source": [
    "#Write multiple-sheet excel file \n",
    "content = {\n",
    "    'Sheet 1':\n",
    "        [\n",
    "            [1.0, 2.0, 3.0],\n",
    "            [4.0, 5.0, 6.0],\n",
    "            [7.0, 8.0, 9.0]\n",
    "        ],\n",
    "    'Sheet 2':\n",
    "        [\n",
    "            ['X', 'Y', 'Z'],\n",
    "            [1.0, 2.0, 3.0],\n",
    "            [4.0, 5.0, 6.0]\n",
    "        ],\n",
    "    'Sheet 3':\n",
    "        [\n",
    "            ['O', 'P', 'Q'],\n",
    "            [3.0, 2.0, 1.0],\n",
    "            [4.0, 3.0, 2.0]\n",
    "        ]\n",
    "}\n",
    "book = pyexcel.get_book(bookdict=content)\n",
    "book.save_as(\"multisheet.xls\")"
   ]
  },
  {
   "cell_type": "markdown",
   "metadata": {},
   "source": [
    "** Read multi-sheet file **"
   ]
  },
  {
   "cell_type": "code",
   "execution_count": 14,
   "metadata": {
    "collapsed": false
   },
   "outputs": [
    {
     "name": "stdout",
     "output_type": "stream",
     "text": [
      "Sheet 1:\n",
      "+---+---+---+\n",
      "| 1 | 2 | 3 |\n",
      "+---+---+---+\n",
      "| 4 | 5 | 6 |\n",
      "+---+---+---+\n",
      "| 7 | 8 | 9 |\n",
      "+---+---+---+\n",
      "Sheet 2:\n",
      "+---+---+---+\n",
      "| X | Y | Z |\n",
      "+---+---+---+\n",
      "| 1 | 2 | 3 |\n",
      "+---+---+---+\n",
      "| 4 | 5 | 6 |\n",
      "+---+---+---+\n",
      "Sheet 3:\n",
      "+---+---+---+\n",
      "| O | P | Q |\n",
      "+---+---+---+\n",
      "| 3 | 2 | 1 |\n",
      "+---+---+---+\n",
      "| 4 | 3 | 2 |\n",
      "+---+---+---+\n",
      "Sheet 3:\n",
      "+---+---+---+\n",
      "| O | P | Q |\n",
      "+---+---+---+\n",
      "| 3 | 2 | 1 |\n",
      "+---+---+---+\n",
      "| 4 | 3 | 2 |\n",
      "+---+---+---+\n"
     ]
    }
   ],
   "source": [
    "#Read multi-sheet file\n",
    "book = pyexcel.get_book(file_name=\"multisheet.xls\")\n",
    "sheets = book.to_dict()\n",
    "print book[\"Sheet 1\"]  \n",
    "print book[\"Sheet 2\"]\n",
    "print book[\"Sheet 3\"]\n",
    "print book[\"Sheet 3\"]"
   ]
  },
  {
   "cell_type": "markdown",
   "metadata": {},
   "source": [
    "## <font color=red>** Time **</font> \n",
    "\n",
    "** Suspend Execution for Given Number of Seconds ** \n",
    "Import time module and use time.sleep() to suspend the execution for the desired time."
   ]
  },
  {
   "cell_type": "code",
   "execution_count": null,
   "metadata": {
    "collapsed": true
   },
   "outputs": [],
   "source": [
    "import time\n",
    "\n",
    "while True:\n",
    "    print(\"Tick tock\")\n",
    "    time.sleep(5)\n",
    "    print(\"5 seconds passed\")\n",
    "    break"
   ]
  },
  {
   "cell_type": "markdown",
   "metadata": {},
   "source": [
    "## - Get Current Time"
   ]
  },
  {
   "cell_type": "code",
   "execution_count": null,
   "metadata": {
    "collapsed": true
   },
   "outputs": [],
   "source": [
    "from datetime import datetime\n",
    "print(datetime.now())"
   ]
  },
  {
   "cell_type": "markdown",
   "metadata": {},
   "source": [
    "## - Get CPU Usage & System Memory Stats"
   ]
  },
  {
   "cell_type": "code",
   "execution_count": null,
   "metadata": {
    "collapsed": true
   },
   "outputs": [],
   "source": [
    "# install library first\n",
    "#!conda install psutil\n",
    "#!pip2.7 install psutil"
   ]
  },
  {
   "cell_type": "code",
   "execution_count": null,
   "metadata": {
    "collapsed": true
   },
   "outputs": [],
   "source": [
    "import psutil\n",
    "print(psutil.cpu_percent()) #cpu usage"
   ]
  },
  {
   "cell_type": "code",
   "execution_count": null,
   "metadata": {
    "collapsed": true
   },
   "outputs": [],
   "source": [
    "print(psutil.virtual_memory().percent) #system memory"
   ]
  },
  {
   "cell_type": "markdown",
   "metadata": {},
   "source": [
    "# <font color =red>EXERCISE</font>"
   ]
  },
  {
   "cell_type": "markdown",
   "metadata": {},
   "source": [
    "## Case Model: \n",
    "#### 1. Run a program every 5 seconds\n",
    "#### 2. Use psutil to collect metrics about CPU & memory\n",
    "#### 3. Write the metrics into a csv. file"
   ]
  },
  {
   "cell_type": "markdown",
   "metadata": {
    "collapsed": true
   },
   "source": [
    "### 1. Run a program every 5 seconds\n"
   ]
  },
  {
   "cell_type": "code",
   "execution_count": null,
   "metadata": {
    "collapsed": true
   },
   "outputs": [],
   "source": [
    "# install library\n",
    "!conda install psutil "
   ]
  },
  {
   "cell_type": "code",
   "execution_count": null,
   "metadata": {
    "collapsed": true
   },
   "outputs": [],
   "source": [
    "# import library\n",
    "import csv\n",
    "import time\n",
    "from datetime import datetime\n",
    "import psutil"
   ]
  },
  {
   "cell_type": "code",
   "execution_count": null,
   "metadata": {
    "collapsed": true
   },
   "outputs": [],
   "source": [
    "\"\"\"\n",
    "This program's job is to run a function every 2 seconds. \n",
    "\"\"\"\n",
    "\n",
    "import time\n",
    "\n",
    "def tick():\n",
    "    print('Tick! The time is: %s' % datetime.now())\n",
    "\n",
    "print(\"starting...\")\n",
    "while True:\n",
    "    time.sleep(2)\n",
    "    tick()\n"
   ]
  },
  {
   "cell_type": "code",
   "execution_count": null,
   "metadata": {
    "collapsed": true
   },
   "outputs": [],
   "source": [
    "def collect_cpu_metrics():\n",
    "    print('CPU Usage: %s%%' % psutil.cpu_percent())\n",
    "\n",
    "def collect_memory_metrics():\n",
    "    print('Memory Usage: %s%%' % psutil.virtual_memory().percent)\n",
    "    \n",
    "collect_cpu_metrics()\n",
    "collect_memory_metrics()"
   ]
  },
  {
   "cell_type": "code",
   "execution_count": null,
   "metadata": {
    "collapsed": true
   },
   "outputs": [],
   "source": [
    "#VERSION 1\n",
    "#HOW TO WRITE HEADER TO CSV\n",
    "filepath = \"C:\\\\Users\\\\issguest\\\\Downloads\\\\workspace\\\\stackup_python_course_code\\\\notebooks\\\\day03\\\\\"\n",
    "name = \"cpu_and_memory.csv\"\n",
    "full_name = filepath + name\n",
    "csvfile = open(full_name, 'w')\n",
    "\n",
    "fieldnames = ['unix_time', 'cpu_percent', 'memory_percent', 'current_time']\n",
    "writer = csv.DictWriter(csvfile, fieldnames=fieldnames)    \n",
    "writer.writeheader()\n",
    "print(\"header written\")\n",
    "\n",
    "#VERSION 2\n",
    "#HOW TO WRITE HEADER TO CSV\n",
    "filepath = \"C:\\\\Users\\\\issguest\\\\Downloads\\\\workspace\\\\stackup_python_course_code\\\\notebooks\\\\day03\\\\\"\n",
    "name = \"cpu_and_memory.csv\"\n",
    "full_name = filepath + name\n",
    "with open(full_name, 'w') as csvfile:\n",
    "    fieldnames = ['unix_time', 'cpu_percent', 'memory_percent', 'current_time']\n",
    "    writer = csv.DictWriter(csvfile, fieldnames=fieldnames)    \n",
    "    writer.writeheader()\n",
    "    print(\"header written\")\n",
    "    "
   ]
  },
  {
   "cell_type": "code",
   "execution_count": null,
   "metadata": {
    "collapsed": true
   },
   "outputs": [],
   "source": [
    "import csv\n",
    "from datetime import datetime\n",
    "# WINDOWS\n",
    "filepath = \"C:\\\\Users\\\\issguest\\\\Downloads\\\\workspace\\\\stackup_python_course_code\\\\notebooks\\\\day03\\\\\"\n",
    "# LINUX / MAC\n",
    "#filepath = \"/home/std-user01/workspace/play/data-science/casemodel1/\"\n",
    "\n",
    "\n",
    "def collect_cpu_and_memory_metrics():\n",
    "    cpu_percent    = psutil.cpu_percent()\n",
    "    memory_percent = psutil.virtual_memory().percent\n",
    "    current_time   = datetime.now()\n",
    "    unix_time      = time.mktime(current_time.timetuple())\n",
    "    print('%.f' % unix_time, '%s' % cpu_percent, memory_percent, '%s' % current_time)\n",
    "    write_metrics_to_csv_file('%.f' % unix_time, '%s' % cpu_percent, memory_percent, '%s' % current_time)\n",
    "    \n",
    "def write_metrics_to_csv_file(col1, col2, col3, col4):\n",
    "    #filepath = \"/home/std-user01/workspace/play/data-science/casemodel1/\"\n",
    "    # Further improvement : create a file for every day\n",
    "    name = \"cpu_and_memory.csv\"\n",
    "    full_name = filepath + name\n",
    "    f = open(full_name, 'at')\n",
    "    try:\n",
    "        writer = csv.writer(f)\n",
    "        writer.writerow( (col1, col2, col3, col4) )\n",
    "    finally:\n",
    "        f.close()\n",
    "\n",
    "collect_cpu_and_memory_metrics()"
   ]
  },
  {
   "cell_type": "markdown",
   "metadata": {},
   "source": [
    "# Case Model: Code Answers"
   ]
  },
  {
   "cell_type": "code",
   "execution_count": null,
   "metadata": {
    "collapsed": true
   },
   "outputs": [],
   "source": [
    "\"\"\"\n",
    "This program's job is to run a function every 2 seconds. \n",
    "\"\"\"\n",
    "\n",
    "import csv\n",
    "import time\n",
    "from datetime import datetime\n",
    "\n",
    "# WINDOWS\n",
    "filepath = \"C:\\\\Users\\\\issguest\\\\Downloads\\\\workspace\\\\stackup_python_course_code\\\\notebooks\\\\day03\\\\\"\n",
    "# LINUX / MAC\n",
    "#filepath = \"/home/std-user01/workspace/play/data-science/casemodel1/\"\n",
    "\n",
    "\n",
    "def collect_cpu_and_memory_metrics():\n",
    "    cpu_percent    = psutil.cpu_percent()\n",
    "    memory_percent = psutil.virtual_memory().percent\n",
    "    current_time   = datetime.now()\n",
    "    unix_time      = time.mktime(current_time.timetuple())\n",
    "    print('%.f' % unix_time, '%s' % cpu_percent, memory_percent, '%s' % current_time)\n",
    "    write_metrics_to_csv_file('%.f' % unix_time, '%s' % cpu_percent, memory_percent, '%s' % current_time)\n",
    "    \n",
    "def write_metrics_to_csv_file(col1, col2, col3, col4):\n",
    "\n",
    "    # Further improvement : create a file for every day\n",
    "    name = \"cpu_and_memory.csv\"\n",
    "    full_name = filepath + name\n",
    "    f = open(full_name, 'at')\n",
    "    try:\n",
    "        writer = csv.writer(f)\n",
    "        writer.writerow( (col1, col2, col3, col4) )\n",
    "    finally:\n",
    "        f.close()\n",
    "\n",
    "print(\"starting to collect data every 5 seconds...\")\n",
    "   \n",
    "while True:\n",
    "    time.sleep(5)\n",
    "    collect_cpu_and_memory_metrics()\n",
    "\n"
   ]
  },
  {
   "cell_type": "markdown",
   "metadata": {},
   "source": [
    "# <font color = red> Folder</font>"
   ]
  },
  {
   "cell_type": "markdown",
   "metadata": {},
   "source": [
    "## - Check If File Exists Based on Absolute Path"
   ]
  },
  {
   "cell_type": "code",
   "execution_count": null,
   "metadata": {
    "collapsed": true
   },
   "outputs": [],
   "source": [
    "import os.path\n",
    "\n",
    "# For windows\n",
    "my_file = '/home/bala/workspace/stackup_python_course_code/task/file_process_code.ipynb'\n",
    "\n",
    "# For Linux/Mac\n",
    "# my_file = \"Users/issguest/Downloads/workspace/stackup_python_course_code/notebooks/day01/Lectures/Lecture01.ipynb\"\n",
    "\n",
    "#this os.path.exists(file) will return true if there is an existing path\n",
    "file_exists_or_not = os.path.exists(my_file)\n",
    "if(file_exists_or_not):\n",
    "    print(\"file is found\")\n",
    "else:\n",
    "    print(\"file is not found\")"
   ]
  },
  {
   "cell_type": "markdown",
   "metadata": {},
   "source": [
    "## - Check Current Working Directory"
   ]
  },
  {
   "cell_type": "code",
   "execution_count": null,
   "metadata": {
    "collapsed": true
   },
   "outputs": [],
   "source": [
    "print os.getcwd()"
   ]
  },
  {
   "cell_type": "code",
   "execution_count": null,
   "metadata": {
    "collapsed": true
   },
   "outputs": [],
   "source": [
    "# print working directory in command line\n",
    "!pwd"
   ]
  },
  {
   "cell_type": "markdown",
   "metadata": {
    "collapsed": true
   },
   "source": [
    "## - Check If Folder Exists"
   ]
  },
  {
   "cell_type": "code",
   "execution_count": null,
   "metadata": {
    "collapsed": true
   },
   "outputs": [],
   "source": [
    "import os\n",
    "\n",
    "#print os.direxists(os.path.join(os.getcwd(), 'new_folder'))\n",
    "\n",
    "#os.path.join will join \"new_folder\" with os.getcwd() safely\n",
    "#os.path.isdir(folder) will return true if there is an existing folder  \n",
    "check_folder_exist = os.path.isdir(os.path.join(os.getcwd(), 'new_folder'))\n",
    "\n",
    "if(check_folder_exist):\n",
    "    print(\"Yes, the folder exists in current directory\")\n",
    "else:\n",
    "    print(\"No, the folder does NOT exist in current directory\")"
   ]
  },
  {
   "cell_type": "markdown",
   "metadata": {},
   "source": [
    "## - Searching For File in Folder"
   ]
  },
  {
   "cell_type": "code",
   "execution_count": null,
   "metadata": {
    "collapsed": true
   },
   "outputs": [],
   "source": [
    "import glob\n",
    "\n",
    "os.chdir('/home/bala/workspace/stackup_python_course_code/')\n",
    "for file in glob.glob(\"*.md\"):\n",
    "    print(file)"
   ]
  },
  {
   "cell_type": "markdown",
   "metadata": {},
   "source": [
    "## - Backup Folder by tar/zip"
   ]
  },
  {
   "cell_type": "code",
   "execution_count": null,
   "metadata": {
    "collapsed": true
   },
   "outputs": [],
   "source": [
    "import shutil\n",
    "\n",
    "zip_name = 'newZip'\n",
    "directory_name = os.getcwd()\n",
    "\n",
    "# Create 'path\\to\\zip_file.zip'\n",
    "shutil.make_archive(zip_name, 'zip', directory_name)"
   ]
  },
  {
   "cell_type": "markdown",
   "metadata": {},
   "source": [
    "# <font color = red>EXERCISE</font>\n",
    "## Walkthrough: File Search"
   ]
  },
  {
   "cell_type": "markdown",
   "metadata": {
    "collapsed": true
   },
   "source": [
    "## - Open a file and see if a word exists or not"
   ]
  },
  {
   "cell_type": "code",
   "execution_count": null,
   "metadata": {
    "collapsed": true
   },
   "outputs": [],
   "source": [
    "import sys\n",
    "\n",
    "file_name = raw_input('Name of file to read: ')\n",
    "search_words = raw_input('Words to search for: ').split()\n",
    "\n",
    "file = open(file_name, 'r').read()\n",
    "\n",
    "for word in search_words:\n",
    "    if (file.find(word) != -1):\n",
    "        print \"The word '%s' is found\" % word\n",
    "    else:\n",
    "        print \"The word '%s' is not found\" % word"
   ]
  },
  {
   "cell_type": "markdown",
   "metadata": {
    "collapsed": true
   },
   "source": [
    "## - Read from a file and build a word dictionary, with words and its occurences"
   ]
  },
  {
   "cell_type": "code",
   "execution_count": null,
   "metadata": {
    "collapsed": true
   },
   "outputs": [],
   "source": [
    "import sys\n",
    "\n",
    "file_name = raw_input('Name of file to read: ')\n",
    "search_words = raw_input('Words to search for: ').split()\n",
    "\n",
    "file = open(file_name, 'r').read()\n",
    "\n",
    "dictionary = {}\n",
    "\n",
    "for word in file.split():\n",
    "    if dictionary.get(word, None):\n",
    "        dictionary[word] += 1\n",
    "    else:\n",
    "        dictionary[word] = 1\n",
    "\n",
    "for word in search_words:\n",
    "    print \"There are %d occurrences of '%s'\" % (dictionary.get(word, 0), word)"
   ]
  },
  {
   "cell_type": "markdown",
   "metadata": {
    "collapsed": true
   },
   "source": [
    "## - Search for a word in that file much faster using dictionary you've just created"
   ]
  },
  {
   "cell_type": "code",
   "execution_count": null,
   "metadata": {
    "collapsed": true
   },
   "outputs": [],
   "source": [
    "import sys\n",
    "\n",
    "class WordDictionary(dict):\n",
    "    def __missing__(self, key):\n",
    "        return 0\n",
    "\n",
    "file_name = raw_input('Name of file to read: ')\n",
    "\n",
    "file = open(file_name, 'r').read()\n",
    "dictionary = WordDictionary()\n",
    "\n",
    "for word in file.split():\n",
    "    dictionary[word] += 1\n",
    "\n",
    "print dictionary"
   ]
  },
  {
   "cell_type": "markdown",
   "metadata": {},
   "source": [
    "# <font color = red> urllib2 </font>"
   ]
  },
  {
   "cell_type": "code",
   "execution_count": null,
   "metadata": {
    "collapsed": true
   },
   "outputs": [],
   "source": [
    "import  urllib2\n",
    "# Load json from network and parse\n",
    "request = urllib2.Request('http://date.jsontest.com/')\n",
    "response = urllib2.urlopen(request)\n",
    "response_string = response.read()\n",
    "print(response_string)"
   ]
  },
  {
   "cell_type": "markdown",
   "metadata": {},
   "source": [
    "# <font color = red> Subprocess </font>"
   ]
  },
  {
   "cell_type": "markdown",
   "metadata": {},
   "source": [
    "The subprocess module provides a consistent interface to creating and working with additional processes. It offers a higher-level interface than some of the other available modules, and is intended to replace functions such as os.system(), os.spawn*(), os.popen*(), popen2.*() and commands.*()."
   ]
  },
  {
   "cell_type": "markdown",
   "metadata": {
    "collapsed": true
   },
   "source": [
    "## - Call Subprocess and Run Command"
   ]
  },
  {
   "cell_type": "markdown",
   "metadata": {},
   "source": [
    "To run an external command without interacting with it, such as one would do with os.system(), Use the call() function."
   ]
  },
  {
   "cell_type": "code",
   "execution_count": null,
   "metadata": {
    "collapsed": true
   },
   "outputs": [],
   "source": [
    "import subprocess\n",
    "\n",
    "# List files using shell command ls\n",
    "subprocess.call([\"ls\", \"-1\"], shell=True)\n",
    "\n",
    "# Make a new file using touch\n",
    "subprocess.call([\"touch newfile.txt\"], shell=True)"
   ]
  },
  {
   "cell_type": "markdown",
   "metadata": {},
   "source": [
    "The command line arguments are passed as a list of strings, which avoids the need for escaping quotes or other special characters that might be interpreted by the shell."
   ]
  },
  {
   "cell_type": "markdown",
   "metadata": {},
   "source": [
    "Setting the shell argument to a true value causes subprocess to spawn an intermediate shell process, and tell it to run the command. The default is to run the command directly."
   ]
  },
  {
   "cell_type": "markdown",
   "metadata": {
    "collapsed": true
   },
   "source": [
    "## - Collect Output From Subprocess"
   ]
  },
  {
   "cell_type": "markdown",
   "metadata": {},
   "source": [
    "The standard input and output channels for the process started by call() are bound to the parent’s input and output. That means the calling program cannot capture the output of the command. Use check_output() to capture the output for later processing."
   ]
  },
  {
   "cell_type": "code",
   "execution_count": null,
   "metadata": {
    "collapsed": true
   },
   "outputs": [],
   "source": [
    "string = subprocess.check_output([\"echo\", \"Hello World!\"])\n",
    "print (string)\n",
    "\n",
    "o = subprocess.check_output([\"cat /etc/passwd\"], shell=True)\n",
    "f = open('passwd', 'w')\n",
    "f.write(o)\n",
    "f.close()"
   ]
  },
  {
   "cell_type": "markdown",
   "metadata": {},
   "source": [
    "# <font color = red> JSON Parsing </font>"
   ]
  },
  {
   "cell_type": "markdown",
   "metadata": {
    "collapsed": true
   },
   "source": [
    "## - Parse JSON Output"
   ]
  },
  {
   "cell_type": "code",
   "execution_count": null,
   "metadata": {
    "collapsed": true
   },
   "outputs": [],
   "source": [
    "import json, urllib2\n",
    "from pprint import pprint\n",
    "\n",
    "# Load json from network and parse\n",
    "request = urllib2.Request('http://date.jsontest.com/')\n",
    "response = urllib2.urlopen(request)\n",
    "response_string = response.read()\n",
    "data = json.loads(response_string)\n",
    "\n",
    "# Print entire json response\n",
    "pprint(data)\n",
    "\n",
    "# Prints date field from parsed json\n",
    "print data['date']\n",
    "\n",
    "# # Load json from file and print entire response\n",
    "# data_file = open('data.json')\n",
    "# file_contents = data_file.read()\n",
    "# data2 = json.loads(file_contents)\n",
    "# data_file.close()\n",
    "\n",
    "# pprint(data2)\n",
    "# print data2['name']"
   ]
  },
  {
   "cell_type": "markdown",
   "metadata": {
    "collapsed": true
   },
   "source": [
    "# <font color = red> EXERCISE </font>\n",
    "# Walkthrough"
   ]
  },
  {
   "cell_type": "markdown",
   "metadata": {},
   "source": [
    "* Download a file from the following url [url to be provided]\n",
    "* Save the file\n",
    "* Use subprocess to run the file using Python \n",
    "* Collect the output & parse it using JSON\n",
    "* Write the response into file"
   ]
  },
  {
   "cell_type": "code",
   "execution_count": null,
   "metadata": {
    "collapsed": true
   },
   "outputs": [],
   "source": [
    "import json\n",
    "import urllib2\n",
    "import subprocess\n",
    "\n",
    "# Get the remote file\n",
    "contents = urllib2.urlopen(\"https://goo.gl/OVrc1z\").read()\n",
    "\n",
    "# Save downloaded data as a local python file\n",
    "filepy = open('runme.py', 'w')\n",
    "filepy.write(contents)\n",
    "filepy.close()\n",
    "\n",
    "# Execute python file as subprocess\n",
    "output = subprocess.check_output([\"python2.7 runme.py\"], shell=True)\n",
    "json_output = json.loads(output)\n",
    "\n",
    "# Get value of json key\n",
    "url = (json_output[\"url\"])\n",
    "\n",
    "# Write value to new file\n",
    "fileout = open('output.txt', 'w')\n",
    "fileout.write(url)\n",
    "fileout.close()"
   ]
  },
  {
   "cell_type": "code",
   "execution_count": null,
   "metadata": {
    "collapsed": true
   },
   "outputs": [],
   "source": [
    "import csv\n",
    "with open('class.csv') as csvfile:\n",
    "    reader = csv.DictReader(csvfile)\n",
    "    for row in reader:\n",
    "        print row[\"student_name\"]"
   ]
  },
  {
   "cell_type": "code",
   "execution_count": null,
   "metadata": {
    "collapsed": true
   },
   "outputs": [],
   "source": [
    "\n",
    "data = [('ngoc', 18),('david', 24)]\n",
    "head[]"
   ]
  }
 ],
 "metadata": {
  "kernelspec": {
   "display_name": "Python 2",
   "language": "python",
   "name": "python2"
  },
  "language_info": {
   "codemirror_mode": {
    "name": "ipython",
    "version": 2
   },
   "file_extension": ".py",
   "mimetype": "text/x-python",
   "name": "python",
   "nbconvert_exporter": "python",
   "pygments_lexer": "ipython2",
   "version": "2.7.13"
  }
 },
 "nbformat": 4,
 "nbformat_minor": 2
}
