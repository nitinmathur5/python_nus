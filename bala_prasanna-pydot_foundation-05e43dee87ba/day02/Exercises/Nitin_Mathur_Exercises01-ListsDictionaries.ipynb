{
 "cells": [
  {
   "cell_type": "markdown",
   "metadata": {},
   "source": [
    "## Exercise 1"
   ]
  },
  {
   "cell_type": "raw",
   "metadata": {},
   "source": [
    "Given the following dictionary:\n",
    "\n",
    "inventory = {\n",
    "    'gold' : 500,\n",
    "    'pouch' : ['flint', 'twine', 'gemstone'],\n",
    "    'backpack' : ['xylophone','dagger', 'bedroll','bread loaf']\n",
    "}\n",
    "\n",
    "Try to do the following:\n",
    "\n",
    "Add a key to inventory called 'pocket'.\n",
    "Set the value of 'pocket' to be a list consisting of the strings 'seashell', 'strange berry', and 'lint'.\n",
    ".sort()the items in the list stored under the 'backpack' key.\n",
    "Then .remove('dagger') from the list of items stored under the 'backpack' key.\n",
    "Add 50 to the number stored under the 'gold' key."
   ]
  },
  {
   "cell_type": "code",
   "execution_count": 11,
   "metadata": {
    "collapsed": false
   },
   "outputs": [
    {
     "name": "stdout",
     "output_type": "stream",
     "text": [
      "{'pocket': ['seashell', 'strange berry', 'lint'], 'backpack': ['xylophone', 'dagger', 'bedroll', 'bread loaf'], 'pouch': ['flint', 'twine', 'gemstone'], 'gold': 500}\n",
      "{'pocket': ['seashell', 'strange berry', 'lint'], 'backpack': ['bedroll', 'bread loaf', 'xylophone'], 'pouch': ['flint', 'twine', 'gemstone'], 'gold': 550}\n"
     ]
    }
   ],
   "source": [
    "inventory = {\n",
    "    'gold' : 500,\n",
    "    'pouch' : ['flint', 'twine', 'gemstone'],\n",
    "    'backpack' : ['xylophone','dagger', 'bedroll','bread loaf']\n",
    "}\n",
    "\n",
    "#Add a key called pocket\n",
    "inventory['pocket'] = [\"seashell\", \"strange berry\", \"lint\"]\n",
    "#print (inventory)\n",
    "#Sort items in the list stored under 'backpack' key\n",
    "inventory['backpack'].sort()\n",
    "#print (inventory)\n",
    "#remove dagger from the list of items stored under 'backpack' key\n",
    "inventory['backpack'].pop(2)     #didn't use remove method; used pop method\n",
    "#print (inventory)\n",
    "#Add 50 to the number stored under the 'gold' key.\n",
    "inventory['gold'] += 50\n",
    "print (inventory)"
   ]
  },
  {
   "cell_type": "markdown",
   "metadata": {},
   "source": [
    "## Exercise 2"
   ]
  },
  {
   "cell_type": "raw",
   "metadata": {},
   "source": [
    "Folow the steps bellow: -Create a new dictionary called prices using {} format like the example above.\n",
    "\n",
    "Put these values in your prices dictionary:\n",
    "\"banana\": 4,\n",
    "\"apple\": 2,\n",
    "\"orange\": 1.5,\n",
    "\"pear\": 3\n",
    "Loop through each key in prices. For each key, print out the key along with its price and stock information. Print the answer in the following format:\n",
    "apple\n",
    "price: 2\n",
    "stock: 0\n",
    "Let's determine how much money you would make if you sold all of your food.\n",
    "\n",
    "Create a variable called total and set it to zero.\n",
    "Loop through the prices dictionaries.For each key in prices, multiply the number in prices by the number in stock. Print that value into the console and then add it to total.\n",
    "Finally, outside your loop, print total."
   ]
  },
  {
   "cell_type": "code",
   "execution_count": 22,
   "metadata": {
    "collapsed": false
   },
   "outputs": [
    {
     "name": "stdout",
     "output_type": "stream",
     "text": [
      "orange\t: price 1.50\n",
      "pear\t: price 3.00\n",
      "banana\t: price 4.00\n",
      "apple\t: price 2.00\n",
      "Enter stock of orange\n",
      "3\n",
      "Enter stock of pear\n",
      "3\n",
      "Enter stock of banana\n",
      "3\n",
      "Enter stock of apple\n",
      "3\n",
      "Sale from all the food: 31.50\n"
     ]
    }
   ],
   "source": [
    "myDict = {\"banana\": [4, 0], \"apple\": [2, 0], \"orange\": [1.5, 0], \"pear\" : [3, 0]}\n",
    "allTotal = 0\n",
    "for k,v in myDict.iteritems():\n",
    "    print (\"%s\\t: price %0.2f\" %(k, v[0]))\n",
    "\n",
    "for k,v in myDict.iteritems():\n",
    "    print (\"Enter stock of %s\" %k)\n",
    "    myDict[k][1] = int(raw_input())\n",
    "    allTotal += v[0] * v[1]\n",
    "    \n",
    "print (\"Sale from all the food: %0.2f\" %allTotal)"
   ]
  },
  {
   "cell_type": "code",
   "execution_count": null,
   "metadata": {
    "collapsed": true
   },
   "outputs": [],
   "source": []
  }
 ],
 "metadata": {
  "kernelspec": {
   "display_name": "Python 2",
   "language": "python",
   "name": "python2"
  },
  "language_info": {
   "codemirror_mode": {
    "name": "ipython",
    "version": 2
   },
   "file_extension": ".py",
   "mimetype": "text/x-python",
   "name": "python",
   "nbconvert_exporter": "python",
   "pygments_lexer": "ipython2",
   "version": "2.7.13"
  }
 },
 "nbformat": 4,
 "nbformat_minor": 2
}
